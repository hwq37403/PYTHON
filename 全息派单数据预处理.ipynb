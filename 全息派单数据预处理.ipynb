{
 "cells": [
  {
   "cell_type": "code",
   "execution_count": 58,
   "metadata": {},
   "outputs": [],
   "source": [
    "import pandas as pd\n",
    "import os\n",
    "\n",
    "import tkinter as tk\n",
    "from tkinter import filedialog\n",
    "import re\n",
    "import time\n",
    "from fuzzywuzzy import fuzz"
   ]
  },
  {
   "cell_type": "markdown",
   "metadata": {},
   "source": [
    "# **1.打开号码池**"
   ]
  },
  {
   "cell_type": "markdown",
   "metadata": {},
   "source": [
    "文件类型应为csv"
   ]
  },
  {
   "cell_type": "code",
   "execution_count": 59,
   "metadata": {},
   "outputs": [
    {
     "name": "stdout",
     "output_type": "stream",
     "text": [
      "正在打开……\n"
     ]
    }
   ],
   "source": [
    "print('正在打开……')\n",
    "df_mr=pd.DataFrame()\n",
    "root = tk.Tk()\n",
    "root.withdraw()\n",
    "# path = filedialog.askopenfilename()\n",
    "# path_out, temp = os.path.split(path)\n",
    "# file_name, extension = os.path.splitext(temp)\n",
    "# print('path:', path_out)\n",
    "# print('file_name:', file_name)\n",
    "# print('extension:', extension)\n",
    "\n",
    "datapath1 = filedialog.askopenfilename()\n",
    "\n",
    "# df_mr=pd.read_excel(datapath,sheet_name='漫入')\n",
    "\n",
    "df=pd.read_csv(datapath1,encoding='GBK')\n",
    "\n",
    "# #统一变量名\n",
    "# df_whyk=df_wkyh\n",
    "\n",
    "#删除重复号码数据\n",
    "# df_whyk=df_whyk.drop_duplicates(['号码'])\n"
   ]
  },
  {
   "cell_type": "code",
   "execution_count": 43,
   "metadata": {},
   "outputs": [],
   "source": [
    "df_whyk=df[df['是否移号异宽']==1&df['宽带类型'].isnull()&df['是否移宽异号'].isnull()]"
   ]
  },
  {
   "cell_type": "code",
   "execution_count": 44,
   "metadata": {},
   "outputs": [],
   "source": [
    "df_result=pd.DataFrame(df_whyk,columns=['号码','网格','微区域','微区域网格名称','微区域名称','微区域网格ID'])"
   ]
  },
  {
   "cell_type": "code",
   "execution_count": 45,
   "metadata": {},
   "outputs": [],
   "source": [
    "df_result['类型']='移号异宽'"
   ]
  },
  {
   "cell_type": "code",
   "execution_count": 46,
   "metadata": {},
   "outputs": [
    {
     "data": {
      "text/html": [
       "<div>\n",
       "<style scoped>\n",
       "    .dataframe tbody tr th:only-of-type {\n",
       "        vertical-align: middle;\n",
       "    }\n",
       "\n",
       "    .dataframe tbody tr th {\n",
       "        vertical-align: top;\n",
       "    }\n",
       "\n",
       "    .dataframe thead th {\n",
       "        text-align: right;\n",
       "    }\n",
       "</style>\n",
       "<table border=\"1\" class=\"dataframe\">\n",
       "  <thead>\n",
       "    <tr style=\"text-align: right;\">\n",
       "      <th></th>\n",
       "      <th>号码</th>\n",
       "      <th>网格</th>\n",
       "      <th>微区域</th>\n",
       "      <th>微区域网格名称</th>\n",
       "      <th>微区域名称</th>\n",
       "      <th>微区域网格ID</th>\n",
       "      <th>类型</th>\n",
       "    </tr>\n",
       "  </thead>\n",
       "  <tbody>\n",
       "    <tr>\n",
       "      <th>0</th>\n",
       "      <td>13990917955</td>\n",
       "      <td>叙州区城区分局天池网格</td>\n",
       "      <td>叙州区柏溪镇中医院及周边</td>\n",
       "      <td>叙州区城区分局新街网格</td>\n",
       "      <td>叙州区柏溪镇中医院及周边</td>\n",
       "      <td>11000090763</td>\n",
       "      <td>移号异宽</td>\n",
       "    </tr>\n",
       "    <tr>\n",
       "      <th>1</th>\n",
       "      <td>15281422071</td>\n",
       "      <td>兴文县城市二网格</td>\n",
       "      <td>香山西路广电大楼</td>\n",
       "      <td>兴文县城市二网格</td>\n",
       "      <td>香山西路广电大楼</td>\n",
       "      <td>11000092753</td>\n",
       "      <td>移号异宽</td>\n",
       "    </tr>\n",
       "    <tr>\n",
       "      <th>2</th>\n",
       "      <td>15884750963</td>\n",
       "      <td>叙州区东区分局中渡口网格</td>\n",
       "      <td>叙州区东区分局江景苑</td>\n",
       "      <td>叙州区东区分局中渡口网格</td>\n",
       "      <td>叙州区东区分局江景苑</td>\n",
       "      <td>11000090778</td>\n",
       "      <td>移号异宽</td>\n",
       "    </tr>\n",
       "    <tr>\n",
       "      <th>3</th>\n",
       "      <td>15983145661</td>\n",
       "      <td>北乡片区四面山三网格</td>\n",
       "      <td>江安县四面山镇天佛村微网格</td>\n",
       "      <td>北乡片区四面山三网格</td>\n",
       "      <td>江安县四面山镇天佛村微网格</td>\n",
       "      <td>11000090688</td>\n",
       "      <td>移号异宽</td>\n",
       "    </tr>\n",
       "    <tr>\n",
       "      <th>4</th>\n",
       "      <td>15984134090</td>\n",
       "      <td>罗场镇一网格</td>\n",
       "      <td>罗场镇南华街网格</td>\n",
       "      <td>罗场镇一网格</td>\n",
       "      <td>罗场镇南华街网格</td>\n",
       "      <td>11000071670</td>\n",
       "      <td>移号异宽</td>\n",
       "    </tr>\n",
       "    <tr>\n",
       "      <th>...</th>\n",
       "      <td>...</td>\n",
       "      <td>...</td>\n",
       "      <td>...</td>\n",
       "      <td>...</td>\n",
       "      <td>...</td>\n",
       "      <td>...</td>\n",
       "      <td>...</td>\n",
       "    </tr>\n",
       "    <tr>\n",
       "      <th>477439</th>\n",
       "      <td>15808450914</td>\n",
       "      <td>筠连县城市六网格</td>\n",
       "      <td>筠山都市</td>\n",
       "      <td>筠连县城市三网格</td>\n",
       "      <td>筠山都市</td>\n",
       "      <td>11000070733</td>\n",
       "      <td>移号异宽</td>\n",
       "    </tr>\n",
       "    <tr>\n",
       "      <th>477440</th>\n",
       "      <td>15892546613</td>\n",
       "      <td>珙泉镇一网格</td>\n",
       "      <td>鱼池村</td>\n",
       "      <td>珙泉镇一网格</td>\n",
       "      <td>鱼池村</td>\n",
       "      <td>11000090965</td>\n",
       "      <td>移号异宽</td>\n",
       "    </tr>\n",
       "    <tr>\n",
       "      <th>477441</th>\n",
       "      <td>18208250142</td>\n",
       "      <td>叙州区城北分局喜捷网格</td>\n",
       "      <td>中山社区网格</td>\n",
       "      <td>翠屏区城市二网格</td>\n",
       "      <td>中山社区网格</td>\n",
       "      <td>11000071082</td>\n",
       "      <td>移号异宽</td>\n",
       "    </tr>\n",
       "    <tr>\n",
       "      <th>477442</th>\n",
       "      <td>18283199357</td>\n",
       "      <td>叙州区城北分局未来网格</td>\n",
       "      <td>银龙名居景园</td>\n",
       "      <td>翠屏区城市十四网格</td>\n",
       "      <td>银龙名居景园</td>\n",
       "      <td>11000090909</td>\n",
       "      <td>移号异宽</td>\n",
       "    </tr>\n",
       "    <tr>\n",
       "      <th>477443</th>\n",
       "      <td>18783003587</td>\n",
       "      <td>城郊片区桐梓一网格</td>\n",
       "      <td>魅力欧镇小区</td>\n",
       "      <td>江安县城市二网格</td>\n",
       "      <td>魅力欧镇小区</td>\n",
       "      <td>11000083691</td>\n",
       "      <td>移号异宽</td>\n",
       "    </tr>\n",
       "  </tbody>\n",
       "</table>\n",
       "<p>360667 rows × 7 columns</p>\n",
       "</div>"
      ],
      "text/plain": [
       "                 号码            网格            微区域       微区域网格名称          微区域名称  \\\n",
       "0       13990917955   叙州区城区分局天池网格   叙州区柏溪镇中医院及周边   叙州区城区分局新街网格   叙州区柏溪镇中医院及周边   \n",
       "1       15281422071      兴文县城市二网格       香山西路广电大楼      兴文县城市二网格       香山西路广电大楼   \n",
       "2       15884750963  叙州区东区分局中渡口网格     叙州区东区分局江景苑  叙州区东区分局中渡口网格     叙州区东区分局江景苑   \n",
       "3       15983145661    北乡片区四面山三网格  江安县四面山镇天佛村微网格    北乡片区四面山三网格  江安县四面山镇天佛村微网格   \n",
       "4       15984134090        罗场镇一网格       罗场镇南华街网格        罗场镇一网格       罗场镇南华街网格   \n",
       "...             ...           ...            ...           ...            ...   \n",
       "477439  15808450914      筠连县城市六网格           筠山都市      筠连县城市三网格           筠山都市   \n",
       "477440  15892546613        珙泉镇一网格            鱼池村        珙泉镇一网格            鱼池村   \n",
       "477441  18208250142   叙州区城北分局喜捷网格         中山社区网格      翠屏区城市二网格         中山社区网格   \n",
       "477442  18283199357   叙州区城北分局未来网格         银龙名居景园     翠屏区城市十四网格         银龙名居景园   \n",
       "477443  18783003587     城郊片区桐梓一网格         魅力欧镇小区      江安县城市二网格         魅力欧镇小区   \n",
       "\n",
       "            微区域网格ID    类型  \n",
       "0       11000090763  移号异宽  \n",
       "1       11000092753  移号异宽  \n",
       "2       11000090778  移号异宽  \n",
       "3       11000090688  移号异宽  \n",
       "4       11000071670  移号异宽  \n",
       "...             ...   ...  \n",
       "477439  11000070733  移号异宽  \n",
       "477440  11000090965  移号异宽  \n",
       "477441  11000071082  移号异宽  \n",
       "477442  11000090909  移号异宽  \n",
       "477443  11000083691  移号异宽  \n",
       "\n",
       "[360667 rows x 7 columns]"
      ]
     },
     "execution_count": 46,
     "metadata": {},
     "output_type": "execute_result"
    }
   ],
   "source": [
    "df_result"
   ]
  },
  {
   "cell_type": "code",
   "execution_count": 47,
   "metadata": {},
   "outputs": [],
   "source": [
    "df_wkyh=df[df['是否移宽异号']==1]"
   ]
  },
  {
   "cell_type": "code",
   "execution_count": 48,
   "metadata": {},
   "outputs": [],
   "source": [
    "df_wkyh=df_wkyh[df_wkyh['宽带类型']=='主']"
   ]
  },
  {
   "cell_type": "code",
   "execution_count": 49,
   "metadata": {},
   "outputs": [],
   "source": [
    "df_result1=pd.DataFrame(df_wkyh,columns=['移宽异号移动主号码','网格','微区域','微区域网格名称','微区域名称','微区域网格ID'])"
   ]
  },
  {
   "cell_type": "code",
   "execution_count": 50,
   "metadata": {},
   "outputs": [],
   "source": [
    "df_result1=df_result1.rename(columns={'移宽异号移动主号码':'号码'})"
   ]
  },
  {
   "cell_type": "code",
   "execution_count": 51,
   "metadata": {},
   "outputs": [],
   "source": [
    "df_result1['类型']='移宽异号'"
   ]
  },
  {
   "cell_type": "code",
   "execution_count": 52,
   "metadata": {},
   "outputs": [
    {
     "data": {
      "text/html": [
       "<div>\n",
       "<style scoped>\n",
       "    .dataframe tbody tr th:only-of-type {\n",
       "        vertical-align: middle;\n",
       "    }\n",
       "\n",
       "    .dataframe tbody tr th {\n",
       "        vertical-align: top;\n",
       "    }\n",
       "\n",
       "    .dataframe thead th {\n",
       "        text-align: right;\n",
       "    }\n",
       "</style>\n",
       "<table border=\"1\" class=\"dataframe\">\n",
       "  <thead>\n",
       "    <tr style=\"text-align: right;\">\n",
       "      <th></th>\n",
       "      <th>号码</th>\n",
       "      <th>网格</th>\n",
       "      <th>微区域</th>\n",
       "      <th>微区域网格名称</th>\n",
       "      <th>微区域名称</th>\n",
       "      <th>微区域网格ID</th>\n",
       "      <th>类型</th>\n",
       "    </tr>\n",
       "  </thead>\n",
       "  <tbody>\n",
       "    <tr>\n",
       "      <th>1062</th>\n",
       "      <td>1.758313e+10</td>\n",
       "      <td>石海镇一网格</td>\n",
       "      <td>宜宾市兴文县石海镇大旗村</td>\n",
       "      <td>石海镇一网格</td>\n",
       "      <td>宜宾市兴文县石海镇大旗村</td>\n",
       "      <td>11000092723</td>\n",
       "      <td>移宽异号</td>\n",
       "    </tr>\n",
       "    <tr>\n",
       "      <th>1063</th>\n",
       "      <td>1.308657e+10</td>\n",
       "      <td>铜鼓乡一网格</td>\n",
       "      <td>宜宾市长宁县铜鼓镇水库村</td>\n",
       "      <td>铜鼓乡一网格</td>\n",
       "      <td>宜宾市长宁县铜鼓镇水库村</td>\n",
       "      <td>11000071925</td>\n",
       "      <td>移宽异号</td>\n",
       "    </tr>\n",
       "    <tr>\n",
       "      <th>1064</th>\n",
       "      <td>1.818032e+10</td>\n",
       "      <td>屏山县城区一网格</td>\n",
       "      <td>大成小区</td>\n",
       "      <td>屏山县城区一网格</td>\n",
       "      <td>大成小区</td>\n",
       "      <td>11000070815</td>\n",
       "      <td>移宽异号</td>\n",
       "    </tr>\n",
       "    <tr>\n",
       "      <th>1277</th>\n",
       "      <td>1.804847e+10</td>\n",
       "      <td>三元乡一网格</td>\n",
       "      <td>宜宾市长宁县三元乡熊家村</td>\n",
       "      <td>三元乡一网格</td>\n",
       "      <td>宜宾市长宁县三元乡熊家村</td>\n",
       "      <td>11000082028</td>\n",
       "      <td>移宽异号</td>\n",
       "    </tr>\n",
       "    <tr>\n",
       "      <th>4405</th>\n",
       "      <td>1.898040e+10</td>\n",
       "      <td>临港城市四网格</td>\n",
       "      <td>临港邦泰国际社区北区小区微网格</td>\n",
       "      <td>临港城市四网格</td>\n",
       "      <td>临港邦泰国际社区北区小区微网格</td>\n",
       "      <td>11000090702</td>\n",
       "      <td>移宽异号</td>\n",
       "    </tr>\n",
       "    <tr>\n",
       "      <th>...</th>\n",
       "      <td>...</td>\n",
       "      <td>...</td>\n",
       "      <td>...</td>\n",
       "      <td>...</td>\n",
       "      <td>...</td>\n",
       "      <td>...</td>\n",
       "      <td>...</td>\n",
       "    </tr>\n",
       "    <tr>\n",
       "      <th>459209</th>\n",
       "      <td>1.811115e+10</td>\n",
       "      <td>翠屏区城市九网格</td>\n",
       "      <td>邦泰公馆</td>\n",
       "      <td>翠屏区城市十二网格</td>\n",
       "      <td>邦泰公馆</td>\n",
       "      <td>11000090912</td>\n",
       "      <td>移宽异号</td>\n",
       "    </tr>\n",
       "    <tr>\n",
       "      <th>459566</th>\n",
       "      <td>1.732200e+10</td>\n",
       "      <td>叙州区东区分局南广镇大益网格</td>\n",
       "      <td>叙州区南广镇顺江街（广电）</td>\n",
       "      <td>叙州区东区分局南广镇大益网格</td>\n",
       "      <td>叙州区南广镇顺江街（广电）</td>\n",
       "      <td>11000090768</td>\n",
       "      <td>移宽异号</td>\n",
       "    </tr>\n",
       "    <tr>\n",
       "      <th>459567</th>\n",
       "      <td>1.552898e+10</td>\n",
       "      <td>大河苗族乡一网格</td>\n",
       "      <td>宜宾市兴文县大河苗族乡回龙村</td>\n",
       "      <td>大河苗族乡一网格</td>\n",
       "      <td>宜宾市兴文县大河苗族乡回龙村</td>\n",
       "      <td>11000092718</td>\n",
       "      <td>移宽异号</td>\n",
       "    </tr>\n",
       "    <tr>\n",
       "      <th>468160</th>\n",
       "      <td>1.377890e+10</td>\n",
       "      <td>叙州区城区分局天池网格</td>\n",
       "      <td>叙州区赵场镇牛洗村</td>\n",
       "      <td>叙州区西区分局赵场网格</td>\n",
       "      <td>叙州区赵场镇牛洗村</td>\n",
       "      <td>11000090741</td>\n",
       "      <td>移宽异号</td>\n",
       "    </tr>\n",
       "    <tr>\n",
       "      <th>472275</th>\n",
       "      <td>1.399099e+10</td>\n",
       "      <td>叙州区蕨溪分局商州镇商州网格</td>\n",
       "      <td>叙州区商州镇商州村</td>\n",
       "      <td>叙州区蕨溪分局商州镇商州网格</td>\n",
       "      <td>叙州区商州镇商州村</td>\n",
       "      <td>11000090771</td>\n",
       "      <td>移宽异号</td>\n",
       "    </tr>\n",
       "  </tbody>\n",
       "</table>\n",
       "<p>367 rows × 7 columns</p>\n",
       "</div>"
      ],
      "text/plain": [
       "                  号码              网格              微区域         微区域网格名称  \\\n",
       "1062    1.758313e+10          石海镇一网格     宜宾市兴文县石海镇大旗村          石海镇一网格   \n",
       "1063    1.308657e+10          铜鼓乡一网格     宜宾市长宁县铜鼓镇水库村          铜鼓乡一网格   \n",
       "1064    1.818032e+10        屏山县城区一网格             大成小区        屏山县城区一网格   \n",
       "1277    1.804847e+10          三元乡一网格     宜宾市长宁县三元乡熊家村          三元乡一网格   \n",
       "4405    1.898040e+10         临港城市四网格  临港邦泰国际社区北区小区微网格         临港城市四网格   \n",
       "...              ...             ...              ...             ...   \n",
       "459209  1.811115e+10        翠屏区城市九网格             邦泰公馆       翠屏区城市十二网格   \n",
       "459566  1.732200e+10  叙州区东区分局南广镇大益网格    叙州区南广镇顺江街（广电）  叙州区东区分局南广镇大益网格   \n",
       "459567  1.552898e+10        大河苗族乡一网格   宜宾市兴文县大河苗族乡回龙村        大河苗族乡一网格   \n",
       "468160  1.377890e+10     叙州区城区分局天池网格        叙州区赵场镇牛洗村     叙州区西区分局赵场网格   \n",
       "472275  1.399099e+10  叙州区蕨溪分局商州镇商州网格        叙州区商州镇商州村  叙州区蕨溪分局商州镇商州网格   \n",
       "\n",
       "                  微区域名称      微区域网格ID    类型  \n",
       "1062       宜宾市兴文县石海镇大旗村  11000092723  移宽异号  \n",
       "1063       宜宾市长宁县铜鼓镇水库村  11000071925  移宽异号  \n",
       "1064               大成小区  11000070815  移宽异号  \n",
       "1277       宜宾市长宁县三元乡熊家村  11000082028  移宽异号  \n",
       "4405    临港邦泰国际社区北区小区微网格  11000090702  移宽异号  \n",
       "...                 ...          ...   ...  \n",
       "459209             邦泰公馆  11000090912  移宽异号  \n",
       "459566    叙州区南广镇顺江街（广电）  11000090768  移宽异号  \n",
       "459567   宜宾市兴文县大河苗族乡回龙村  11000092718  移宽异号  \n",
       "468160        叙州区赵场镇牛洗村  11000090741  移宽异号  \n",
       "472275        叙州区商州镇商州村  11000090771  移宽异号  \n",
       "\n",
       "[367 rows x 7 columns]"
      ]
     },
     "execution_count": 52,
     "metadata": {},
     "output_type": "execute_result"
    }
   ],
   "source": [
    "df_result1"
   ]
  },
  {
   "cell_type": "code",
   "execution_count": 53,
   "metadata": {},
   "outputs": [],
   "source": [
    "df_result=df_result.append(df_result1)"
   ]
  },
  {
   "cell_type": "code",
   "execution_count": 54,
   "metadata": {},
   "outputs": [
    {
     "data": {
      "text/plain": [
       "号码         361034\n",
       "网格         360547\n",
       "微区域        361034\n",
       "微区域网格名称    361034\n",
       "微区域名称      361034\n",
       "微区域网格ID    361034\n",
       "类型         361034\n",
       "dtype: int64"
      ]
     },
     "execution_count": 54,
     "metadata": {},
     "output_type": "execute_result"
    }
   ],
   "source": [
    "df_result.count()"
   ]
  },
  {
   "cell_type": "code",
   "execution_count": 55,
   "metadata": {},
   "outputs": [],
   "source": [
    "df_result=df_result.drop_duplicates(['号码'])"
   ]
  },
  {
   "cell_type": "code",
   "execution_count": 4,
   "metadata": {},
   "outputs": [
    {
     "data": {
      "text/plain": [
       "号码         118856\n",
       "网格          65535\n",
       "微区域         52533\n",
       "微区域网格名称    114591\n",
       "微区域名称      114591\n",
       "微区域ID           0\n",
       "类型         118856\n",
       "dtype: int64"
      ]
     },
     "execution_count": 4,
     "metadata": {},
     "output_type": "execute_result"
    }
   ],
   "source": [
    "df_result.count()"
   ]
  },
  {
   "cell_type": "code",
   "execution_count": 60,
   "metadata": {},
   "outputs": [],
   "source": [
    "df_result=df"
   ]
  },
  {
   "cell_type": "code",
   "execution_count": 61,
   "metadata": {},
   "outputs": [],
   "source": [
    "df_result=df_result.drop_duplicates(['号码'])"
   ]
  },
  {
   "cell_type": "code",
   "execution_count": 66,
   "metadata": {},
   "outputs": [],
   "source": [
    "# out=filedialog.askdirectory()"
   ]
  },
  {
   "cell_type": "code",
   "execution_count": 68,
   "metadata": {},
   "outputs": [],
   "source": [
    "# df_result.to_csv(out+'/号码池.csv',encoding='utf-8',index=0)"
   ]
  },
  {
   "cell_type": "markdown",
   "metadata": {},
   "source": [
    "# **2.打开分配规则**"
   ]
  },
  {
   "cell_type": "markdown",
   "metadata": {},
   "source": [
    "##### **其中子表1为分配规则，子表2为需要剔除的号码,列名都应为号码**"
   ]
  },
  {
   "cell_type": "markdown",
   "metadata": {},
   "source": [
    "文件类型应为xlsx"
   ]
  },
  {
   "cell_type": "code",
   "execution_count": 62,
   "metadata": {},
   "outputs": [
    {
     "name": "stdout",
     "output_type": "stream",
     "text": [
      "正在打开分配规则……\n"
     ]
    }
   ],
   "source": [
    "print('正在打开分配规则……')\n",
    "root = tk.Tk()\n",
    "root.withdraw()\n",
    "# path = filedialog.askopenfilename()\n",
    "# path_out, temp = os.path.split(path)\n",
    "# file_name, extension = os.path.splitext(temp)\n",
    "# print('path:', path_out)\n",
    "# print('file_name:', file_name)\n",
    "# print('extension:', extension)\n",
    "\n",
    "outpath = filedialog.askopenfilename()"
   ]
  },
  {
   "cell_type": "code",
   "execution_count": 63,
   "metadata": {},
   "outputs": [],
   "source": [
    "df_zw=pd.read_excel(outpath,sheet_name=0)\n",
    "\n",
    "\n",
    "df_delete=pd.read_excel(outpath,sheet_name=1)"
   ]
  },
  {
   "cell_type": "markdown",
   "metadata": {},
   "source": [
    "# **剔除**"
   ]
  },
  {
   "cell_type": "code",
   "execution_count": 64,
   "metadata": {},
   "outputs": [],
   "source": [
    "df_result_d = df_result[~df_result.号码.isin(df_delete.号码)]"
   ]
  },
  {
   "cell_type": "code",
   "execution_count": 65,
   "metadata": {},
   "outputs": [],
   "source": [
    "df_copy=df_result_d.copy()"
   ]
  },
  {
   "cell_type": "code",
   "execution_count": 66,
   "metadata": {},
   "outputs": [
    {
     "data": {
      "text/plain": [
       "号码         92815\n",
       "网格         51683\n",
       "微区域        40554\n",
       "微区域网格名称    88795\n",
       "微区域名称      88795\n",
       "微区域ID          0\n",
       "类型         92815\n",
       "dtype: int64"
      ]
     },
     "execution_count": 66,
     "metadata": {},
     "output_type": "execute_result"
    }
   ],
   "source": [
    "df_result_d.count()"
   ]
  },
  {
   "cell_type": "code",
   "execution_count": 67,
   "metadata": {},
   "outputs": [
    {
     "data": {
      "text/plain": [
       "Index(['号码', '网格', '微区域', '微区域网格名称', '微区域名称', '微区域ID', '类型'], dtype='object')"
      ]
     },
     "execution_count": 67,
     "metadata": {},
     "output_type": "execute_result"
    }
   ],
   "source": [
    "df_result_d.columns"
   ]
  },
  {
   "cell_type": "markdown",
   "metadata": {},
   "source": [
    "#### ***若需重来就使用下行代码***"
   ]
  },
  {
   "cell_type": "code",
   "execution_count": 25,
   "metadata": {},
   "outputs": [],
   "source": [
    "# df_result_d=df_copy"
   ]
  },
  {
   "cell_type": "code",
   "execution_count": 68,
   "metadata": {},
   "outputs": [
    {
     "data": {
      "text/html": [
       "<div>\n",
       "<style scoped>\n",
       "    .dataframe tbody tr th:only-of-type {\n",
       "        vertical-align: middle;\n",
       "    }\n",
       "\n",
       "    .dataframe tbody tr th {\n",
       "        vertical-align: top;\n",
       "    }\n",
       "\n",
       "    .dataframe thead th {\n",
       "        text-align: right;\n",
       "    }\n",
       "</style>\n",
       "<table border=\"1\" class=\"dataframe\">\n",
       "  <thead>\n",
       "    <tr style=\"text-align: right;\">\n",
       "      <th></th>\n",
       "      <th>地市</th>\n",
       "      <th>区县</th>\n",
       "      <th>服务中心</th>\n",
       "      <th>服务中心ID</th>\n",
       "      <th>服务中心属性</th>\n",
       "      <th>网格ID</th>\n",
       "      <th>网格名称</th>\n",
       "      <th>网格类型</th>\n",
       "      <th>全息工单责任人</th>\n",
       "      <th>手机号码</th>\n",
       "      <th>派单量</th>\n",
       "      <th>返乡派单</th>\n",
       "    </tr>\n",
       "  </thead>\n",
       "  <tbody>\n",
       "    <tr>\n",
       "      <th>0</th>\n",
       "      <td>宜宾</td>\n",
       "      <td>翠屏</td>\n",
       "      <td>城区服务中心</td>\n",
       "      <td>1277400</td>\n",
       "      <td>城市服务中心</td>\n",
       "      <td>11000071080</td>\n",
       "      <td>翠屏区城市六网格</td>\n",
       "      <td>城市</td>\n",
       "      <td>赵焕琴</td>\n",
       "      <td>15283160001</td>\n",
       "      <td>60</td>\n",
       "      <td>40</td>\n",
       "    </tr>\n",
       "    <tr>\n",
       "      <th>1</th>\n",
       "      <td>宜宾</td>\n",
       "      <td>翠屏</td>\n",
       "      <td>城区服务中心</td>\n",
       "      <td>1277400</td>\n",
       "      <td>城市服务中心</td>\n",
       "      <td>11000071082</td>\n",
       "      <td>翠屏区城市二网格</td>\n",
       "      <td>城市</td>\n",
       "      <td>张雪</td>\n",
       "      <td>13508180012</td>\n",
       "      <td>60</td>\n",
       "      <td>40</td>\n",
       "    </tr>\n",
       "    <tr>\n",
       "      <th>2</th>\n",
       "      <td>宜宾</td>\n",
       "      <td>翠屏</td>\n",
       "      <td>城区服务中心</td>\n",
       "      <td>1277400</td>\n",
       "      <td>城市服务中心</td>\n",
       "      <td>11000071056</td>\n",
       "      <td>翠屏区城市一网格</td>\n",
       "      <td>城市</td>\n",
       "      <td>廖婷</td>\n",
       "      <td>13808290010</td>\n",
       "      <td>60</td>\n",
       "      <td>40</td>\n",
       "    </tr>\n",
       "    <tr>\n",
       "      <th>3</th>\n",
       "      <td>宜宾</td>\n",
       "      <td>翠屏</td>\n",
       "      <td>城区服务中心</td>\n",
       "      <td>1277400</td>\n",
       "      <td>城市服务中心</td>\n",
       "      <td>11000083737</td>\n",
       "      <td>翠屏区城市四网格</td>\n",
       "      <td>城市</td>\n",
       "      <td>胡洪莉</td>\n",
       "      <td>13568080006</td>\n",
       "      <td>60</td>\n",
       "      <td>40</td>\n",
       "    </tr>\n",
       "    <tr>\n",
       "      <th>4</th>\n",
       "      <td>宜宾</td>\n",
       "      <td>翠屏</td>\n",
       "      <td>城区服务中心</td>\n",
       "      <td>1277400</td>\n",
       "      <td>城市服务中心</td>\n",
       "      <td>11000083736</td>\n",
       "      <td>翠屏区城市三网格</td>\n",
       "      <td>城市</td>\n",
       "      <td>胡洪莉</td>\n",
       "      <td>13568080006</td>\n",
       "      <td>60</td>\n",
       "      <td>40</td>\n",
       "    </tr>\n",
       "    <tr>\n",
       "      <th>...</th>\n",
       "      <td>...</td>\n",
       "      <td>...</td>\n",
       "      <td>...</td>\n",
       "      <td>...</td>\n",
       "      <td>...</td>\n",
       "      <td>...</td>\n",
       "      <td>...</td>\n",
       "      <td>...</td>\n",
       "      <td>...</td>\n",
       "      <td>...</td>\n",
       "      <td>...</td>\n",
       "      <td>...</td>\n",
       "    </tr>\n",
       "    <tr>\n",
       "      <th>371</th>\n",
       "      <td>宜宾</td>\n",
       "      <td>长宁</td>\n",
       "      <td>竹海服务中心</td>\n",
       "      <td>1006969</td>\n",
       "      <td>农村服务中心</td>\n",
       "      <td>11000071924</td>\n",
       "      <td>竹海镇三网格</td>\n",
       "      <td>农村</td>\n",
       "      <td>覃玲</td>\n",
       "      <td>18716195458</td>\n",
       "      <td>60</td>\n",
       "      <td>40</td>\n",
       "    </tr>\n",
       "    <tr>\n",
       "      <th>372</th>\n",
       "      <td>宜宾</td>\n",
       "      <td>长宁</td>\n",
       "      <td>竹海服务中心</td>\n",
       "      <td>1006969</td>\n",
       "      <td>农村服务中心</td>\n",
       "      <td>11000071923</td>\n",
       "      <td>竹海镇二网格</td>\n",
       "      <td>农村</td>\n",
       "      <td>覃玲</td>\n",
       "      <td>18716195458</td>\n",
       "      <td>60</td>\n",
       "      <td>40</td>\n",
       "    </tr>\n",
       "    <tr>\n",
       "      <th>373</th>\n",
       "      <td>宜宾</td>\n",
       "      <td>长宁</td>\n",
       "      <td>竹海服务中心</td>\n",
       "      <td>1006969</td>\n",
       "      <td>农村服务中心</td>\n",
       "      <td>11000071925</td>\n",
       "      <td>铜鼓乡一网格</td>\n",
       "      <td>农村</td>\n",
       "      <td>李天敏</td>\n",
       "      <td>13568064401</td>\n",
       "      <td>60</td>\n",
       "      <td>40</td>\n",
       "    </tr>\n",
       "    <tr>\n",
       "      <th>374</th>\n",
       "      <td>宜宾</td>\n",
       "      <td>长宁</td>\n",
       "      <td>竹海服务中心</td>\n",
       "      <td>1006969</td>\n",
       "      <td>农村服务中心</td>\n",
       "      <td>11000071917</td>\n",
       "      <td>桃坪乡一网格</td>\n",
       "      <td>农村</td>\n",
       "      <td>李天敏</td>\n",
       "      <td>13568064401</td>\n",
       "      <td>60</td>\n",
       "      <td>40</td>\n",
       "    </tr>\n",
       "    <tr>\n",
       "      <th>375</th>\n",
       "      <td>宜宾</td>\n",
       "      <td>长宁</td>\n",
       "      <td>竹海服务中心</td>\n",
       "      <td>1006969</td>\n",
       "      <td>农村服务中心</td>\n",
       "      <td>11000071918</td>\n",
       "      <td>井江镇一网格</td>\n",
       "      <td>农村</td>\n",
       "      <td>李天敏</td>\n",
       "      <td>13568064401</td>\n",
       "      <td>60</td>\n",
       "      <td>40</td>\n",
       "    </tr>\n",
       "  </tbody>\n",
       "</table>\n",
       "<p>376 rows × 12 columns</p>\n",
       "</div>"
      ],
      "text/plain": [
       "     地市  区县    服务中心   服务中心ID  服务中心属性         网格ID      网格名称 网格类型 全息工单责任人  \\\n",
       "0    宜宾  翠屏  城区服务中心  1277400  城市服务中心  11000071080  翠屏区城市六网格   城市     赵焕琴   \n",
       "1    宜宾  翠屏  城区服务中心  1277400  城市服务中心  11000071082  翠屏区城市二网格   城市      张雪   \n",
       "2    宜宾  翠屏  城区服务中心  1277400  城市服务中心  11000071056  翠屏区城市一网格   城市      廖婷   \n",
       "3    宜宾  翠屏  城区服务中心  1277400  城市服务中心  11000083737  翠屏区城市四网格   城市     胡洪莉   \n",
       "4    宜宾  翠屏  城区服务中心  1277400  城市服务中心  11000083736  翠屏区城市三网格   城市     胡洪莉   \n",
       "..   ..  ..     ...      ...     ...          ...       ...  ...     ...   \n",
       "371  宜宾  长宁  竹海服务中心  1006969  农村服务中心  11000071924    竹海镇三网格   农村      覃玲   \n",
       "372  宜宾  长宁  竹海服务中心  1006969  农村服务中心  11000071923    竹海镇二网格   农村      覃玲   \n",
       "373  宜宾  长宁  竹海服务中心  1006969  农村服务中心  11000071925    铜鼓乡一网格   农村     李天敏   \n",
       "374  宜宾  长宁  竹海服务中心  1006969  农村服务中心  11000071917    桃坪乡一网格   农村     李天敏   \n",
       "375  宜宾  长宁  竹海服务中心  1006969  农村服务中心  11000071918    井江镇一网格   农村     李天敏   \n",
       "\n",
       "            手机号码  派单量  返乡派单  \n",
       "0    15283160001   60    40  \n",
       "1    13508180012   60    40  \n",
       "2    13808290010   60    40  \n",
       "3    13568080006   60    40  \n",
       "4    13568080006   60    40  \n",
       "..           ...  ...   ...  \n",
       "371  18716195458   60    40  \n",
       "372  18716195458   60    40  \n",
       "373  13568064401   60    40  \n",
       "374  13568064401   60    40  \n",
       "375  13568064401   60    40  \n",
       "\n",
       "[376 rows x 12 columns]"
      ]
     },
     "execution_count": 68,
     "metadata": {},
     "output_type": "execute_result"
    }
   ],
   "source": [
    "df_zw"
   ]
  },
  {
   "cell_type": "markdown",
   "metadata": {},
   "source": [
    "#### **按照规则派单量进行筛选，df_res_zw保存本段处理结果,loglist保存未处理到的人员,方便回溯到网格3.0**"
   ]
  },
  {
   "cell_type": "code",
   "execution_count": 69,
   "metadata": {},
   "outputs": [
    {
     "name": "stderr",
     "output_type": "stream",
     "text": [
      "D:\\python3.9\\lib\\site-packages\\pandas\\core\\frame.py:4906: SettingWithCopyWarning: \n",
      "A value is trying to be set on a copy of a slice from a DataFrame\n",
      "\n",
      "See the caveats in the documentation: https://pandas.pydata.org/pandas-docs/stable/user_guide/indexing.html#returning-a-view-versus-a-copy\n",
      "  return super().drop(\n"
     ]
    }
   ],
   "source": [
    "df_res_t=pd.DataFrame()\n",
    "df_res_zw=pd.DataFrame()\n",
    "loglist=pd.DataFrame()\n",
    "for i in df_zw.index:\n",
    "    df_mb=df_result_d[df_result_d['微区域网格名称']==df_zw.loc[i,'网格名称']]\n",
    "    index=df_zw.loc[i,'派单量']\n",
    "    count=0\n",
    "    if df_mb['号码'].count()<index:\n",
    "        loglist=loglist.append(df_zw.loc[i,:])\n",
    "        continue\n",
    " \n",
    "    try:\n",
    "        df_res_t=df_mb.sample(int(index), replace=False)\n",
    "    except:\n",
    "        print('总号码不够')\n",
    "        continue\n",
    "    df_res_t['编号']=df_zw.loc[i,'手机号码']\n",
    "    df_res_zw=df_res_zw.append(df_res_t)\n",
    "    df_result_d.drop(df_res_t.index, inplace=True)"
   ]
  },
  {
   "cell_type": "code",
   "execution_count": 70,
   "metadata": {},
   "outputs": [
    {
     "data": {
      "text/plain": [
       "地市         60\n",
       "区县         60\n",
       "服务中心       60\n",
       "服务中心ID     60\n",
       "服务中心属性     60\n",
       "网格ID       60\n",
       "网格名称       60\n",
       "网格类型       60\n",
       "全息工单责任人    60\n",
       "手机号码       60\n",
       "派单量        60\n",
       "返乡派单       60\n",
       "dtype: int64"
      ]
     },
     "execution_count": 70,
     "metadata": {},
     "output_type": "execute_result"
    }
   ],
   "source": [
    "loglist.count()"
   ]
  },
  {
   "cell_type": "markdown",
   "metadata": {},
   "source": [
    "#------------------------------------------------------------------------------------------------#"
   ]
  },
  {
   "cell_type": "code",
   "execution_count": 72,
   "metadata": {},
   "outputs": [
    {
     "name": "stdout",
     "output_type": "stream",
     "text": [
      "正在打开……\n"
     ]
    }
   ],
   "source": [
    "print('正在打开……')\n",
    "df_mr=pd.DataFrame()\n",
    "root = tk.Tk()\n",
    "root.withdraw()\n",
    "# path = filedialog.askopenfilename()\n",
    "# path_out, temp = os.path.split(path)\n",
    "# file_name, extension = os.path.splitext(temp)\n",
    "# print('path:', path_out)\n",
    "# print('file_name:', file_name)\n",
    "# print('extension:', extension)\n",
    "\n",
    "datapath1 = filedialog.askopenfilename()\n",
    "\n",
    "# df_mr=pd.read_excel(datapath,sheet_name='漫入')\n",
    "\n",
    "df_last=pd.read_csv(datapath1,encoding='GBK')"
   ]
  },
  {
   "cell_type": "code",
   "execution_count": 73,
   "metadata": {},
   "outputs": [
    {
     "data": {
      "text/plain": [
       "Index(['号码', '网格', '微区域', '微区域网格名称', '微区域名称', '微区域网格ID', '类型'], dtype='object')"
      ]
     },
     "execution_count": 73,
     "metadata": {},
     "output_type": "execute_result"
    }
   ],
   "source": [
    "df_last.columns"
   ]
  },
  {
   "cell_type": "code",
   "execution_count": 74,
   "metadata": {},
   "outputs": [],
   "source": [
    "df_last_d = df_last[~df_last.号码.isin(df_result.号码)]"
   ]
  },
  {
   "cell_type": "code",
   "execution_count": 75,
   "metadata": {},
   "outputs": [
    {
     "data": {
      "text/html": [
       "<div>\n",
       "<style scoped>\n",
       "    .dataframe tbody tr th:only-of-type {\n",
       "        vertical-align: middle;\n",
       "    }\n",
       "\n",
       "    .dataframe tbody tr th {\n",
       "        vertical-align: top;\n",
       "    }\n",
       "\n",
       "    .dataframe thead th {\n",
       "        text-align: right;\n",
       "    }\n",
       "</style>\n",
       "<table border=\"1\" class=\"dataframe\">\n",
       "  <thead>\n",
       "    <tr style=\"text-align: right;\">\n",
       "      <th></th>\n",
       "      <th>地市</th>\n",
       "      <th>区县</th>\n",
       "      <th>服务中心</th>\n",
       "      <th>服务中心ID</th>\n",
       "      <th>服务中心属性</th>\n",
       "      <th>网格ID</th>\n",
       "      <th>网格名称</th>\n",
       "      <th>网格类型</th>\n",
       "      <th>全息工单责任人</th>\n",
       "      <th>手机号码</th>\n",
       "      <th>派单量</th>\n",
       "      <th>返乡派单</th>\n",
       "    </tr>\n",
       "  </thead>\n",
       "  <tbody>\n",
       "    <tr>\n",
       "      <th>102</th>\n",
       "      <td>宜宾</td>\n",
       "      <td>江安</td>\n",
       "      <td>南乡服务中心</td>\n",
       "      <td>1399266.0</td>\n",
       "      <td>农村服务中心</td>\n",
       "      <td>1.100007e+10</td>\n",
       "      <td>南乡片区大妙二网格</td>\n",
       "      <td>农村</td>\n",
       "      <td>张望</td>\n",
       "      <td>1.888199e+10</td>\n",
       "      <td>60.0</td>\n",
       "      <td>40.0</td>\n",
       "    </tr>\n",
       "  </tbody>\n",
       "</table>\n",
       "</div>"
      ],
      "text/plain": [
       "     地市  区县    服务中心     服务中心ID  服务中心属性          网格ID       网格名称 网格类型 全息工单责任人  \\\n",
       "102  宜宾  江安  南乡服务中心  1399266.0  农村服务中心  1.100007e+10  南乡片区大妙二网格   农村      张望   \n",
       "\n",
       "             手机号码   派单量  返乡派单  \n",
       "102  1.888199e+10  60.0  40.0  "
      ]
     },
     "execution_count": 75,
     "metadata": {},
     "output_type": "execute_result"
    }
   ],
   "source": [
    "loglist[loglist['网格名称']=='南乡片区大妙二网格']"
   ]
  },
  {
   "cell_type": "code",
   "execution_count": 77,
   "metadata": {},
   "outputs": [
    {
     "data": {
      "text/plain": [
       "号码         39\n",
       "网格         39\n",
       "微区域        39\n",
       "微区域网格名称    39\n",
       "微区域名称      39\n",
       "微区域网格ID    39\n",
       "类型         39\n",
       "dtype: int64"
      ]
     },
     "execution_count": 77,
     "metadata": {},
     "output_type": "execute_result"
    }
   ],
   "source": [
    "r1=df_last_d[df_last_d['网格']=='南乡片区大妙二网格']\n",
    "r1.count()"
   ]
  },
  {
   "cell_type": "code",
   "execution_count": 78,
   "metadata": {},
   "outputs": [
    {
     "name": "stderr",
     "output_type": "stream",
     "text": [
      "D:\\python3.9\\lib\\site-packages\\pandas\\core\\frame.py:4906: SettingWithCopyWarning: \n",
      "A value is trying to be set on a copy of a slice from a DataFrame\n",
      "\n",
      "See the caveats in the documentation: https://pandas.pydata.org/pandas-docs/stable/user_guide/indexing.html#returning-a-view-versus-a-copy\n",
      "  return super().drop(\n"
     ]
    },
    {
     "name": "stdout",
     "output_type": "stream",
     "text": [
      "号码不够了\n",
      "号码不够了\n",
      "号码不够了\n",
      "号码不够了\n",
      "号码不够了\n",
      "号码不够了\n",
      "号码不够了\n",
      "号码不够了\n",
      "跑完了\n",
      "                 号码        网格             微区域   微区域网格名称           微区域名称  \\\n",
      "96469   13568089774  翠屏区城市一网格             NaN  翠屏区城市六网格          文星社区网格   \n",
      "47617   15196956841       NaN          文星社区网格  翠屏区城市六网格          文星社区网格   \n",
      "69064   15883176670  翠屏区城市六网格             NaN  翠屏区城市六网格          金江社区网格   \n",
      "24818   13795984407       NaN      宜宾市长宁县菁园小区  翠屏区城市六网格          慈善社区网格   \n",
      "39181   13890958967       NaN          金江社区网格  翠屏区城市六网格          金江社区网格   \n",
      "...             ...       ...             ...       ...             ...   \n",
      "219335  18783109115    龙头镇一网格               0         0               0   \n",
      "162039  17883631431    龙头镇一网格               0         0               0   \n",
      "8275    13890433451    龙头镇一网格          龙头镇龙华村    龙头镇一网格          龙头镇龙华村   \n",
      "248583  15181187877    龙头镇一网格               0         0               0   \n",
      "5333    15775901819    龙头镇一网格  宜宾市长宁县龙头镇石笋村小区    龙头镇四网格  宜宾市长宁县龙头镇石笋村小区   \n",
      "\n",
      "        微区域ID    类型            编号       微区域网格ID  \n",
      "96469     NaN  我宽异号  1.528316e+10           NaN  \n",
      "47617     NaN  我号异宽  1.528316e+10           NaN  \n",
      "69064     NaN  我宽异号  1.528316e+10           NaN  \n",
      "24818     NaN  我号异宽  1.528316e+10           NaN  \n",
      "39181     NaN  我号异宽  1.528316e+10           NaN  \n",
      "...       ...   ...           ...           ...  \n",
      "219335    NaN  移号异宽  1.828487e+10  0.000000e+00  \n",
      "162039    NaN  移号异宽  1.828487e+10  0.000000e+00  \n",
      "8275      NaN  移号异宽  1.828487e+10  1.100009e+10  \n",
      "248583    NaN  移号异宽  1.828487e+10  0.000000e+00  \n",
      "5333      NaN  移号异宽  1.828487e+10  1.100007e+10  \n",
      "\n",
      "[22080 rows x 9 columns]\n"
     ]
    }
   ],
   "source": [
    "list=loglist.reset_index(drop=True)\n",
    "loglist=pd.DataFrame()\n",
    "sttt=''\n",
    "for i in list.index:\n",
    "    # df_mb=df_whyk[df_whyk['微区域']==list.loc[i,'微区域']]\n",
    "    df_mb=df_last_d[df_last_d['网格']==list.loc[i,'网格名称']]\n",
    "    index=list.loc[i,'派单量']\n",
    "    count=0\n",
    "    if df_mb['号码'].count()<index:\n",
    "        loglist=loglist.append(list.loc[i,:])\n",
    "        sttt+='号码不够了'\n",
    "        print('号码不够了')\n",
    "        continue\n",
    " \n",
    "    try:\n",
    "        df_res_t=df_mb.sample(int(index), replace=False)\n",
    "    except:\n",
    "        print('总号码不够')\n",
    "        continue\n",
    "    df_res_t['编号']=list.loc[i,'手机号码']\n",
    "    df_res_zw=df_res_zw.append(df_res_t)\n",
    "    df_last_d.drop(df_res_t.index, inplace=True)\n",
    "print('跑完了')\n",
    "print(df_res_zw)"
   ]
  },
  {
   "cell_type": "code",
   "execution_count": 79,
   "metadata": {},
   "outputs": [
    {
     "data": {
      "text/plain": [
       "'号码不够了号码不够了号码不够了号码不够了号码不够了号码不够了号码不够了号码不够了'"
      ]
     },
     "execution_count": 79,
     "metadata": {},
     "output_type": "execute_result"
    }
   ],
   "source": [
    "sttt"
   ]
  },
  {
   "cell_type": "code",
   "execution_count": 80,
   "metadata": {},
   "outputs": [
    {
     "data": {
      "text/html": [
       "<div>\n",
       "<style scoped>\n",
       "    .dataframe tbody tr th:only-of-type {\n",
       "        vertical-align: middle;\n",
       "    }\n",
       "\n",
       "    .dataframe tbody tr th {\n",
       "        vertical-align: top;\n",
       "    }\n",
       "\n",
       "    .dataframe thead th {\n",
       "        text-align: right;\n",
       "    }\n",
       "</style>\n",
       "<table border=\"1\" class=\"dataframe\">\n",
       "  <thead>\n",
       "    <tr style=\"text-align: right;\">\n",
       "      <th></th>\n",
       "      <th>地市</th>\n",
       "      <th>区县</th>\n",
       "      <th>服务中心</th>\n",
       "      <th>服务中心ID</th>\n",
       "      <th>服务中心属性</th>\n",
       "      <th>网格ID</th>\n",
       "      <th>网格名称</th>\n",
       "      <th>网格类型</th>\n",
       "      <th>全息工单责任人</th>\n",
       "      <th>手机号码</th>\n",
       "      <th>派单量</th>\n",
       "      <th>返乡派单</th>\n",
       "    </tr>\n",
       "  </thead>\n",
       "  <tbody>\n",
       "    <tr>\n",
       "      <th>7</th>\n",
       "      <td>宜宾</td>\n",
       "      <td>高县</td>\n",
       "      <td>罗场服务中心</td>\n",
       "      <td>121197.0</td>\n",
       "      <td>农村服务中心</td>\n",
       "      <td>1.100007e+10</td>\n",
       "      <td>趱滩乡网格</td>\n",
       "      <td>农村</td>\n",
       "      <td>兰超</td>\n",
       "      <td>1.389091e+10</td>\n",
       "      <td>60.0</td>\n",
       "      <td>40.0</td>\n",
       "    </tr>\n",
       "    <tr>\n",
       "      <th>8</th>\n",
       "      <td>宜宾</td>\n",
       "      <td>江安</td>\n",
       "      <td>南乡服务中心</td>\n",
       "      <td>1399266.0</td>\n",
       "      <td>农村服务中心</td>\n",
       "      <td>1.100007e+10</td>\n",
       "      <td>南乡片区大妙二网格</td>\n",
       "      <td>农村</td>\n",
       "      <td>张望</td>\n",
       "      <td>1.888199e+10</td>\n",
       "      <td>60.0</td>\n",
       "      <td>40.0</td>\n",
       "    </tr>\n",
       "    <tr>\n",
       "      <th>9</th>\n",
       "      <td>宜宾</td>\n",
       "      <td>江安</td>\n",
       "      <td>南乡服务中心</td>\n",
       "      <td>1399266.0</td>\n",
       "      <td>农村服务中心</td>\n",
       "      <td>1.100007e+10</td>\n",
       "      <td>南乡片区大妙一网格</td>\n",
       "      <td>农村</td>\n",
       "      <td>张望</td>\n",
       "      <td>1.888199e+10</td>\n",
       "      <td>60.0</td>\n",
       "      <td>40.0</td>\n",
       "    </tr>\n",
       "    <tr>\n",
       "      <th>41</th>\n",
       "      <td>宜宾</td>\n",
       "      <td>南溪</td>\n",
       "      <td>长兴服务中心</td>\n",
       "      <td>1288049.0</td>\n",
       "      <td>农村服务中心</td>\n",
       "      <td>1.100009e+10</td>\n",
       "      <td>长兴镇一网格</td>\n",
       "      <td>农村</td>\n",
       "      <td>林映兵</td>\n",
       "      <td>1.519697e+10</td>\n",
       "      <td>60.0</td>\n",
       "      <td>40.0</td>\n",
       "    </tr>\n",
       "    <tr>\n",
       "      <th>48</th>\n",
       "      <td>宜宾</td>\n",
       "      <td>兴文</td>\n",
       "      <td>莲花服务中心</td>\n",
       "      <td>1460863.0</td>\n",
       "      <td>农村服务中心</td>\n",
       "      <td>1.100010e+10</td>\n",
       "      <td>莲花二网格</td>\n",
       "      <td>农村</td>\n",
       "      <td>刘飞</td>\n",
       "      <td>1.389092e+10</td>\n",
       "      <td>60.0</td>\n",
       "      <td>40.0</td>\n",
       "    </tr>\n",
       "    <tr>\n",
       "      <th>50</th>\n",
       "      <td>宜宾</td>\n",
       "      <td>叙州</td>\n",
       "      <td>柏溪城北服务中心</td>\n",
       "      <td>1460861.0</td>\n",
       "      <td>城市服务中心</td>\n",
       "      <td>1.100009e+10</td>\n",
       "      <td>叙州区城北分局安边镇小岸坝网格</td>\n",
       "      <td>农村</td>\n",
       "      <td>宋兴陶</td>\n",
       "      <td>1.589254e+10</td>\n",
       "      <td>60.0</td>\n",
       "      <td>40.0</td>\n",
       "    </tr>\n",
       "    <tr>\n",
       "      <th>53</th>\n",
       "      <td>宜宾</td>\n",
       "      <td>叙州</td>\n",
       "      <td>观音服务中心</td>\n",
       "      <td>121171.0</td>\n",
       "      <td>农村服务中心</td>\n",
       "      <td>1.100010e+10</td>\n",
       "      <td>叙州区观音分局泥溪镇文星网格</td>\n",
       "      <td>农村</td>\n",
       "      <td>严存明</td>\n",
       "      <td>1.377891e+10</td>\n",
       "      <td>60.0</td>\n",
       "      <td>40.0</td>\n",
       "    </tr>\n",
       "    <tr>\n",
       "      <th>59</th>\n",
       "      <td>宜宾</td>\n",
       "      <td>长宁</td>\n",
       "      <td>竹海服务中心</td>\n",
       "      <td>1006969.0</td>\n",
       "      <td>农村服务中心</td>\n",
       "      <td>1.100007e+10</td>\n",
       "      <td>铜锣乡一网格</td>\n",
       "      <td>农村</td>\n",
       "      <td>杨明钟</td>\n",
       "      <td>1.592833e+10</td>\n",
       "      <td>60.0</td>\n",
       "      <td>40.0</td>\n",
       "    </tr>\n",
       "  </tbody>\n",
       "</table>\n",
       "</div>"
      ],
      "text/plain": [
       "    地市  区县      服务中心     服务中心ID  服务中心属性          网格ID             网格名称 网格类型  \\\n",
       "7   宜宾  高县    罗场服务中心   121197.0  农村服务中心  1.100007e+10            趱滩乡网格   农村   \n",
       "8   宜宾  江安    南乡服务中心  1399266.0  农村服务中心  1.100007e+10        南乡片区大妙二网格   农村   \n",
       "9   宜宾  江安    南乡服务中心  1399266.0  农村服务中心  1.100007e+10        南乡片区大妙一网格   农村   \n",
       "41  宜宾  南溪    长兴服务中心  1288049.0  农村服务中心  1.100009e+10           长兴镇一网格   农村   \n",
       "48  宜宾  兴文    莲花服务中心  1460863.0  农村服务中心  1.100010e+10            莲花二网格   农村   \n",
       "50  宜宾  叙州  柏溪城北服务中心  1460861.0  城市服务中心  1.100009e+10  叙州区城北分局安边镇小岸坝网格   农村   \n",
       "53  宜宾  叙州    观音服务中心   121171.0  农村服务中心  1.100010e+10   叙州区观音分局泥溪镇文星网格   农村   \n",
       "59  宜宾  长宁    竹海服务中心  1006969.0  农村服务中心  1.100007e+10           铜锣乡一网格   农村   \n",
       "\n",
       "   全息工单责任人          手机号码   派单量  返乡派单  \n",
       "7       兰超  1.389091e+10  60.0  40.0  \n",
       "8       张望  1.888199e+10  60.0  40.0  \n",
       "9       张望  1.888199e+10  60.0  40.0  \n",
       "41     林映兵  1.519697e+10  60.0  40.0  \n",
       "48      刘飞  1.389092e+10  60.0  40.0  \n",
       "50     宋兴陶  1.589254e+10  60.0  40.0  \n",
       "53     严存明  1.377891e+10  60.0  40.0  \n",
       "59     杨明钟  1.592833e+10  60.0  40.0  "
      ]
     },
     "execution_count": 80,
     "metadata": {},
     "output_type": "execute_result"
    }
   ],
   "source": [
    "loglist"
   ]
  },
  {
   "cell_type": "markdown",
   "metadata": {},
   "source": [
    "#------------------------------------------------------------------------------------------------#"
   ]
  },
  {
   "cell_type": "markdown",
   "metadata": {},
   "source": [
    "#### **回溯到网格3.0，检查loglist是否为空，如果loglist仍有值，说明出现号码不够的情况，询问**"
   ]
  },
  {
   "cell_type": "code",
   "execution_count": 72,
   "metadata": {},
   "outputs": [
    {
     "name": "stdout",
     "output_type": "stream",
     "text": [
      "跑完了\n",
      "                  号码        网格          微区域      微区域网格名称        微区域名称  \\\n",
      "307433  1.389100e+10  翠屏区城市六网格       慈善社区网格     翠屏区城市六网格       慈善社区网格   \n",
      "429471  1.822721e+10  翠屏区城市六网格       文星社区网格     翠屏区城市六网格       文星社区网格   \n",
      "198153  1.528310e+10   临港城市四网格       文星社区网格     翠屏区城市六网格       文星社区网格   \n",
      "171700  1.988122e+10  翠屏区城市六网格       文星社区网格     翠屏区城市六网格       文星社区网格   \n",
      "328364  1.878413e+10   临港城市六网格       慈善社区网格     翠屏区城市六网格       慈善社区网格   \n",
      "...              ...       ...          ...          ...          ...   \n",
      "13924   1.528317e+10    李庄镇二网格    宜宾市翠屏区永胜村       李庄镇一网格    宜宾市翠屏区永胜村   \n",
      "352639  1.588412e+10    李庄镇二网格  叙州区东区分局沁园小区  叙州区东区分局航天网格  叙州区东区分局沁园小区   \n",
      "391607  1.878068e+10    李庄镇二网格            0            0            0   \n",
      "404722  1.478082e+10    李庄镇二网格    宜宾市翠屏区双桥村       李庄镇二网格    宜宾市翠屏区双桥村   \n",
      "209267  1.838083e+10    李庄镇二网格    宜宾市翠屏区双桥村       李庄镇二网格    宜宾市翠屏区双桥村   \n",
      "\n",
      "            微区域网格ID    类型            编号  \n",
      "307433  11000071080  移号异宽  1.528316e+10  \n",
      "429471  11000071080  移号异宽  1.528316e+10  \n",
      "198153  11000071080  移号异宽  1.528316e+10  \n",
      "171700  11000071080  移号异宽  1.528316e+10  \n",
      "328364  11000071080  移号异宽  1.528316e+10  \n",
      "...             ...   ...           ...  \n",
      "13924   11000090916  移号异宽  1.592833e+10  \n",
      "352639  11000090758  移号异宽  1.592833e+10  \n",
      "391607            0  移号异宽  1.592833e+10  \n",
      "404722  11000090915  移号异宽  1.592833e+10  \n",
      "209267  11000090915  移号异宽  1.592833e+10  \n",
      "\n",
      "[22560 rows x 8 columns]\n"
     ]
    }
   ],
   "source": [
    "list=loglist.reset_index(drop=True)\n",
    "loglist=pd.DataFrame()\n",
    "sttt=''\n",
    "for i in list.index:\n",
    "    # df_mb=df_whyk[df_whyk['微区域']==list.loc[i,'微区域']]\n",
    "    df_mb=df_result_d[df_result_d['网格']==df_zw.loc[i,'网格名称']]\n",
    "    index=list.loc[i,'派单量']\n",
    "    count=0\n",
    "    if df_mb['号码'].count()<index:\n",
    "        loglist=loglist.append(list.loc[i,:])\n",
    "        sttt+='号码不够了'\n",
    "        print('号码不够了')\n",
    "        continue\n",
    " \n",
    "    try:\n",
    "        df_res_t=df_mb.sample(int(index), replace=False)\n",
    "    except:\n",
    "        print('总号码不够')\n",
    "        continue\n",
    "    df_res_t['编号']=list.loc[i,'手机号码']\n",
    "    df_res_zw=df_res_zw.append(df_res_t)\n",
    "    df_result_d.drop(df_res_t.index, inplace=True)\n",
    "print('跑完了')\n",
    "print(df_res_zw)"
   ]
  },
  {
   "cell_type": "code",
   "execution_count": 73,
   "metadata": {},
   "outputs": [
    {
     "data": {
      "text/html": [
       "<div>\n",
       "<style scoped>\n",
       "    .dataframe tbody tr th:only-of-type {\n",
       "        vertical-align: middle;\n",
       "    }\n",
       "\n",
       "    .dataframe tbody tr th {\n",
       "        vertical-align: top;\n",
       "    }\n",
       "\n",
       "    .dataframe thead th {\n",
       "        text-align: right;\n",
       "    }\n",
       "</style>\n",
       "<table border=\"1\" class=\"dataframe\">\n",
       "  <thead>\n",
       "    <tr style=\"text-align: right;\">\n",
       "      <th></th>\n",
       "    </tr>\n",
       "  </thead>\n",
       "  <tbody>\n",
       "  </tbody>\n",
       "</table>\n",
       "</div>"
      ],
      "text/plain": [
       "Empty DataFrame\n",
       "Columns: []\n",
       "Index: []"
      ]
     },
     "execution_count": 73,
     "metadata": {},
     "output_type": "execute_result"
    }
   ],
   "source": [
    "loglist"
   ]
  },
  {
   "cell_type": "markdown",
   "metadata": {},
   "source": [
    "#### 保存结果"
   ]
  },
  {
   "cell_type": "code",
   "execution_count": 81,
   "metadata": {},
   "outputs": [],
   "source": [
    "out=filedialog.askdirectory()"
   ]
  },
  {
   "cell_type": "code",
   "execution_count": 82,
   "metadata": {},
   "outputs": [],
   "source": [
    "df_res_zw.to_excel(out+'/1.前两类结果.xlsx',encoding='utf-8',index=0)\n",
    "loglist.to_excel(out+'/2.前两类未分配清单.xlsx',encoding='utf-8',index=0)"
   ]
  },
  {
   "cell_type": "markdown",
   "metadata": {},
   "source": []
  },
  {
   "cell_type": "code",
   "execution_count": 84,
   "metadata": {},
   "outputs": [],
   "source": [
    "df_last_d.to_csv(out+'/3.剔除后号码池.csv',encoding='utf_8_sig',index=0)"
   ]
  },
  {
   "cell_type": "code",
   "execution_count": 76,
   "metadata": {},
   "outputs": [],
   "source": [
    "df_phone = df_copy[~df_copy.号码.isin(df_res_zw.号码)]\n",
    "df_phone.to_csv(out+'/剔除后号码池.csv',encoding='utf_8_sig',index=0)"
   ]
  },
  {
   "cell_type": "code",
   "execution_count": 78,
   "metadata": {},
   "outputs": [
    {
     "data": {
      "text/plain": [
       "号码         260785\n",
       "网格         260312\n",
       "微区域        260785\n",
       "微区域网格名称    260785\n",
       "微区域名称      260785\n",
       "微区域网格ID    260785\n",
       "类型         260785\n",
       "dtype: int64"
      ]
     },
     "execution_count": 78,
     "metadata": {},
     "output_type": "execute_result"
    }
   ],
   "source": [
    "df_copy.count()"
   ]
  },
  {
   "cell_type": "code",
   "execution_count": 79,
   "metadata": {},
   "outputs": [
    {
     "data": {
      "text/plain": [
       "号码         260785\n",
       "网格         260312\n",
       "微区域        260785\n",
       "微区域网格名称    260785\n",
       "微区域名称      260785\n",
       "微区域网格ID    260785\n",
       "类型         260785\n",
       "dtype: int64"
      ]
     },
     "execution_count": 79,
     "metadata": {},
     "output_type": "execute_result"
    }
   ],
   "source": [
    "df_phone.count()"
   ]
  },
  {
   "cell_type": "markdown",
   "metadata": {},
   "source": [
    "## ***打开返乡客户***"
   ]
  },
  {
   "cell_type": "code",
   "execution_count": 86,
   "metadata": {},
   "outputs": [
    {
     "name": "stdout",
     "output_type": "stream",
     "text": [
      "正在打开……\n"
     ]
    }
   ],
   "source": [
    "print('正在打开……')\n",
    "df_mr=pd.DataFrame()\n",
    "root = tk.Tk()\n",
    "root.withdraw()\n",
    "# path = filedialog.askopenfilename()\n",
    "# path_out, temp = os.path.split(path)\n",
    "# file_name, extension = os.path.splitext(temp)\n",
    "# print('path:', path_out)\n",
    "# print('file_name:', file_name)\n",
    "# print('extension:', extension)\n",
    "\n",
    "datapath_re = filedialog.askopenfilename()\n",
    "\n",
    "# df_mr=pd.read_excel(datapath,sheet_name='漫入')\n",
    "\n",
    "# df_re=pd.read_csv(datapath_re,encoding='GBK')\n",
    "\n",
    "df_re=pd.read_excel(datapath_re)\n"
   ]
  },
  {
   "cell_type": "code",
   "execution_count": 87,
   "metadata": {},
   "outputs": [
    {
     "data": {
      "text/plain": [
       "联系电话             48406\n",
       "家庭成员/经常联系人号码1    48406\n",
       "微网格ID            48406\n",
       "微网格名称            48406\n",
       "微网格网格ID          48406\n",
       "我号异宽             48406\n",
       "我宽异号             48406\n",
       "宽带成员类型           29732\n",
       "dtype: int64"
      ]
     },
     "execution_count": 87,
     "metadata": {},
     "output_type": "execute_result"
    }
   ],
   "source": [
    "df_re.count()"
   ]
  },
  {
   "cell_type": "markdown",
   "metadata": {},
   "source": [
    "### ***删除已派的我号异宽和我宽异号号码***"
   ]
  },
  {
   "cell_type": "code",
   "execution_count": 88,
   "metadata": {},
   "outputs": [],
   "source": [
    "df_re = df_re[~df_re.联系电话.isin(df_res_zw.号码)]"
   ]
  },
  {
   "cell_type": "code",
   "execution_count": 89,
   "metadata": {},
   "outputs": [
    {
     "data": {
      "text/plain": [
       "联系电话             48406\n",
       "家庭成员/经常联系人号码1    48406\n",
       "微网格ID            48406\n",
       "微网格名称            48406\n",
       "微网格网格ID          48406\n",
       "我号异宽             48406\n",
       "我宽异号             48406\n",
       "宽带成员类型           29732\n",
       "dtype: int64"
      ]
     },
     "execution_count": 89,
     "metadata": {},
     "output_type": "execute_result"
    }
   ],
   "source": [
    "df_re.count()"
   ]
  },
  {
   "cell_type": "code",
   "execution_count": 90,
   "metadata": {},
   "outputs": [],
   "source": [
    "df_re_copy=df_re.copy()"
   ]
  },
  {
   "cell_type": "markdown",
   "metadata": {},
   "source": [
    "### ***返乡重来,用下行注释code***"
   ]
  },
  {
   "cell_type": "code",
   "execution_count": 113,
   "metadata": {},
   "outputs": [],
   "source": [
    "# df_re=df_re_copy"
   ]
  },
  {
   "cell_type": "code",
   "execution_count": 91,
   "metadata": {},
   "outputs": [
    {
     "data": {
      "text/plain": [
       "Index(['联系电话', '家庭成员/经常联系人号码1', '微网格ID', '微网格名称', '微网格网格ID', '我号异宽', '我宽异号',\n",
       "       '宽带成员类型'],\n",
       "      dtype='object')"
      ]
     },
     "execution_count": 91,
     "metadata": {},
     "output_type": "execute_result"
    }
   ],
   "source": [
    "df_re.columns"
   ]
  },
  {
   "cell_type": "code",
   "execution_count": 92,
   "metadata": {},
   "outputs": [],
   "source": [
    "df_re=df_re.rename(columns={'联系电话':'号码'})"
   ]
  },
  {
   "cell_type": "code",
   "execution_count": 93,
   "metadata": {},
   "outputs": [
    {
     "data": {
      "text/plain": [
       "Index(['地市', '区县', '服务中心', '服务中心ID', '服务中心属性', '网格ID', '网格名称', '网格类型',\n",
       "       '全息工单责任人', '手机号码', '派单量', '返乡派单'],\n",
       "      dtype='object')"
      ]
     },
     "execution_count": 93,
     "metadata": {},
     "output_type": "execute_result"
    }
   ],
   "source": [
    "df_zw.columns"
   ]
  },
  {
   "cell_type": "code",
   "execution_count": 95,
   "metadata": {},
   "outputs": [],
   "source": [
    "df_res_t_re=pd.DataFrame()\n",
    "df_res_zw_re=pd.DataFrame()\n",
    "loglist_re=pd.DataFrame()\n",
    "for i in df_zw.index:\n",
    "    df_mb=df_re[df_re['微网格网格ID']==df_zw.loc[i,'网格ID']]\n",
    "    index=df_zw.loc[i,'返乡派单']\n",
    "    count=df_mb['号码'].count()\n",
    "    if count<=0:\n",
    "        loglist_re=loglist_re.append(df_zw.loc[i,:])\n",
    "        continue\n",
    " \n",
    "    try:\n",
    "        if count<index:\n",
    "            df_res_t_re=df_mb.sample(int(count), replace=False)\n",
    "        else:\n",
    "            df_res_t_re=df_mb.sample(int(index), replace=False)\n",
    "    except:\n",
    "        print('总号码不够')\n",
    "        print('index',index)\n",
    "\n",
    "        break\n",
    "    df_res_t_re['编号']=df_zw.loc[i,'手机号码']\n",
    "    df_res_zw_re=df_res_zw_re.append(df_res_t_re)\n",
    "    df_re.drop(df_res_t_re.index, inplace=True)"
   ]
  },
  {
   "cell_type": "code",
   "execution_count": 96,
   "metadata": {},
   "outputs": [
    {
     "data": {
      "text/html": [
       "<div>\n",
       "<style scoped>\n",
       "    .dataframe tbody tr th:only-of-type {\n",
       "        vertical-align: middle;\n",
       "    }\n",
       "\n",
       "    .dataframe tbody tr th {\n",
       "        vertical-align: top;\n",
       "    }\n",
       "\n",
       "    .dataframe thead th {\n",
       "        text-align: right;\n",
       "    }\n",
       "</style>\n",
       "<table border=\"1\" class=\"dataframe\">\n",
       "  <thead>\n",
       "    <tr style=\"text-align: right;\">\n",
       "      <th></th>\n",
       "      <th>地市</th>\n",
       "      <th>区县</th>\n",
       "      <th>服务中心</th>\n",
       "      <th>服务中心ID</th>\n",
       "      <th>服务中心属性</th>\n",
       "      <th>网格ID</th>\n",
       "      <th>网格名称</th>\n",
       "      <th>网格类型</th>\n",
       "      <th>全息工单责任人</th>\n",
       "      <th>手机号码</th>\n",
       "      <th>派单量</th>\n",
       "      <th>返乡派单</th>\n",
       "    </tr>\n",
       "  </thead>\n",
       "  <tbody>\n",
       "    <tr>\n",
       "      <th>38</th>\n",
       "      <td>宜宾</td>\n",
       "      <td>珙县</td>\n",
       "      <td>城区服务中心</td>\n",
       "      <td>1411849.0</td>\n",
       "      <td>城市服务中心</td>\n",
       "      <td>1.100010e+10</td>\n",
       "      <td>珙县城市四网格</td>\n",
       "      <td>城市</td>\n",
       "      <td>石宇</td>\n",
       "      <td>1.518314e+10</td>\n",
       "      <td>60.0</td>\n",
       "      <td>40.0</td>\n",
       "    </tr>\n",
       "    <tr>\n",
       "      <th>41</th>\n",
       "      <td>宜宾</td>\n",
       "      <td>珙县</td>\n",
       "      <td>城区服务中心</td>\n",
       "      <td>1411849.0</td>\n",
       "      <td>城市服务中心</td>\n",
       "      <td>1.100010e+10</td>\n",
       "      <td>巡场镇三网格</td>\n",
       "      <td>农村</td>\n",
       "      <td>石宇</td>\n",
       "      <td>1.518314e+10</td>\n",
       "      <td>60.0</td>\n",
       "      <td>40.0</td>\n",
       "    </tr>\n",
       "    <tr>\n",
       "      <th>46</th>\n",
       "      <td>宜宾</td>\n",
       "      <td>珙县</td>\n",
       "      <td>珙泉服务中心</td>\n",
       "      <td>1044942.0</td>\n",
       "      <td>农村服务中心</td>\n",
       "      <td>1.100010e+10</td>\n",
       "      <td>珙泉镇三网格</td>\n",
       "      <td>农村</td>\n",
       "      <td>蔡志</td>\n",
       "      <td>1.519700e+10</td>\n",
       "      <td>60.0</td>\n",
       "      <td>40.0</td>\n",
       "    </tr>\n",
       "    <tr>\n",
       "      <th>50</th>\n",
       "      <td>宜宾</td>\n",
       "      <td>珙县</td>\n",
       "      <td>洛表服务中心</td>\n",
       "      <td>1460862.0</td>\n",
       "      <td>农村服务中心</td>\n",
       "      <td>1.100010e+10</td>\n",
       "      <td>洛表镇四网格</td>\n",
       "      <td>农村</td>\n",
       "      <td>胡仁军</td>\n",
       "      <td>1.878314e+10</td>\n",
       "      <td>60.0</td>\n",
       "      <td>40.0</td>\n",
       "    </tr>\n",
       "    <tr>\n",
       "      <th>52</th>\n",
       "      <td>宜宾</td>\n",
       "      <td>珙县</td>\n",
       "      <td>洛表服务中心</td>\n",
       "      <td>1460862.0</td>\n",
       "      <td>农村服务中心</td>\n",
       "      <td>1.100010e+10</td>\n",
       "      <td>洛亥镇二网格</td>\n",
       "      <td>农村</td>\n",
       "      <td>胡仁军</td>\n",
       "      <td>1.878314e+10</td>\n",
       "      <td>60.0</td>\n",
       "      <td>40.0</td>\n",
       "    </tr>\n",
       "    <tr>\n",
       "      <th>58</th>\n",
       "      <td>宜宾</td>\n",
       "      <td>珙县</td>\n",
       "      <td>上乡服务中心</td>\n",
       "      <td>1411852.0</td>\n",
       "      <td>农村服务中心</td>\n",
       "      <td>1.100010e+10</td>\n",
       "      <td>上罗镇四网格</td>\n",
       "      <td>农村</td>\n",
       "      <td>胡纯智</td>\n",
       "      <td>1.341929e+10</td>\n",
       "      <td>60.0</td>\n",
       "      <td>40.0</td>\n",
       "    </tr>\n",
       "    <tr>\n",
       "      <th>62</th>\n",
       "      <td>宜宾</td>\n",
       "      <td>珙县</td>\n",
       "      <td>孝儿服务中心</td>\n",
       "      <td>121212.0</td>\n",
       "      <td>农村服务中心</td>\n",
       "      <td>1.100010e+10</td>\n",
       "      <td>孝儿镇三网格</td>\n",
       "      <td>农村</td>\n",
       "      <td>陈俊</td>\n",
       "      <td>1.878064e+10</td>\n",
       "      <td>60.0</td>\n",
       "      <td>40.0</td>\n",
       "    </tr>\n",
       "    <tr>\n",
       "      <th>265</th>\n",
       "      <td>宜宾</td>\n",
       "      <td>兴文</td>\n",
       "      <td>莲花服务中心</td>\n",
       "      <td>1460863.0</td>\n",
       "      <td>农村服务中心</td>\n",
       "      <td>1.100010e+10</td>\n",
       "      <td>莲花二网格</td>\n",
       "      <td>农村</td>\n",
       "      <td>刘飞</td>\n",
       "      <td>1.389092e+10</td>\n",
       "      <td>60.0</td>\n",
       "      <td>40.0</td>\n",
       "    </tr>\n",
       "    <tr>\n",
       "      <th>275</th>\n",
       "      <td>宜宾</td>\n",
       "      <td>兴文</td>\n",
       "      <td>石海服务中心</td>\n",
       "      <td>1137880.0</td>\n",
       "      <td>农村服务中心</td>\n",
       "      <td>1.100010e+10</td>\n",
       "      <td>麒麟苗族乡三网格</td>\n",
       "      <td>农村</td>\n",
       "      <td>黄鹏</td>\n",
       "      <td>1.356859e+10</td>\n",
       "      <td>60.0</td>\n",
       "      <td>40.0</td>\n",
       "    </tr>\n",
       "    <tr>\n",
       "      <th>286</th>\n",
       "      <td>宜宾</td>\n",
       "      <td>叙州</td>\n",
       "      <td>柏溪城北服务中心</td>\n",
       "      <td>1460861.0</td>\n",
       "      <td>城市服务中心</td>\n",
       "      <td>1.100010e+10</td>\n",
       "      <td>叙州区城北分局未来网格</td>\n",
       "      <td>城市</td>\n",
       "      <td>颜继尧</td>\n",
       "      <td>1.529819e+10</td>\n",
       "      <td>60.0</td>\n",
       "      <td>40.0</td>\n",
       "    </tr>\n",
       "    <tr>\n",
       "      <th>301</th>\n",
       "      <td>宜宾</td>\n",
       "      <td>叙州</td>\n",
       "      <td>高场服务中心</td>\n",
       "      <td>1231434.0</td>\n",
       "      <td>农村服务中心</td>\n",
       "      <td>1.100010e+10</td>\n",
       "      <td>叙州区高场分局樟海镇隆兴网格</td>\n",
       "      <td>农村</td>\n",
       "      <td>艾国桥</td>\n",
       "      <td>1.528353e+10</td>\n",
       "      <td>60.0</td>\n",
       "      <td>40.0</td>\n",
       "    </tr>\n",
       "    <tr>\n",
       "      <th>309</th>\n",
       "      <td>宜宾</td>\n",
       "      <td>叙州</td>\n",
       "      <td>观音服务中心</td>\n",
       "      <td>121171.0</td>\n",
       "      <td>农村服务中心</td>\n",
       "      <td>1.100010e+10</td>\n",
       "      <td>叙州区观音分局泥溪镇文星网格</td>\n",
       "      <td>农村</td>\n",
       "      <td>严存明</td>\n",
       "      <td>1.377891e+10</td>\n",
       "      <td>60.0</td>\n",
       "      <td>40.0</td>\n",
       "    </tr>\n",
       "    <tr>\n",
       "      <th>321</th>\n",
       "      <td>宜宾</td>\n",
       "      <td>叙州</td>\n",
       "      <td>蕨溪服务中心</td>\n",
       "      <td>121173.0</td>\n",
       "      <td>农村服务中心</td>\n",
       "      <td>1.100010e+10</td>\n",
       "      <td>叙州区蕨溪分局蕨溪镇蕨南片网格</td>\n",
       "      <td>农村</td>\n",
       "      <td>李德赛</td>\n",
       "      <td>1.878067e+10</td>\n",
       "      <td>60.0</td>\n",
       "      <td>40.0</td>\n",
       "    </tr>\n",
       "  </tbody>\n",
       "</table>\n",
       "</div>"
      ],
      "text/plain": [
       "     地市  区县      服务中心     服务中心ID  服务中心属性          网格ID             网格名称 网格类型  \\\n",
       "38   宜宾  珙县    城区服务中心  1411849.0  城市服务中心  1.100010e+10          珙县城市四网格   城市   \n",
       "41   宜宾  珙县    城区服务中心  1411849.0  城市服务中心  1.100010e+10           巡场镇三网格   农村   \n",
       "46   宜宾  珙县    珙泉服务中心  1044942.0  农村服务中心  1.100010e+10           珙泉镇三网格   农村   \n",
       "50   宜宾  珙县    洛表服务中心  1460862.0  农村服务中心  1.100010e+10           洛表镇四网格   农村   \n",
       "52   宜宾  珙县    洛表服务中心  1460862.0  农村服务中心  1.100010e+10           洛亥镇二网格   农村   \n",
       "58   宜宾  珙县    上乡服务中心  1411852.0  农村服务中心  1.100010e+10           上罗镇四网格   农村   \n",
       "62   宜宾  珙县    孝儿服务中心   121212.0  农村服务中心  1.100010e+10           孝儿镇三网格   农村   \n",
       "265  宜宾  兴文    莲花服务中心  1460863.0  农村服务中心  1.100010e+10            莲花二网格   农村   \n",
       "275  宜宾  兴文    石海服务中心  1137880.0  农村服务中心  1.100010e+10         麒麟苗族乡三网格   农村   \n",
       "286  宜宾  叙州  柏溪城北服务中心  1460861.0  城市服务中心  1.100010e+10      叙州区城北分局未来网格   城市   \n",
       "301  宜宾  叙州    高场服务中心  1231434.0  农村服务中心  1.100010e+10   叙州区高场分局樟海镇隆兴网格   农村   \n",
       "309  宜宾  叙州    观音服务中心   121171.0  农村服务中心  1.100010e+10   叙州区观音分局泥溪镇文星网格   农村   \n",
       "321  宜宾  叙州    蕨溪服务中心   121173.0  农村服务中心  1.100010e+10  叙州区蕨溪分局蕨溪镇蕨南片网格   农村   \n",
       "\n",
       "    全息工单责任人          手机号码   派单量  返乡派单  \n",
       "38       石宇  1.518314e+10  60.0  40.0  \n",
       "41       石宇  1.518314e+10  60.0  40.0  \n",
       "46       蔡志  1.519700e+10  60.0  40.0  \n",
       "50      胡仁军  1.878314e+10  60.0  40.0  \n",
       "52      胡仁军  1.878314e+10  60.0  40.0  \n",
       "58      胡纯智  1.341929e+10  60.0  40.0  \n",
       "62       陈俊  1.878064e+10  60.0  40.0  \n",
       "265      刘飞  1.389092e+10  60.0  40.0  \n",
       "275      黄鹏  1.356859e+10  60.0  40.0  \n",
       "286     颜继尧  1.529819e+10  60.0  40.0  \n",
       "301     艾国桥  1.528353e+10  60.0  40.0  \n",
       "309     严存明  1.377891e+10  60.0  40.0  \n",
       "321     李德赛  1.878067e+10  60.0  40.0  "
      ]
     },
     "execution_count": 96,
     "metadata": {},
     "output_type": "execute_result"
    }
   ],
   "source": [
    "loglist_re"
   ]
  },
  {
   "cell_type": "code",
   "execution_count": 98,
   "metadata": {},
   "outputs": [],
   "source": [
    "df_res_zw_re.to_excel(out+'/4.返乡结果.xlsx',encoding='utf-8',index=0)\n",
    "loglist_re.to_excel(out+'/5.返乡未分配清单.xlsx',encoding='utf-8',index=0)"
   ]
  },
  {
   "cell_type": "code",
   "execution_count": 99,
   "metadata": {},
   "outputs": [
    {
     "data": {
      "text/plain": [
       "Index(['联系电话', '家庭成员/经常联系人号码1', '微网格ID', '微网格名称', '微网格网格ID', '我号异宽', '我宽异号',\n",
       "       '宽带成员类型'],\n",
       "      dtype='object')"
      ]
     },
     "execution_count": 99,
     "metadata": {},
     "output_type": "execute_result"
    }
   ],
   "source": [
    "df_re_copy.columns"
   ]
  },
  {
   "cell_type": "code",
   "execution_count": 100,
   "metadata": {},
   "outputs": [],
   "source": [
    "df_phone_re = df_re_copy[~df_re_copy.联系电话.isin(df_res_zw_re.号码)]\n",
    "df_phone_re.to_csv(out+'/6.剔除返乡后的返乡号码池.csv',encoding='utf_8_sig',index=0)"
   ]
  }
 ],
 "metadata": {
  "interpreter": {
   "hash": "ac59ebe37160ed0dfa835113d9b8498d9f09ceb179beaac4002f036b9467c963"
  },
  "kernelspec": {
   "display_name": "Python 3.9.6 64-bit",
   "language": "python",
   "name": "python3"
  },
  "language_info": {
   "codemirror_mode": {
    "name": "ipython",
    "version": 3
   },
   "file_extension": ".py",
   "mimetype": "text/x-python",
   "name": "python",
   "nbconvert_exporter": "python",
   "pygments_lexer": "ipython3",
   "version": "3.9.6"
  },
  "orig_nbformat": 4
 },
 "nbformat": 4,
 "nbformat_minor": 2
}
