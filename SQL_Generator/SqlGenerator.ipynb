{
 "cells": [
  {
   "cell_type": "code",
   "execution_count": 16,
   "metadata": {},
   "outputs": [],
   "source": [
    "import time\n",
    "import json\n",
    "from tkinter import *\n",
    "from tkinter import messagebox\n",
    "from tkinter import ttk\n",
    "from tkinter import filedialog\n",
    "import tkinter as tk\n",
    "\n",
    "\n",
    "import dictFactory\n",
    "import Util as util"
   ]
  },
  {
   "cell_type": "code",
   "execution_count": 29,
   "metadata": {},
   "outputs": [],
   "source": [
    "class WinDraw():\n",
    "    def __init__(self,win):\n",
    "        self.win=win\n",
    "        self.button_Init()\n",
    "        self.input_Init()\n",
    "\n",
    "    def button_Init(self):\n",
    "            B1 = tk.Button(self.win, text=\"一键生成\", command=self.productSql)\n",
    "            B1.place(x=150, y=150)\n",
    "            B2 = tk.Button(self.win, text=\"常用配置\", command=self.productSql)\n",
    "            B2.place(x=300, y=150)\n",
    "            B3 = tk.Button(self.win, text=\"备用\", command=self.productSql)\n",
    "            B3.place(x=450, y=150)\n",
    "            B4 = tk.Button(self.win, text=\"退出\", command=util.Util(self.win).quit)\n",
    "            B4.place(x=600, y=150)\n",
    "    def input_Init(self):\n",
    "            s1 = StringVar(value='测试')\n",
    "            entry1 = tk.Entry(self.win,width=20,textvariable=s1)\n",
    "            entry1.place(x=150,y=100)\n",
    "\n",
    "    def productSql():\n",
    "        pass"
   ]
  },
  {
   "cell_type": "code",
   "execution_count": 12,
   "metadata": {},
   "outputs": [],
   "source": [
    "with open(\"./GeneratorConfig.json\",'r',encoding='utf8') as fp:\n",
    "    generator_Config = json.load(fp)"
   ]
  },
  {
   "cell_type": "code",
   "execution_count": 13,
   "metadata": {},
   "outputs": [],
   "source": [
    "create_dict={}\n",
    "select_dict={}\n",
    "update_dict={}\n",
    "delete_dict={}"
   ]
  },
  {
   "cell_type": "code",
   "execution_count": 14,
   "metadata": {},
   "outputs": [],
   "source": [
    "def winDraw():\n",
    "        # 创建主窗口\n",
    "        win = tk.Tk()\n",
    "        # 设置标题\n",
    "        version=\"v1.0\"\n",
    "        win.title(\"SQL代码生成器\"+version)\n",
    "        # 设置大小和位置\n",
    "        win.geometry(\"800x800+200+20\")\n",
    "\n",
    "        #组件渲染\n",
    "        WinDraw(win)\n",
    "        # 显示出来\n",
    "        win.mainloop()\n"
   ]
  },
  {
   "cell_type": "code",
   "execution_count": 30,
   "metadata": {},
   "outputs": [],
   "source": [
    "winDraw()"
   ]
  }
 ],
 "metadata": {
  "kernelspec": {
   "display_name": "Python 3.9.3 64-bit",
   "language": "python",
   "name": "python3"
  },
  "language_info": {
   "codemirror_mode": {
    "name": "ipython",
    "version": 3
   },
   "file_extension": ".py",
   "mimetype": "text/x-python",
   "name": "python",
   "nbconvert_exporter": "python",
   "pygments_lexer": "ipython3",
   "version": "3.9.3"
  },
  "orig_nbformat": 4,
  "vscode": {
   "interpreter": {
    "hash": "6fff98fc3b3d81bd655c2cc48858186e4d9e2db7b515bf1c3221888f12a62f87"
   }
  }
 },
 "nbformat": 4,
 "nbformat_minor": 2
}
