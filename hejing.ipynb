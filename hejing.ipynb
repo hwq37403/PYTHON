{
 "cells": [
  {
   "cell_type": "code",
   "execution_count": 24,
   "metadata": {},
   "outputs": [],
   "source": [
    "import pandas as pd\n",
    "import os\n",
    "\n",
    "import tkinter as tk\n",
    "from tkinter import ttk\n",
    "from tkinter import filedialog\n",
    "\n",
    "from tkinter import messagebox\n",
    "\n",
    "import re\n",
    "import time"
   ]
  },
  {
   "cell_type": "code",
   "execution_count": 25,
   "metadata": {},
   "outputs": [
    {
     "name": "stdout",
     "output_type": "stream",
     "text": [
      "正在打开……\n"
     ]
    }
   ],
   "source": [
    "print('正在打开……')\n",
    "df_mr = pd.DataFrame()\n",
    "root = tk.Tk()\n",
    "root.withdraw()\n",
    "# path = filedialog.askopenfilename()\n",
    "# path_out, temp = os.path.split(path)\n",
    "# file_name, extension = os.path.splitext(temp)\n",
    "# print('path:', path_out)\n",
    "# print('file_name:', file_name)\n",
    "# print('extension:', extension)\n",
    "\n",
    "datapath1 = filedialog.askopenfilename()\n"
   ]
  },
  {
   "cell_type": "code",
   "execution_count": 34,
   "metadata": {},
   "outputs": [
    {
     "name": "stdout",
     "output_type": "stream",
     "text": [
      "['18级', '关键业务']\n"
     ]
    }
   ],
   "source": [
    "df = pd.read_excel(datapath1, sheet_name=None)\n",
    "print(list(df))"
   ]
  },
  {
   "cell_type": "code",
   "execution_count": 35,
   "metadata": {},
   "outputs": [],
   "source": [
    "sheetname=list(df)\n"
   ]
  },
  {
   "cell_type": "code",
   "execution_count": 22,
   "metadata": {},
   "outputs": [],
   "source": [
    "for name in sheetname:\n",
    "    df_t=pd.read_excel(datapath1,sheet_name=name)\n",
    "    df_t.columns=df_t.columns.str.strip()\n",
    "    df_t=df_t.sort_values(by='区县')\n",
    "    menu1 = df_t.loc[:,'区县'].drop_duplicates()\n",
    "    df_res=pd.DataFrame()\n",
    "    for qx in menu1:\n",
    "        df_tmp = df_t[df_t['区县'] == qx]\n",
    "\n",
    "        if df_tmp.shape[0] > 2 :\n",
    "            df_tmp=df_tmp.sample(n=3)\n",
    "        df_res=pd.concat([df_res,df_tmp])\n",
    "    df_res.to_excel(name+'.xlsx',sheet_name=name)"
   ]
  },
  {
   "cell_type": "code",
   "execution_count": 36,
   "metadata": {},
   "outputs": [
    {
     "name": "stdout",
     "output_type": "stream",
     "text": [
      "18级\n",
      "关键业务\n"
     ]
    }
   ],
   "source": [
    "for name in sheetname:\n",
    "    df_t=pd.read_excel(datapath1,sheet_name=name)\n",
    "    df_t.columns=df_t.columns.str.strip()\n",
    "    df_t=df_t.sort_values(by='区县')\n",
    "    print(name)\n",
    "    menu1 = df_t.loc[:,'区县'].drop_duplicates()\n",
    "    df_res=pd.DataFrame()\n",
    "    if name=='批量业务':\n",
    "        continue\n",
    "    if name=='18级':\n",
    "        for qx in menu1:\n",
    "            df_tmp = df_t[df_t['区县'] == qx]\n",
    "\n",
    "            if df_tmp.shape[0] > 2 :\n",
    "                df_tmp=df_tmp.sample(n=3)\n",
    "            df_res=pd.concat([df_res,df_tmp])\n",
    "        df_res.to_excel(name+'.xlsx',sheet_name=name)\n",
    "    \n",
    "    if name=='关键业务':\n",
    "        for qx in menu1:\n",
    "            df_tmp = df_t[df_t['区县'] == qx]\n",
    "            menu12= df_tmp.loc[:,'来源报表名称'].drop_duplicates()\n",
    "            for source_name in menu12:\n",
    "                df_tmp2=df_tmp[df_tmp['来源报表名称'] == source_name]\n",
    "                if df_tmp2.shape[0] > 2 :\n",
    "                    df_tmp2=df_tmp2.sample(n=3)\n",
    "                df_res=pd.concat([df_res,df_tmp2])\n",
    "            \n",
    "        df_res.to_excel(name+'.xlsx',sheet_name=name)"
   ]
  }
 ],
 "metadata": {
  "kernelspec": {
   "display_name": "Python 3",
   "language": "python",
   "name": "python3"
  },
  "language_info": {
   "codemirror_mode": {
    "name": "ipython",
    "version": 3
   },
   "file_extension": ".py",
   "mimetype": "text/x-python",
   "name": "python",
   "nbconvert_exporter": "python",
   "pygments_lexer": "ipython3",
   "version": "3.9.6 (tags/v3.9.6:db3ff76, Jun 28 2021, 15:26:21) [MSC v.1929 64 bit (AMD64)]"
  },
  "orig_nbformat": 4,
  "vscode": {
   "interpreter": {
    "hash": "11938c6bc6919ae2720b4d5011047913343b08a43b18698fd82dedb0d4417594"
   }
  }
 },
 "nbformat": 4,
 "nbformat_minor": 2
}
