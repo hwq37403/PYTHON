{
 "cells": [
  {
   "cell_type": "code",
   "execution_count": 89,
   "metadata": {},
   "outputs": [],
   "source": [
    "import pandas as pd\n",
    "import os\n",
    "\n",
    "import tkinter as tk\n",
    "from tkinter import ttk\n",
    "from tkinter import filedialog\n",
    "\n",
    "import numpy as np\n",
    "from tkinter import messagebox\n",
    "\n",
    "import re\n",
    "import time"
   ]
  },
  {
   "cell_type": "code",
   "execution_count": 90,
   "metadata": {},
   "outputs": [
    {
     "name": "stdout",
     "output_type": "stream",
     "text": [
      "正在打开……\n"
     ]
    }
   ],
   "source": [
    "print('正在打开……')\n",
    "df_mr=pd.DataFrame()\n",
    "root = tk.Tk()\n",
    "root.withdraw()\n",
    "# path = filedialog.askopenfilename()\n",
    "# path_out, temp = os.path.split(path)\n",
    "# file_name, extension = os.path.splitext(temp)\n",
    "# print('path:', path_out)\n",
    "# print('file_name:', file_name)\n",
    "# print('extension:', extension)\n",
    "\n",
    "path = filedialog.askopenfilename()"
   ]
  },
  {
   "cell_type": "code",
   "execution_count": 91,
   "metadata": {},
   "outputs": [],
   "source": [
    "sheetName=['城市','绝地反击型','强力进攻型','提值进攻型','稳存进攻型']"
   ]
  },
  {
   "cell_type": "code",
   "execution_count": 102,
   "metadata": {},
   "outputs": [],
   "source": [
    "def  rank_handle(sheetName):\n",
    "    file1 = pd.read_excel(path, sheet_name=sheetName,skiprows=1)\n",
    "\n",
    "    group_col=['区县',\t'片区',\t'片区ID',\t'服务中心',\t'服务中心ID', \t'中心属性',\t'中心类型',\t'中心分级']\n",
    "\n",
    "    col_name=[]\n",
    "    for col in file1.columns:\n",
    "        for col1 in group_col:\n",
    "            if col1 in col:\n",
    "                col_name.append(col)\n",
    "        # for col2 in col:\n",
    "            # print(col2)\n",
    "        if '得分' in col  and '修正得分' not in col and '类型得分' not in col and '两比得分' not in col and '三比得分' not in col and '排名得分' not in col and '最终得分' not in col and '实际服务中心人数' not in col:\n",
    "                col_name.append(col)\n",
    "        \n",
    "    f1=file1[col_name]\n",
    "\n",
    "    # print(f1)\n",
    "    for col in col_name:\n",
    "        flag=0\n",
    "        for col1 in group_col:\n",
    "      \n",
    "            if col1 in col:\n",
    "                flag+=1\n",
    "                continue\n",
    "        if flag==0:\n",
    "       \n",
    "            f1[col+'排名']=f1[col].rank(method='dense',ascending=False)\n",
    "\n",
    "\n",
    "    res_col=group_col\n",
    "    for col in f1.columns:\n",
    "        if '排名' in col:\n",
    "            res_col.append(col)\n",
    "    # print(res_col)\n",
    "    # print(f1)\n",
    "    f1_res=f1[res_col]\n",
    "    # print(f1_res)\n",
    "    # f1_res.columns=res_col\n",
    "    return f1_res"
   ]
  },
  {
   "cell_type": "code",
   "execution_count": 117,
   "metadata": {},
   "outputs": [],
   "source": [
    "group_col_str='区县|片区|片区ID|服务中心|服务中心ID|中心属性|中心类型|中心分级'"
   ]
  },
  {
   "cell_type": "code",
   "execution_count": 146,
   "metadata": {},
   "outputs": [],
   "source": [
    "%%capture --no-display\n",
    "df_res=[]\n",
    "df_res_ss=[]\n",
    "for s in sheetName:\n",
    " \n",
    "    df_tmp=rank_handle(s)\n",
    "    \n",
    "    col=df_tmp.columns[~df_tmp.columns.str.contains(group_col_str)]\n",
    "    df_res_col=pd.DataFrame(columns=['类型'],data=[s])\n",
    "\n",
    "    for c in col:\n",
    "        data_sort=df_tmp.sort_values(by=[c],ascending=[False])\n",
    "        \n",
    "        grouped=data_sort['服务中心'].head(3)\n",
    "        ss=''\n",
    "        for v in grouped:\n",
    "            # print(v)\n",
    "            ss=ss+v+'\\n'\n",
    "        df_res_col[c]=ss\n",
    "        # print(df_res_col)\n",
    "\n",
    "    # print(col)\n",
    "    df_res.append(df_tmp)\n",
    "    df_res_ss.append(df_res_col)"
   ]
  },
  {
   "attachments": {},
   "cell_type": "markdown",
   "metadata": {},
   "source": [
    "### ***将df合并至一个子表sheet里***"
   ]
  },
  {
   "cell_type": "code",
   "execution_count": 147,
   "metadata": {},
   "outputs": [],
   "source": [
    "def df_to_oneSheet(df_list,name):\n",
    "    # Create a list of DataFrames\n",
    "    # Save the DataFrame list to an excel file with one sheet\n",
    "    with pd.ExcelWriter(name+'data.xlsx') as writer:\n",
    "        startrow = 0\n",
    "        for i, df in enumerate(df_list):\n",
    "            df.to_excel(writer, sheet_name='sheet1', startrow=startrow, index=False)\n",
    "            startrow += df.shape[0] + 2\n",
    "            # Add an empty row\n",
    "            writer.save()\n"
   ]
  },
  {
   "cell_type": "code",
   "execution_count": 148,
   "metadata": {},
   "outputs": [],
   "source": [
    "df_to_oneSheet(df_res,'排名')\n",
    "df_to_oneSheet(df_res_ss,'结论')"
   ]
  }
 ],
 "metadata": {
  "kernelspec": {
   "display_name": "Python 3.9.3 64-bit",
   "language": "python",
   "name": "python3"
  },
  "language_info": {
   "codemirror_mode": {
    "name": "ipython",
    "version": 3
   },
   "file_extension": ".py",
   "mimetype": "text/x-python",
   "name": "python",
   "nbconvert_exporter": "python",
   "pygments_lexer": "ipython3",
   "version": "3.9.3"
  },
  "orig_nbformat": 4,
  "vscode": {
   "interpreter": {
    "hash": "6fff98fc3b3d81bd655c2cc48858186e4d9e2db7b515bf1c3221888f12a62f87"
   }
  }
 },
 "nbformat": 4,
 "nbformat_minor": 2
}
