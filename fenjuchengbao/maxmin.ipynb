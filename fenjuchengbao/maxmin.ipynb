{
 "cells": [
  {
   "cell_type": "code",
   "execution_count": 1,
   "metadata": {},
   "outputs": [],
   "source": [
    "import pandas as pd\n",
    "import os\n",
    "\n",
    "import tkinter as tk\n",
    "from tkinter import ttk\n",
    "from tkinter import filedialog\n",
    "\n",
    "import numpy as np\n",
    "from tkinter import messagebox\n",
    "\n",
    "import re\n",
    "import time"
   ]
  },
  {
   "cell_type": "code",
   "execution_count": 2,
   "metadata": {},
   "outputs": [
    {
     "name": "stdout",
     "output_type": "stream",
     "text": [
      "正在打开……\n"
     ]
    }
   ],
   "source": [
    "print('正在打开……')\n",
    "df_mr=pd.DataFrame()\n",
    "root = tk.Tk()\n",
    "root.withdraw()\n",
    "# path = filedialog.askopenfilename()\n",
    "# path_out, temp = os.path.split(path)\n",
    "# file_name, extension = os.path.splitext(temp)\n",
    "# print('path:', path_out)\n",
    "# print('file_name:', file_name)\n",
    "# print('extension:', extension)\n",
    "\n",
    "path= filedialog.askopenfilename()"
   ]
  },
  {
   "cell_type": "code",
   "execution_count": 3,
   "metadata": {},
   "outputs": [],
   "source": [
    "file1 = pd.read_excel(path, sheet_name='城市')\n",
    "file1=file1[file1['区县'].notnull()]\n",
    "file2 = pd.read_excel(path, sheet_name='绝地反击型')\n",
    "file2=file2[file2['区县'].notnull()]\n",
    "file3 = pd.read_excel(path, sheet_name='强力进攻型')\n",
    "file3=file3[file3['区县'].notnull()]\n",
    "file4 = pd.read_excel(path, sheet_name='提值进攻型')\n",
    "file4=file4[file4['区县'].notnull()]\n",
    "file5 = pd.read_excel(path, sheet_name='稳存进攻型')\n",
    "file5=file5[file5['区县'].notnull()]"
   ]
  },
  {
   "cell_type": "code",
   "execution_count": 11,
   "metadata": {},
   "outputs": [],
   "source": [
    "col=['CHN收入完成率', '客户份额改善', '新增客户收入完成率', '新增宽带收入完成率', '千兆宽带完成率', '个人提值完成率',\n",
    "       '家庭提值完成率', '重点客户融合新约完成率', '全量客户融合合约新增完成率', '新动能收入完成率', '5G机套新增完成率',\n",
    "       '泛全5G终端销量完成率', '三比']"
   ]
  },
  {
   "cell_type": "code",
   "execution_count": 16,
   "metadata": {},
   "outputs": [],
   "source": [
    "def handle(df,type):\n",
    "    df_tmp=df[col]\n",
    "    df_res=df_tmp.apply(lambda x: x.max() - x.min())\n",
    "    df_r=pd.DataFrame(df_res).T\n",
    "    df_r['备注']=type\n",
    "    return df_r"
   ]
  },
  {
   "cell_type": "code",
   "execution_count": 17,
   "metadata": {},
   "outputs": [],
   "source": [
    "df_res_l=pd.DataFrame()"
   ]
  },
  {
   "cell_type": "code",
   "execution_count": 18,
   "metadata": {},
   "outputs": [],
   "source": [
    "df_res1=handle(file1,'城市差异')\n",
    "df_res2=handle(file2,'绝地反击型差异')\n",
    "df_res3=handle(file3,'强力进攻型差异')\n",
    "df_res4=handle(file4,'提值进攻型差异')\n",
    "df_res5=handle(file5,'稳存进攻型差异')"
   ]
  },
  {
   "cell_type": "code",
   "execution_count": 19,
   "metadata": {},
   "outputs": [],
   "source": [
    "df_res_l=pd.concat([df_res1,df_res2,df_res3,df_res4,df_res5])"
   ]
  },
  {
   "cell_type": "code",
   "execution_count": 20,
   "metadata": {},
   "outputs": [
    {
     "data": {
      "text/html": [
       "<div>\n",
       "<style scoped>\n",
       "    .dataframe tbody tr th:only-of-type {\n",
       "        vertical-align: middle;\n",
       "    }\n",
       "\n",
       "    .dataframe tbody tr th {\n",
       "        vertical-align: top;\n",
       "    }\n",
       "\n",
       "    .dataframe thead th {\n",
       "        text-align: right;\n",
       "    }\n",
       "</style>\n",
       "<table border=\"1\" class=\"dataframe\">\n",
       "  <thead>\n",
       "    <tr style=\"text-align: right;\">\n",
       "      <th></th>\n",
       "      <th>CHN收入完成率</th>\n",
       "      <th>客户份额改善</th>\n",
       "      <th>新增客户收入完成率</th>\n",
       "      <th>新增宽带收入完成率</th>\n",
       "      <th>千兆宽带完成率</th>\n",
       "      <th>个人提值完成率</th>\n",
       "      <th>家庭提值完成率</th>\n",
       "      <th>重点客户融合新约完成率</th>\n",
       "      <th>全量客户融合合约新增完成率</th>\n",
       "      <th>新动能收入完成率</th>\n",
       "      <th>5G机套新增完成率</th>\n",
       "      <th>泛全5G终端销量完成率</th>\n",
       "      <th>三比</th>\n",
       "      <th>备注</th>\n",
       "    </tr>\n",
       "  </thead>\n",
       "  <tbody>\n",
       "    <tr>\n",
       "      <th>0</th>\n",
       "      <td>0.110542</td>\n",
       "      <td>0.0312</td>\n",
       "      <td>1.242375</td>\n",
       "      <td>1.248567</td>\n",
       "      <td>1.729637</td>\n",
       "      <td>3.910814</td>\n",
       "      <td>4.662783</td>\n",
       "      <td>2.094354</td>\n",
       "      <td>0.656250</td>\n",
       "      <td>1.167475</td>\n",
       "      <td>2.267226</td>\n",
       "      <td>1.434952</td>\n",
       "      <td>1.698246</td>\n",
       "      <td>城市差异</td>\n",
       "    </tr>\n",
       "    <tr>\n",
       "      <th>0</th>\n",
       "      <td>0.202719</td>\n",
       "      <td>0.0226</td>\n",
       "      <td>0.919718</td>\n",
       "      <td>1.373361</td>\n",
       "      <td>2.287621</td>\n",
       "      <td>8.417216</td>\n",
       "      <td>6.555297</td>\n",
       "      <td>1.895728</td>\n",
       "      <td>0.936816</td>\n",
       "      <td>0.886137</td>\n",
       "      <td>1.765567</td>\n",
       "      <td>2.054694</td>\n",
       "      <td>1.966990</td>\n",
       "      <td>绝地反击型差异</td>\n",
       "    </tr>\n",
       "    <tr>\n",
       "      <th>0</th>\n",
       "      <td>0.121893</td>\n",
       "      <td>0.0328</td>\n",
       "      <td>1.231252</td>\n",
       "      <td>1.712604</td>\n",
       "      <td>4.935503</td>\n",
       "      <td>8.563134</td>\n",
       "      <td>11.783747</td>\n",
       "      <td>2.579627</td>\n",
       "      <td>0.847652</td>\n",
       "      <td>1.111134</td>\n",
       "      <td>1.675920</td>\n",
       "      <td>2.324026</td>\n",
       "      <td>3.152420</td>\n",
       "      <td>强力进攻型差异</td>\n",
       "    </tr>\n",
       "    <tr>\n",
       "      <th>0</th>\n",
       "      <td>0.144693</td>\n",
       "      <td>0.0220</td>\n",
       "      <td>0.812252</td>\n",
       "      <td>1.988753</td>\n",
       "      <td>2.083871</td>\n",
       "      <td>9.884146</td>\n",
       "      <td>7.696293</td>\n",
       "      <td>9.204150</td>\n",
       "      <td>1.096312</td>\n",
       "      <td>0.592265</td>\n",
       "      <td>1.538119</td>\n",
       "      <td>2.073501</td>\n",
       "      <td>3.856183</td>\n",
       "      <td>提值进攻型差异</td>\n",
       "    </tr>\n",
       "    <tr>\n",
       "      <th>0</th>\n",
       "      <td>0.172414</td>\n",
       "      <td>0.0198</td>\n",
       "      <td>1.483183</td>\n",
       "      <td>1.956535</td>\n",
       "      <td>1.647773</td>\n",
       "      <td>7.388987</td>\n",
       "      <td>9.416100</td>\n",
       "      <td>2.687218</td>\n",
       "      <td>0.717882</td>\n",
       "      <td>1.674833</td>\n",
       "      <td>1.676041</td>\n",
       "      <td>1.868162</td>\n",
       "      <td>2.455120</td>\n",
       "      <td>稳存进攻型差异</td>\n",
       "    </tr>\n",
       "  </tbody>\n",
       "</table>\n",
       "</div>"
      ],
      "text/plain": [
       "   CHN收入完成率  客户份额改善  新增客户收入完成率  新增宽带收入完成率   千兆宽带完成率   个人提值完成率    家庭提值完成率  \\\n",
       "0  0.110542  0.0312   1.242375   1.248567  1.729637  3.910814   4.662783   \n",
       "0  0.202719  0.0226   0.919718   1.373361  2.287621  8.417216   6.555297   \n",
       "0  0.121893  0.0328   1.231252   1.712604  4.935503  8.563134  11.783747   \n",
       "0  0.144693  0.0220   0.812252   1.988753  2.083871  9.884146   7.696293   \n",
       "0  0.172414  0.0198   1.483183   1.956535  1.647773  7.388987   9.416100   \n",
       "\n",
       "   重点客户融合新约完成率  全量客户融合合约新增完成率  新动能收入完成率  5G机套新增完成率  泛全5G终端销量完成率        三比  \\\n",
       "0     2.094354       0.656250  1.167475   2.267226     1.434952  1.698246   \n",
       "0     1.895728       0.936816  0.886137   1.765567     2.054694  1.966990   \n",
       "0     2.579627       0.847652  1.111134   1.675920     2.324026  3.152420   \n",
       "0     9.204150       1.096312  0.592265   1.538119     2.073501  3.856183   \n",
       "0     2.687218       0.717882  1.674833   1.676041     1.868162  2.455120   \n",
       "\n",
       "        备注  \n",
       "0     城市差异  \n",
       "0  绝地反击型差异  \n",
       "0  强力进攻型差异  \n",
       "0  提值进攻型差异  \n",
       "0  稳存进攻型差异  "
      ]
     },
     "execution_count": 20,
     "metadata": {},
     "output_type": "execute_result"
    }
   ],
   "source": [
    "df_res_l"
   ]
  },
  {
   "cell_type": "code",
   "execution_count": 79,
   "metadata": {},
   "outputs": [],
   "source": [
    "df_res_l.to_excel('完成率差异.xlsx')"
   ]
  }
 ],
 "metadata": {
  "kernelspec": {
   "display_name": "Python 3.9.3 64-bit",
   "language": "python",
   "name": "python3"
  },
  "language_info": {
   "codemirror_mode": {
    "name": "ipython",
    "version": 3
   },
   "file_extension": ".py",
   "mimetype": "text/x-python",
   "name": "python",
   "nbconvert_exporter": "python",
   "pygments_lexer": "ipython3",
   "version": "3.9.3"
  },
  "orig_nbformat": 4,
  "vscode": {
   "interpreter": {
    "hash": "6fff98fc3b3d81bd655c2cc48858186e4d9e2db7b515bf1c3221888f12a62f87"
   }
  }
 },
 "nbformat": 4,
 "nbformat_minor": 2
}
