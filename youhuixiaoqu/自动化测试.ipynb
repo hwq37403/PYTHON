{
 "cells": [
  {
   "cell_type": "code",
   "execution_count": 15,
   "metadata": {},
   "outputs": [],
   "source": [
    "import pyautogui as pag\n",
    "import webbrowser\n",
    "import pyperclip as pyc\n",
    "\n",
    "import time"
   ]
  },
  {
   "cell_type": "code",
   "execution_count": 92,
   "metadata": {},
   "outputs": [],
   "source": [
    "def pressdown(n):\n",
    "    time.sleep(0.5)\n",
    "    for i in range(0,n):\n",
    "        pag.hotkey('down') \n",
    "    \n",
    "def cv(s):\n",
    "    pyc.copy(s)\n",
    "    time.sleep(0.5) \n",
    "    pag.hotkey('ctrl', 'v') \n",
    "    time.sleep(1)"
   ]
  },
  {
   "cell_type": "code",
   "execution_count": 2,
   "metadata": {},
   "outputs": [
    {
     "data": {
      "text/plain": [
       "True"
      ]
     },
     "execution_count": 2,
     "metadata": {},
     "output_type": "execute_result"
    }
   ],
   "source": [
    "\n",
    "webbrowser.open_new(\"http://10.101.214.135:9083/eoms35/index.do?method=saveSession&app=app\")\n"
   ]
  },
  {
   "cell_type": "code",
   "execution_count": 93,
   "metadata": {},
   "outputs": [
    {
     "ename": "TypeError",
     "evalue": "'NoneType' object is not iterable",
     "output_type": "error",
     "traceback": [
      "\u001b[1;31m---------------------------------------------------------------------------\u001b[0m",
      "\u001b[1;31mTypeError\u001b[0m                                 Traceback (most recent call last)",
      "\u001b[1;32mg:\\vscode workspace\\PYTHON\\youhuixiaoqu\\Untitled-1.ipynb Cell 4'\u001b[0m in \u001b[0;36m<cell line: 12>\u001b[1;34m()\u001b[0m\n\u001b[0;32m      <a href='vscode-notebook-cell:/g%3A/vscode%20workspace/PYTHON/youhuixiaoqu/Untitled-1.ipynb#ch0000002?line=8'>9</a>\u001b[0m pag\u001b[39m.\u001b[39mclick(\u001b[39m633\u001b[39m, \u001b[39m532\u001b[39m)\n\u001b[0;32m     <a href='vscode-notebook-cell:/g%3A/vscode%20workspace/PYTHON/youhuixiaoqu/Untitled-1.ipynb#ch0000002?line=9'>10</a>\u001b[0m pag\u001b[39m.\u001b[39mpress(\u001b[39m'\u001b[39m\u001b[39mcapslock\u001b[39m\u001b[39m'\u001b[39m)\n\u001b[1;32m---> <a href='vscode-notebook-cell:/g%3A/vscode%20workspace/PYTHON/youhuixiaoqu/Untitled-1.ipynb#ch0000002?line=11'>12</a>\u001b[0m pag\u001b[39m.\u001b[39;49mtypewrite(message_code, interval\u001b[39m=\u001b[39;49m\u001b[39m0.25\u001b[39;49m) \u001b[39m#模拟输入\u001b[39;00m\n\u001b[0;32m     <a href='vscode-notebook-cell:/g%3A/vscode%20workspace/PYTHON/youhuixiaoqu/Untitled-1.ipynb#ch0000002?line=13'>14</a>\u001b[0m pag\u001b[39m.\u001b[39mpress(\u001b[39m'\u001b[39m\u001b[39mcapslock\u001b[39m\u001b[39m'\u001b[39m)\n\u001b[0;32m     <a href='vscode-notebook-cell:/g%3A/vscode%20workspace/PYTHON/youhuixiaoqu/Untitled-1.ipynb#ch0000002?line=15'>16</a>\u001b[0m pag\u001b[39m.\u001b[39mclick(\u001b[39m800\u001b[39m, \u001b[39m491\u001b[39m)\n",
      "File \u001b[1;32mc:\\Users\\hwq10\\AppData\\Local\\Programs\\Python\\Python39\\lib\\site-packages\\pyautogui\\__init__.py:598\u001b[0m, in \u001b[0;36m_genericPyAutoGUIChecks.<locals>.wrapper\u001b[1;34m(*args, **kwargs)\u001b[0m\n\u001b[0;32m    <a href='file:///c%3A/Users/hwq10/AppData/Local/Programs/Python/Python39/lib/site-packages/pyautogui/__init__.py?line=594'>595</a>\u001b[0m \u001b[39m@functools\u001b[39m\u001b[39m.\u001b[39mwraps(wrappedFunction)\n\u001b[0;32m    <a href='file:///c%3A/Users/hwq10/AppData/Local/Programs/Python/Python39/lib/site-packages/pyautogui/__init__.py?line=595'>596</a>\u001b[0m \u001b[39mdef\u001b[39;00m \u001b[39mwrapper\u001b[39m(\u001b[39m*\u001b[39margs, \u001b[39m*\u001b[39m\u001b[39m*\u001b[39mkwargs):\n\u001b[0;32m    <a href='file:///c%3A/Users/hwq10/AppData/Local/Programs/Python/Python39/lib/site-packages/pyautogui/__init__.py?line=596'>597</a>\u001b[0m     failSafeCheck()\n\u001b[1;32m--> <a href='file:///c%3A/Users/hwq10/AppData/Local/Programs/Python/Python39/lib/site-packages/pyautogui/__init__.py?line=597'>598</a>\u001b[0m     returnVal \u001b[39m=\u001b[39m wrappedFunction(\u001b[39m*\u001b[39margs, \u001b[39m*\u001b[39m\u001b[39m*\u001b[39mkwargs)\n\u001b[0;32m    <a href='file:///c%3A/Users/hwq10/AppData/Local/Programs/Python/Python39/lib/site-packages/pyautogui/__init__.py?line=598'>599</a>\u001b[0m     _handlePause(kwargs\u001b[39m.\u001b[39mget(\u001b[39m\"\u001b[39m\u001b[39m_pause\u001b[39m\u001b[39m\"\u001b[39m, \u001b[39mTrue\u001b[39;00m))\n\u001b[0;32m    <a href='file:///c%3A/Users/hwq10/AppData/Local/Programs/Python/Python39/lib/site-packages/pyautogui/__init__.py?line=599'>600</a>\u001b[0m     \u001b[39mreturn\u001b[39;00m returnVal\n",
      "File \u001b[1;32mc:\\Users\\hwq10\\AppData\\Local\\Programs\\Python\\Python39\\lib\\site-packages\\pyautogui\\__init__.py:1677\u001b[0m, in \u001b[0;36mtypewrite\u001b[1;34m(message, interval, logScreenshot, _pause)\u001b[0m\n\u001b[0;32m   <a href='file:///c%3A/Users/hwq10/AppData/Local/Programs/Python/Python39/lib/site-packages/pyautogui/__init__.py?line=1673'>1674</a>\u001b[0m interval \u001b[39m=\u001b[39m \u001b[39mfloat\u001b[39m(interval)  \u001b[39m# TODO - this should be taken out.\u001b[39;00m\n\u001b[0;32m   <a href='file:///c%3A/Users/hwq10/AppData/Local/Programs/Python/Python39/lib/site-packages/pyautogui/__init__.py?line=1675'>1676</a>\u001b[0m _logScreenshot(logScreenshot, \u001b[39m\"\u001b[39m\u001b[39mwrite\u001b[39m\u001b[39m\"\u001b[39m, message, folder\u001b[39m=\u001b[39m\u001b[39m\"\u001b[39m\u001b[39m.\u001b[39m\u001b[39m\"\u001b[39m)\n\u001b[1;32m-> <a href='file:///c%3A/Users/hwq10/AppData/Local/Programs/Python/Python39/lib/site-packages/pyautogui/__init__.py?line=1676'>1677</a>\u001b[0m \u001b[39mfor\u001b[39;00m c \u001b[39min\u001b[39;00m message:\n\u001b[0;32m   <a href='file:///c%3A/Users/hwq10/AppData/Local/Programs/Python/Python39/lib/site-packages/pyautogui/__init__.py?line=1677'>1678</a>\u001b[0m     \u001b[39mif\u001b[39;00m \u001b[39mlen\u001b[39m(c) \u001b[39m>\u001b[39m \u001b[39m1\u001b[39m:\n\u001b[0;32m   <a href='file:///c%3A/Users/hwq10/AppData/Local/Programs/Python/Python39/lib/site-packages/pyautogui/__init__.py?line=1678'>1679</a>\u001b[0m         c \u001b[39m=\u001b[39m c\u001b[39m.\u001b[39mlower()\n",
      "\u001b[1;31mTypeError\u001b[0m: 'NoneType' object is not iterable"
     ]
    }
   ],
   "source": [
    "time.sleep(3)\n",
    "pag.click(604, 500)\n",
    "pag.typewrite('Aa12345678', interval=0.25) #模拟输入\n",
    "pag.click(782, 540)#点击获取验证码\n",
    "\n",
    "message_code=pag.prompt(text='', title=\"请输入短信验证码:\", default='')\n",
    "time.sleep(2)\n",
    "\n",
    "pag.click(633, 532)\n",
    "pag.press('capslock')\n",
    "\n",
    "pag.typewrite(message_code, interval=0.25) #模拟输入\n",
    "\n",
    "pag.press('capslock')\n",
    "\n",
    "pag.click(800, 491)\n",
    "\n"
   ]
  },
  {
   "cell_type": "code",
   "execution_count": 111,
   "metadata": {},
   "outputs": [
    {
     "name": "stdout",
     "output_type": "stream",
     "text": [
      "OK\n"
     ]
    }
   ],
   "source": [
    "#登录完成\n",
    "time.sleep(3)\n",
    "pag.confirm(text='确认网页是否完全加载', title=\"\", buttons=['OK','Cancel'])\n",
    "time.sleep(1)\n",
    "pag.click(176, 196)\n",
    "time.sleep(0.5)\n",
    "pag.click(30, 422)\n",
    "time.sleep(0.5)\n",
    "pag.click(49, 440)\n",
    "time.sleep(0.5)\n",
    "pag.click(109, 458)\n",
    "time.sleep(0.5)\n",
    "pag.click(575, 301)\n",
    "date = time.strftime(\"%Y%m%d\", time.localtime())\n",
    "\n",
    "pyc.copy('优惠小区导入'+date) \n",
    "pag.hotkey('ctrl', 'v') \n",
    "msg=pag.confirm(text='选好日期后请点击ok',title='',buttons=['OK','Cancel'])\n",
    "print(msg)\n",
    "time.sleep(1)\n",
    "\n",
    "pag.click(618, 450)\n",
    "pressdown(10)\n",
    "pag.hotkey('enter')\n",
    "\n",
    "pag.click(1360, 451)\n",
    "pressdown(1)\n",
    "pag.hotkey('enter')\n",
    "\n",
    "pag.click(545, 484)\n",
    "pressdown(1)\n",
    "pag.hotkey('enter')\n",
    "\n",
    "pag.click(1349, 483)\n",
    "pressdown(2)\n",
    "pag.hotkey('enter')\n",
    "\n",
    "pag.click(520, 519)\n",
    "pressdown(2)\n",
    "pag.hotkey('enter')\n",
    "#10次下拉 1次下拉 1 2 2\n",
    "\n",
    "pag.click(626, 561)\n",
    "\n",
    "cv('烦请龚老师协助处理，谢谢支持！')\n",
    "\n",
    "pag.click(774, 879)\n",
    "\n",
    "filePath='E:\\\\WORK\\\\优惠小区\\\\优惠小区\\\\优惠小区导入' + date + '\\\\优惠小区导入' + date + '结果.xlsx'\n",
    "\n",
    "cv(filePath)\n",
    "\n",
    "pag.hotkey('enter')\n",
    "time.sleep(1)\n",
    "pag.click(551, 907)\n",
    "\n",
    "\n",
    "\n",
    "time.sleep(2)\n",
    "pag.click(379, 619)\n",
    "\n",
    "pressdown(4)\n",
    "\n",
    "\n",
    "pag.click(337, 885)\n",
    "time.sleep(0.5)\n",
    "pag.click(701, 290)\n",
    "time.sleep(0.5)\n",
    "pag.click(716, 307)\n",
    "time.sleep(0.5)\n",
    "pressdown(20)\n",
    "time.sleep(0.5)\n",
    "pag.click(732, 325)\n",
    "time.sleep(0.5)\n",
    "pag.click(745, 363)\n",
    "time.sleep(0.5)\n",
    "\n",
    "pressdown(12)\n",
    "time.sleep(0.5)\n",
    "pag.click(799, 555)\n",
    "time.sleep(0.5)\n",
    "pag.click(1057, 395)\n",
    "time.sleep(0.5)\n",
    "pag.click(1269, 649)\n",
    "time.sleep(0.5)\n",
    "# pag.click(287, 969)"
   ]
  },
  {
   "cell_type": "markdown",
   "metadata": {},
   "source": [
    "### ***获取屏幕大小***"
   ]
  },
  {
   "cell_type": "code",
   "execution_count": 3,
   "metadata": {},
   "outputs": [
    {
     "data": {
      "text/plain": [
       "(1920, 1080)"
      ]
     },
     "execution_count": 3,
     "metadata": {},
     "output_type": "execute_result"
    }
   ],
   "source": [
    "\n",
    "screenWidth, screenHeight = pag.size() # Get the size of the primary monitor.\n",
    "screenWidth, screenHeight"
   ]
  },
  {
   "cell_type": "markdown",
   "metadata": {},
   "source": [
    "### ***获取鼠标位置***"
   ]
  },
  {
   "cell_type": "code",
   "execution_count": 89,
   "metadata": {},
   "outputs": [
    {
     "data": {
      "text/plain": [
       "(551, 907)"
      ]
     },
     "execution_count": 89,
     "metadata": {},
     "output_type": "execute_result"
    }
   ],
   "source": [
    "time.sleep(2)\n",
    "currentMouseX, currentMouseY = pag.position() # Get the XY position of the mouse.\n",
    "currentMouseX, currentMouseY"
   ]
  },
  {
   "cell_type": "code",
   "execution_count": 23,
   "metadata": {},
   "outputs": [
    {
     "ename": "AttributeError",
     "evalue": "'list' object has no attribute 'move'",
     "output_type": "error",
     "traceback": [
      "\u001b[1;31m---------------------------------------------------------------------------\u001b[0m",
      "\u001b[1;31mAttributeError\u001b[0m                            Traceback (most recent call last)",
      "\u001b[1;32mUntitled-1.ipynb Cell 6'\u001b[0m in \u001b[0;36m<cell line: 5>\u001b[1;34m()\u001b[0m\n\u001b[0;32m      <a href='vscode-notebook-cell:Untitled-1.ipynb?jupyter-notebook#ch0000006untitled?line=2'>3</a>\u001b[0m win\u001b[39m=\u001b[39mpag\u001b[39m.\u001b[39mgetWindowsWithTitle(\u001b[39m\"\u001b[39m\u001b[39m四川移动电子运行维护系统\u001b[39m\u001b[39m\"\u001b[39m)\n\u001b[0;32m      <a href='vscode-notebook-cell:Untitled-1.ipynb?jupyter-notebook#ch0000006untitled?line=3'>4</a>\u001b[0m \u001b[39m#Win32Window(hWnd=460334)\u001b[39;00m\n\u001b[1;32m----> <a href='vscode-notebook-cell:Untitled-1.ipynb?jupyter-notebook#ch0000006untitled?line=4'>5</a>\u001b[0m win\u001b[39m.\u001b[39;49mmove(\u001b[39m604\u001b[39m, \u001b[39m500\u001b[39m)\n",
      "\u001b[1;31mAttributeError\u001b[0m: 'list' object has no attribute 'move'"
     ]
    }
   ],
   "source": [
    "time.sleep(4)\n",
    "# pag.getActiveWindow()\n",
    "win=pag.getWindowsWithTitle(\"四川移动电子运行维护系统\")\n",
    "#Win32Window(hWnd=460334)\n"
   ]
  }
 ],
 "metadata": {
  "interpreter": {
   "hash": "2a84e476787d6c8296f5dfcbaa0ad7cea60e23842778d9c15129410dceca3691"
  },
  "kernelspec": {
   "display_name": "Python 3.9.8 64-bit",
   "language": "python",
   "name": "python3"
  },
  "language_info": {
   "codemirror_mode": {
    "name": "ipython",
    "version": 3
   },
   "file_extension": ".py",
   "mimetype": "text/x-python",
   "name": "python",
   "nbconvert_exporter": "python",
   "pygments_lexer": "ipython3",
   "version": "3.9.8"
  },
  "orig_nbformat": 4
 },
 "nbformat": 4,
 "nbformat_minor": 2
}
