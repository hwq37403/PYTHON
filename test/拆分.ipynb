{
 "cells": [
  {
   "cell_type": "code",
   "execution_count": null,
   "metadata": {},
   "outputs": [],
   "source": [
    "import pandas as pd\n",
    "import os\n",
    "\n",
    "import tkinter as tk\n",
    "from tkinter import ttk\n",
    "from tkinter import filedialog\n",
    "\n",
    "import numpy as np\n",
    "from tkinter import messagebox\n",
    "\n",
    "import re\n",
    "import time"
   ]
  },
  {
   "cell_type": "code",
   "execution_count": 2,
   "metadata": {},
   "outputs": [
    {
     "name": "stdout",
     "output_type": "stream",
     "text": [
      "正在打开……\n"
     ]
    }
   ],
   "source": [
    "print('正在打开……')\n",
    "df_mr=pd.DataFrame()\n",
    "root = tk.Tk()\n",
    "root.withdraw()\n",
    "# path = filedialog.askopenfilename()\n",
    "# path_out, temp = os.path.split(path)\n",
    "# file_name, extension = os.path.splitext(temp)\n",
    "# print('path:', path_out)\n",
    "# print('file_name:', file_name)\n",
    "# print('extension:', extension)\n",
    "\n",
    "path= filedialog.askopenfilename()"
   ]
  },
  {
   "cell_type": "code",
   "execution_count": 50,
   "metadata": {},
   "outputs": [],
   "source": [
    "col_name=['供入电量(kWh)','供出电量(kWh)','损失电量(kWh)','线损率(%)']"
   ]
  },
  {
   "cell_type": "code",
   "execution_count": 51,
   "metadata": {},
   "outputs": [],
   "source": [
    "file1 = pd.read_excel(path, sheet_name='Sheet1',skiprows=1)\n",
    "file2 = pd.read_excel(path, sheet_name='Sheet2',skiprows=1)\n",
    "\n",
    "count=0\n",
    "df_res=pd.DataFrame(columns=file1.columns)\n",
    "\n",
    "a_flag=0\n",
    "for i,row_a in file1.iterrows():\n",
    "    if a_flag==1:\n",
    "        file1=file1.drop(labels=i)\n",
    "        a_flag=0\n",
    "        continue\n",
    "    for j,row_b in file2.iterrows():\n",
    "        a=row_a['供入电量(kWh)']+row_b['供出电量(kWh)']\n",
    "        b=row_a['损失电量(kWh)']+row_b['损失电量(kWh)']\n",
    "\n",
    "        if a<=0:\n",
    "            continue\n",
    "\n",
    "        #线损率结果\n",
    "        c=b/a*100\n",
    "\n",
    "        d_a=row_a['线损考核值(%)']\n",
    "        d_b=row_b['线损考核值(%)']\n",
    "        d_if=min(d_a,d_b)\n",
    "        if c<=d_if:\n",
    "            #说明合格，打标编号\n",
    "            row_a['编号']=count\n",
    "            row_a['线损率结果']=c\n",
    "            row_b['编号']=count\n",
    "            row_b['线损率结果']=c\n",
    "\n",
    "\n",
    "\n",
    "            df_resa=row_a.to_frame().T\n",
    "            df_resb=row_b.to_frame().T\n",
    "\n",
    "            #拼接df\n",
    "            df_res=pd.concat([df_res,df_resa,df_resb])\n",
    "            file2=file2.drop(labels=j)\n",
    "            count+=1\n",
    "            a_flag=1\n",
    "            break\n"
   ]
  },
  {
   "cell_type": "code",
   "execution_count": 53,
   "metadata": {},
   "outputs": [],
   "source": [
    "outpath = path.rsplit('/',1)[0]+'/处理结果.xlsx'"
   ]
  },
  {
   "cell_type": "code",
   "execution_count": null,
   "metadata": {},
   "outputs": [],
   "source": [
    "df_res.to_excel(outpath)"
   ]
  }
 ],
 "metadata": {
  "kernelspec": {
   "display_name": "Python 3",
   "language": "python",
   "name": "python3"
  },
  "language_info": {
   "codemirror_mode": {
    "name": "ipython",
    "version": 3
   },
   "file_extension": ".py",
   "mimetype": "text/x-python",
   "name": "python",
   "nbconvert_exporter": "python",
   "pygments_lexer": "ipython3",
   "version": "3.9.6"
  },
  "orig_nbformat": 4
 },
 "nbformat": 4,
 "nbformat_minor": 2
}
