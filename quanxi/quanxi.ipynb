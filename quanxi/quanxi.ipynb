{
 "cells": [
  {
   "cell_type": "code",
   "execution_count": 1,
   "metadata": {},
   "outputs": [],
   "source": [
    "import pandas as pd\n",
    "import os\n",
    "\n",
    "import tkinter as tk\n",
    "from tkinter import ttk\n",
    "from tkinter import filedialog\n",
    "\n",
    "from tkinter import messagebox\n",
    "\n",
    "import re\n",
    "import time\n"
   ]
  },
  {
   "cell_type": "code",
   "execution_count": 2,
   "metadata": {},
   "outputs": [
    {
     "name": "stdout",
     "output_type": "stream",
     "text": [
      "正在打开……\n"
     ]
    }
   ],
   "source": [
    "print('正在打开……')\n",
    "df_mr = pd.DataFrame()\n",
    "root = tk.Tk()\n",
    "root.withdraw()\n",
    "# path = filedialog.askopenfilename()\n",
    "# path_out, temp = os.path.split(path)\n",
    "# file_name, extension = os.path.splitext(temp)\n",
    "# print('path:', path_out)\n",
    "# print('file_name:', file_name)\n",
    "# print('extension:', extension)\n",
    "\n",
    "datapath1 = filedialog.askopenfilename()\n"
   ]
  },
  {
   "cell_type": "markdown",
   "metadata": {},
   "source": [
    "### 读取源数据\n"
   ]
  },
  {
   "cell_type": "code",
   "execution_count": 3,
   "metadata": {},
   "outputs": [],
   "source": [
    "df1 = pd.read_excel(datapath1, sheet_name='终端购机', dtype='str')\n",
    "df2 = pd.read_excel(datapath1, sheet_name='我宽异号', dtype='str')\n",
    "df3 = pd.read_excel(datapath1, sheet_name='全家享2.0', dtype='str')\n",
    "df4 = pd.read_excel(datapath1, sheet_name='我号异宽', dtype='str')\n"
   ]
  },
  {
   "cell_type": "markdown",
   "metadata": {},
   "source": [
    "将中文是和否，替换为 0 和 1\n"
   ]
  },
  {
   "cell_type": "code",
   "execution_count": 79,
   "metadata": {},
   "outputs": [],
   "source": [
    "df4['条件'] = df4.apply(lambda x: ((x['高价值80元以上客户'])+(x['办理7折提值大于0客户'] )+(x['办理7折提值30-70客户'] )+(x['终端换机'])+(x['4G资费'] )+(x['预警'])+(x['不限量'])), axis=1)\n"
   ]
  },
  {
   "cell_type": "code",
   "execution_count": 80,
   "metadata": {},
   "outputs": [],
   "source": [
    "df1['是否为宽带客户'] = df1['是否为宽带客户'].map({'无宽客户': 0, '有宽客户': 1})\n",
    "\n"
   ]
  },
  {
   "cell_type": "markdown",
   "metadata": {},
   "source": [
    "### 备份\n"
   ]
  },
  {
   "cell_type": "code",
   "execution_count": 5,
   "metadata": {},
   "outputs": [],
   "source": [
    "df1_bck = df1.copy()\n",
    "df2_bck = df2.copy()\n",
    "df3_bck = df3.copy()\n",
    "df4_bck = df4.copy()\n"
   ]
  },
  {
   "cell_type": "markdown",
   "metadata": {},
   "source": [
    "### 还原\n"
   ]
  },
  {
   "cell_type": "code",
   "execution_count": 91,
   "metadata": {},
   "outputs": [],
   "source": [
    "df1 = df1_bck\n",
    "df2 = df2_bck\n",
    "df3 = df3_bck\n",
    "df4 = df4_bck\n"
   ]
  },
  {
   "cell_type": "markdown",
   "metadata": {},
   "source": [
    "### 读取派单规则\n"
   ]
  },
  {
   "cell_type": "code",
   "execution_count": 7,
   "metadata": {},
   "outputs": [
    {
     "name": "stdout",
     "output_type": "stream",
     "text": [
      "正在打开……\n"
     ]
    }
   ],
   "source": [
    "print('正在打开……')\n",
    "df_mr = pd.DataFrame()\n",
    "root = tk.Tk()\n",
    "root.withdraw()\n",
    "# path = filedialog.askopenfilename()\n",
    "# path_out, temp = os.path.split(path)\n",
    "# file_name, extension = os.path.splitext(temp)\n",
    "# print('path:', path_out)\n",
    "# print('file_name:', file_name)\n",
    "# print('extension:', extension)\n",
    "\n",
    "datapath_r = filedialog.askopenfilename()\n"
   ]
  },
  {
   "cell_type": "code",
   "execution_count": 8,
   "metadata": {},
   "outputs": [],
   "source": [
    "df_r1 = pd.read_excel(datapath_r, sheet_name='渠道')\n",
    "df_r2 = pd.read_excel(datapath_r, sheet_name='直销')\n",
    "df_r3 = pd.read_excel(datapath_r, sheet_name='三大家')\n",
    "df_r4 = pd.read_excel(datapath_r, sheet_name='装维')\n"
   ]
  },
  {
   "cell_type": "markdown",
   "metadata": {},
   "source": [
    "### 数据清理\n"
   ]
  },
  {
   "cell_type": "markdown",
   "metadata": {},
   "source": [
    "将不是数字类型的数字转化为数字类型。\n"
   ]
  },
  {
   "cell_type": "code",
   "execution_count": 81,
   "metadata": {},
   "outputs": [],
   "source": [
    "# df1[['服务中心ID','网格ID']] = df1[['服务中心ID','网格ID']].apply(pd.to_numeric, errors='coerce').fillna(0.0)\n",
    "# df2[['服务中心ID','网格ID']] = df2[['服务中心ID','网格ID']].apply(pd.to_numeric, errors='coerce').fillna(0.0)\n",
    "# df3[['服务中心ID','网格ID']] = df3[['服务中心ID','网格ID']].apply(pd.to_numeric, errors='coerce').fillna(0.0)\n",
    "# 'raise'参数：无效的解析将引发异常\n",
    "# 'corece'参数：将无效解析设置为NaN\n",
    "# 'ignore'参数：无效的解析将返回输入,也就是遇到无效数据不解析，也不会填充NaN或者0\n",
    "# 用ignore保留中文\n",
    "df1 = df1.apply(pd.to_numeric, errors='ignore').fillna(0.0)\n",
    "df2 = df2.apply(pd.to_numeric, errors='ignore').fillna(0.0)\n",
    "df3 = df3.apply(pd.to_numeric, errors='ignore').fillna(0.0)\n",
    "df4 = df4.apply(pd.to_numeric, errors='ignore').fillna(0.0)\n"
   ]
  },
  {
   "cell_type": "markdown",
   "metadata": {},
   "source": [
    "### 核心函数\n"
   ]
  },
  {
   "cell_type": "markdown",
   "metadata": {},
   "source": [
    "递归，根据各种不同条件，取满足条件的号码，并依次遍历，实际上就是将 get 和 set 改变为装饰器，也就是点访问"
   ]
  },
  {
   "cell_type": "markdown",
   "metadata": {},
   "source": [
    "df\\_\\_t_tmp 满足条件的号码池\n",
    "pdl 派单量\n",
    "row 打标，分配编码\n",
    "stack 堆栈，存储满足各种条件的号码池\n",
    "df_res_total 存放本次循环的结果\n",
    "df_res 取满足派单量的数据\n",
    "df_orgin 原始 df\n"
   ]
  },
  {
   "cell_type": "code",
   "execution_count": 54,
   "metadata": {},
   "outputs": [],
   "source": [
    "# 取出各条件号码，依次遍历\n",
    "\n",
    "def handle(df_t_tmp,pdl, row, queue, df_res_total, df_res, df_orgin):\n",
    "    # print(len(df_t_tmp))\n",
    "    # 结束条件df_end长度\n",
    "    if (len(df_t_tmp) == 10000):\n",
    "        return df_res_total\n",
    " \n",
    "        \n",
    "    if ((len(df_t_tmp) >= pdl)):\n",
    "        df_res = df_t_tmp.head(pdl).copy()\n",
    "        df_orgin = df_orgin[~df_orgin.号码.isin(df_res.号码)]\n",
    "        df_res['打标'] = row\n",
    "        df_res_total = pd.concat([df_res_total, df_res])\n",
    "        # print(df_res_total)\n",
    "        return df_res_total\n",
    "    else:\n",
    "        last_pdl = pdl - len(df_t_tmp)\n",
    "        df_res = df_t_tmp.head(len(df_t_tmp)).copy()\n",
    "        df_orgin = df_orgin[~df_orgin.号码.isin(df_res.号码)]\n",
    "        df_res['打标'] = row\n",
    "        df_res_total = pd.concat([df_res_total, df_res])\n",
    "        # print(df_res_total)\n",
    "        df_t_tmp = queue.pop(0)  # 队列出队\n",
    "        return handle(df_t_tmp, last_pdl, row, queue, df_res_total, df_res, df_orgin)\n"
   ]
  },
  {
   "cell_type": "markdown",
   "metadata": {},
   "source": [
    "转置，用栈 reverse\n"
   ]
  },
  {
   "cell_type": "code",
   "execution_count": 33,
   "metadata": {},
   "outputs": [],
   "source": [
    "# 我宽异号\n",
    "wkyh_term = []\n",
    "\n",
    "# 全家享\n",
    "qjx_term = [9]\n",
    "# 终端购机\n",
    "zdgj_term = [0, 1]\n",
    "# 我号异宽\n",
    "whyk_term = []\n"
   ]
  },
  {
   "cell_type": "code",
   "execution_count": 34,
   "metadata": {},
   "outputs": [],
   "source": [
    "def numdec(n, term):\n",
    "    tmp = []\n",
    "    for i in range(0, n):\n",
    "        tmp.append(i)\n",
    "    for i in range(0, n):\n",
    "        term.append(tmp.pop(-1))\n"
   ]
  },
  {
   "cell_type": "code",
   "execution_count": 35,
   "metadata": {},
   "outputs": [],
   "source": [
    "numdec(32, wkyh_term)\n",
    "numdec(128, whyk_term)\n"
   ]
  },
  {
   "cell_type": "markdown",
   "metadata": {},
   "source": [
    "条件结构体 struct\n"
   ]
  },
  {
   "cell_type": "code",
   "execution_count": 36,
   "metadata": {},
   "outputs": [],
   "source": [
    "class wkkh_term(object):\n",
    "\n",
    "    def __init__(self, res):\n",
    "\n",
    "        self.res_list = str(res)\n",
    "\n",
    "        self.res = []\n",
    "\n",
    "        for v in self.res_list:\n",
    "            self.res.append(int(v))\n",
    "    # 我号异宽\n",
    "\n",
    "    def df_whyk(self, df_tmp):\n",
    "\n",
    "        df_tmp_res = df_tmp[(df_tmp['高价值80元以上客户'] == self.res[0]) & (df_tmp['办理7折提值大于0客户'] == self.res[1]) & (df_tmp['办理7折提值30-70客户'] == self.res[2]) &\n",
    "                            (df_tmp['终端换机'] == self.res[3]) & (df_tmp['4G资费'] == self.res[4]) & (df_tmp['预警'] == self.res[5]) & (df_tmp['不限量'] == self.res[6])]\n",
    "        return df_tmp_res\n",
    "\n",
    "    # 我宽异号\n",
    "    def df_wkyh(self, df_tmp):\n",
    "        df_tmp_res = df_tmp[(df_tmp['我宽异号'] == self.res[0]) & (df_tmp['全家享权益包2.0'] == self.res[1]) & (\n",
    "            df_tmp['裸奔高价值'] == self.res[2]) & (df_tmp['免费成员空间'] == self.res[3]) & (df_tmp['老旧设备'] == self.res[4])]\n",
    "        return df_tmp_res\n",
    "\n",
    "    # 全家享\n",
    "    def df_qjx(self, df_tmp):\n",
    "        df_tmp_res = df_tmp[(df_tmp['我宽异号'] == self.res[0]) & (df_tmp['全家享权益包2.0'] == self.res[1]) & (\n",
    "            df_tmp['裸奔高价值'] == self.res[2]) & (df_tmp['免费成员空间'] == self.res[3]) & (df_tmp['老旧设备'] == self.res[4])]\n",
    "        return df_tmp_res\n",
    "\n",
    "    # 终端购机\n",
    "    def df_zdgj(self, df_tmp):\n",
    "        df_tmp_res = df_tmp[(df_tmp['是否为宽带客户'] == self.res[0])]\n",
    "        return df_tmp_res\n"
   ]
  },
  {
   "cell_type": "markdown",
   "metadata": {},
   "source": [
    "清理重复号码函数\n"
   ]
  },
  {
   "cell_type": "code",
   "execution_count": 37,
   "metadata": {},
   "outputs": [],
   "source": [
    "def df_clean(df, df_no_need):\n",
    "    df = df[~df.号码.isin(df_no_need.号码)]\n",
    "    return df\n"
   ]
  },
  {
   "cell_type": "markdown",
   "metadata": {},
   "source": [
    "### 条件进队\n"
   ]
  },
  {
   "cell_type": "markdown",
   "metadata": {},
   "source": [
    "### 策略模式+工厂模式\n"
   ]
  },
  {
   "cell_type": "code",
   "execution_count": 38,
   "metadata": {},
   "outputs": [],
   "source": [
    "# 定义一个接口\n",
    "class choose(object):\n",
    "    # 不实现\n",
    "    def choose_consumer(self):\n",
    "        pass\n"
   ]
  },
  {
   "cell_type": "markdown",
   "metadata": {},
   "source": [
    "### 工厂实现\n"
   ]
  },
  {
   "cell_type": "markdown",
   "metadata": {},
   "source": [
    "我号异宽工厂"
   ]
  },
  {
   "cell_type": "code",
   "execution_count": 39,
   "metadata": {},
   "outputs": [],
   "source": [
    "\n",
    "class whyk_choose(choose):\n",
    "    def __init__(self, ob, df_tmp,pdl1):\n",
    "        self.ob = ob\n",
    "        self.df_tmp = df_tmp\n",
    "        self.pdl1=pdl1\n",
    "    def choose_consumer(self):\n",
    "\n",
    "        # 增强\n",
    "        return self.ob.df_whyk(self.df_tmp)\n",
    "\n",
    "\n"
   ]
  },
  {
   "cell_type": "markdown",
   "metadata": {},
   "source": [
    "我宽异号工厂"
   ]
  },
  {
   "cell_type": "code",
   "execution_count": 40,
   "metadata": {},
   "outputs": [],
   "source": [
    " \n",
    "\n",
    "\n",
    "class wkyh_choose(choose):\n",
    "    def __init__(self, ob, df_tmp):\n",
    "        self.ob = ob\n",
    "        self.df_tmp = df_tmp\n",
    "\n",
    "    def choose_consumer(self):\n",
    "        # 增强\n",
    "        return self.ob.df_wkyh(self.df_tmp)\n"
   ]
  },
  {
   "cell_type": "markdown",
   "metadata": {},
   "source": [
    "全家享工厂"
   ]
  },
  {
   "cell_type": "code",
   "execution_count": 41,
   "metadata": {},
   "outputs": [],
   "source": [
    "\n",
    "\n",
    "\n",
    "class qjx_choose(choose):\n",
    "    def __init__(self, ob, df_tmp):\n",
    "        self.ob = ob\n",
    "        self.df_tmp = df_tmp\n",
    "\n",
    "    def choose_consumer(self):\n",
    "        # 增强\n",
    "        return self.ob.df_qjx(self.df_tmp)\n",
    "\n"
   ]
  },
  {
   "cell_type": "markdown",
   "metadata": {},
   "source": [
    "终端购机工厂"
   ]
  },
  {
   "cell_type": "code",
   "execution_count": 42,
   "metadata": {},
   "outputs": [],
   "source": [
    "\n",
    "\n",
    "\n",
    "class zdgj_choose(choose):\n",
    "    def __init__(self, ob, df_tmp):\n",
    "        self.ob = ob\n",
    "        self.df_tmp = df_tmp\n",
    "\n",
    "    def choose_consumer(self):\n",
    "        # 增强\n",
    "        return self.ob.df_zdgj(self.df_tmp)"
   ]
  },
  {
   "cell_type": "markdown",
   "metadata": {},
   "source": [
    "### 简单工厂"
   ]
  },
  {
   "cell_type": "markdown",
   "metadata": {},
   "source": [
    "已改为策略工厂，为方便理解如何将简单工厂改为策略工厂，故注释保留"
   ]
  },
  {
   "cell_type": "code",
   "execution_count": 18,
   "metadata": {},
   "outputs": [],
   "source": [
    "# consumer_factory\n",
    "# easy_factory\n",
    "# class Consumer_factory:\n",
    "\n",
    "#     def choose_consumer(type, ob, df_tmp):\n",
    "#         print(type)\n",
    "\n",
    "#         if '我号' in type:\n",
    "#             return whyk_choose(ob, df_tmp).choose_consumer()\n",
    "\n",
    "#         if '全家享' in type:\n",
    "\n",
    "#             return qjx_choose(ob, df_tmp).choose_consumer()\n",
    "\n",
    "#         if '终端购机' in type:\n",
    "#             return zdgj_choose(ob, df_tmp).choose_consumer()\n",
    "#         if '我宽' in type:\n",
    "#             print('我宽')\n",
    "#             return wkyh_choose(ob, df_tmp).choose_consumer()\n"
   ]
  },
  {
   "cell_type": "markdown",
   "metadata": {},
   "source": [
    "### 策略模式"
   ]
  },
  {
   "cell_type": "markdown",
   "metadata": {},
   "source": [
    "自动选择号码类型"
   ]
  },
  {
   "cell_type": "code",
   "execution_count": 43,
   "metadata": {},
   "outputs": [],
   "source": [
    "class Consumer_strategy():\n",
    "    dict_map = {}\n",
    "\n",
    "    def choose_consumer(self):\n",
    "        pass\n",
    "\n",
    "    def register(self):\n",
    "        pass\n",
    "\n",
    "#各策略\n",
    "#我号异宽\n",
    "class whyk_strategy(Consumer_strategy):\n",
    "    def __init__(self):\n",
    "        self.register()\n",
    "\n",
    "    def choose_consumer(self,ob,df_tmp): \n",
    "        return whyk_choose(ob, df_tmp).choose_consumer()\n",
    "\n",
    "    def register(self):\n",
    "        super().dict_map['我号异宽'] = self\n",
    "\n",
    "#全家享2.0\n",
    "class qjx_strategy(Consumer_strategy):\n",
    "    def __init__(self):\n",
    "        self.register()\n",
    "\n",
    "    def choose_consumer(self,ob,df_tmp):\n",
    "        return qjx_choose(ob, df_tmp).choose_consumer()\n",
    "\n",
    "    def register(self):\n",
    "        super().dict_map['全家享2.0'] = self\n",
    "\n",
    "#终端购机\n",
    "class zdgj_strategy(Consumer_strategy):\n",
    "    def __init__(self):\n",
    "        self.register()\n",
    "\n",
    "    def choose_consumer(self,ob,df_tmp):\n",
    "        return zdgj_choose(ob, df_tmp).choose_consumer()\n",
    "\n",
    "    def register(self):\n",
    "        super().dict_map['终端购机'] = self\n",
    "\n",
    "#我宽异号\n",
    "class wkyh_strategy(Consumer_strategy):\n",
    "    def __init__(self):\n",
    "        self.register()\n",
    "\n",
    "    def choose_consumer(self,ob,df_tmp):\n",
    "        return wkyh_choose(ob, df_tmp).choose_consumer()\n",
    "\n",
    "    def register(self):\n",
    "        super().dict_map['我宽异号'] = self\n",
    "\n",
    "#上下文Context\n",
    "class ConsumerContext():\n",
    "    def __init__(self):\n",
    "        self.strategy1 = None\n",
    "\n",
    "    def consumerText(self, consumerStrategy):\n",
    "        self = consumerStrategy\n",
    "        return self\n",
    "\n",
    "    def choose_consumer(self):\n",
    "        return self.choose_consumer()\n",
    "\n",
    "#自动决策\n",
    "class autoType(Consumer_strategy):\n",
    "    #在初始化手工注入bean，实际上应该引入IOC控制反转，但是太麻烦了，小项目不至于\n",
    "    def __init__(self):\n",
    "        self.dict_map = super().dict_map\n",
    "        #TODO\n",
    "        whyk_strategy()\n",
    "        qjx_strategy()\n",
    "        zdgj_strategy()\n",
    "        wkyh_strategy()\n",
    "    def strategy(self, stype):\n",
    "        return self.dict_map.get(stype)"
   ]
  },
  {
   "cell_type": "markdown",
   "metadata": {},
   "source": [
    "    条件数字转对应二进制码\n"
   ]
  },
  {
   "cell_type": "markdown",
   "metadata": {},
   "source": [
    "基站打标函数(我号异宽)"
   ]
  },
  {
   "cell_type": "code",
   "execution_count": 44,
   "metadata": {},
   "outputs": [],
   "source": [
    "def station_handle(df):\n",
    "    df_pivot = df[['号码', '基站ID']].groupby(['基站ID']).count()\n",
    "    df_pivot.rename(columns={'号码': '数量'}, inplace=True)\n",
    "    df_res = pd.merge(df, df_pivot, on='基站ID')\n",
    "    return df_res\n"
   ]
  },
  {
   "cell_type": "code",
   "execution_count": 45,
   "metadata": {},
   "outputs": [],
   "source": [
    "# 若移位超出修改format高位补0格式\n",
    "def get_kh(df_tmp, consumer_type, type, term):\n",
    "    # consumer_type为客户类型\n",
    "    df_stack = []\n",
    "    for i in term:\n",
    "        i = i << consumer_type  # 移动几位\n",
    "        res = '{:07b}'.format(i)\n",
    "        ob = wkkh_term(res)\n",
    "        # ob=wkkh_term(a,b,c,d,e,f,g)\n",
    "\n",
    "        #挑选策略\n",
    "\n",
    "        strategy1 = autoType().strategy(type)       \n",
    "        # 策略工厂\n",
    "        context1 = ConsumerContext().consumerText(strategy1)     \n",
    "\n",
    "        df_res = context1.choose_consumer(ob,df_tmp)\n",
    "\n",
    "        \n",
    "        # df_res=choose_consumer(type,ob,df_tmp)#TODO\n",
    "\n",
    "        df_stack.append(df_res)\n",
    "    # 结束条件\n",
    "    df_end = pd.Series(range(0, 10000))\n",
    "    df_stack.append(df_end)\n",
    "    return df_stack\n"
   ]
  },
  {
   "cell_type": "markdown",
   "metadata": {},
   "source": [
    "打标基站个数函数"
   ]
  },
  {
   "cell_type": "markdown",
   "metadata": {},
   "source": [
    "分配函数\n"
   ]
  },
  {
   "cell_type": "code",
   "execution_count": 76,
   "metadata": {},
   "outputs": [],
   "source": [
    "def divide(df_rule, out_path, r_id, type, df_origin, consumer_dict):\n",
    "    global df1\n",
    "    global df2\n",
    "    global df3\n",
    "    global df4\n",
    "    df_res_total = pd.DataFrame()\n",
    "    df_res_total_l = pd.DataFrame()\n",
    "\n",
    "    df_stack = []\n",
    "\n",
    "    consumer_type = 0\n",
    "    for key in consumer_dict:\n",
    "        if key in type:\n",
    "            consumer_type = consumer_dict[key]\n",
    "            term = term_dict[key]\n",
    "            break\n",
    "    # consumer_type移位所需位数,type判断获得哪类类型客户号码\n",
    "    # term_now=choose_term(type)\n",
    "    print(consumer_type)\n",
    "\n",
    "    if '我号' in type:\n",
    "        #TODO\n",
    "        for index, row in df_rule.iterrows():\n",
    "            # 取出各条件号码，依次遍历\n",
    "            df_res = pd.DataFrame()\n",
    "            #先选归属\n",
    "            df_tmp = df_origin[df_origin[r_id] == row[r_id]]\n",
    "            df_tmp=station_handle(df_tmp)\n",
    "            pdl1 = row[type]  # 修改条件,派单量\n",
    "            df_tmp=df_tmp.sort_values(by=['基站成员数','条件'],ascending=False)\n",
    "            if pdl1<=len(df_tmp):\n",
    "                df_res=df_tmp.head(pdl1)\n",
    "            else:\n",
    "                df_res=df_tmp.head(len(df_tmp))\n",
    "            df_res_total_l = pd.concat([df_res_total_l, df_res])\n",
    "    else:\n",
    "        for index, row in df_rule.iterrows():\n",
    "            # 取出各条件号码，依次遍历\n",
    "            df_res = pd.DataFrame()\n",
    "            #先选归属\n",
    "            df_tmp = df_origin[df_origin[r_id] == row[r_id]]\n",
    "\n",
    "            pdl1 = row[type]  # 修改条件,派单量\n",
    "            df_stack = []\n",
    "\n",
    "\n",
    "            #通过工厂生产号码\n",
    "            df_stack = get_kh(df_tmp, consumer_type, type, term)\n",
    "\n",
    "            # print(len(df_end))\n",
    "            # 从2开始，有n个条件，就压栈n-1个条件和df_end条件\n",
    "            pdl1 = int(pdl1)\n",
    "            row = row['派单编号']\n",
    "            # 压出队头，利用队列思想\n",
    "            df_t_tmp = df_stack.pop(0)\n",
    "\n",
    "            # 递归\n",
    "            df_res = handle(df_t_tmp, pdl1, row, df_stack,\n",
    "                            df_res_total, df_res, df_origin)\n",
    "            df_res_total_l = pd.concat([df_res_total_l, df_res])\n",
    "            df_origin = df_clean(df_origin, df_res_total_l)\n",
    "\n",
    "    \n",
    "\n",
    "    df_res_total_l.to_excel(out_path)\n",
    "    df4 = df4[~df4.号码.isin(df_res_total_l.号码)]\n",
    "    df3 = df3[~df3.号码.isin(df_res_total_l.号码)]\n",
    "    df2 = df2[~df2.号码.isin(df_res_total_l.号码)]\n",
    "    df1 = df1[~df1.号码.isin(df_res_total_l.号码)]\n"
   ]
  },
  {
   "cell_type": "markdown",
   "metadata": {},
   "source": [
    "### 开始分配\n"
   ]
  },
  {
   "cell_type": "code",
   "execution_count": 52,
   "metadata": {},
   "outputs": [],
   "source": [
    "\n",
    "term_dict = {'全家享2.0': qjx_term, '我号异宽': whyk_term,\n",
    "             '我宽异号': wkyh_term, '终端购机': zdgj_term}\n",
    "consumer_dict = dict({'全家享2.0': 2, '我号异宽': 0, '我宽异号': 2, '终端购机': 6})  # 条件\n"
   ]
  },
  {
   "cell_type": "markdown",
   "metadata": {},
   "source": [
    "### 装维\n"
   ]
  },
  {
   "cell_type": "markdown",
   "metadata": {},
   "source": [
    "全家享\n"
   ]
  },
  {
   "cell_type": "code",
   "execution_count": 55,
   "metadata": {},
   "outputs": [
    {
     "name": "stdout",
     "output_type": "stream",
     "text": [
      "2\n"
     ]
    }
   ],
   "source": [
    "outpath = '装维-全家享客户-结果.xlsx'\n",
    "divide(df_r4, outpath, '服务中心ID', '全家享2.0', df3, consumer_dict)\n"
   ]
  },
  {
   "cell_type": "markdown",
   "metadata": {},
   "source": [
    "### 渠道\n"
   ]
  },
  {
   "cell_type": "markdown",
   "metadata": {},
   "source": [
    "我号异宽\n"
   ]
  },
  {
   "cell_type": "code",
   "execution_count": 82,
   "metadata": {},
   "outputs": [
    {
     "name": "stdout",
     "output_type": "stream",
     "text": [
      "0\n"
     ]
    }
   ],
   "source": [
    "outpath = '渠道-我号异宽客户-结果.xlsx'\n",
    "divide(df_r1, outpath, '网格ID', '我号异宽', df4, consumer_dict)\n"
   ]
  },
  {
   "cell_type": "markdown",
   "metadata": {},
   "source": [
    "我宽异号\n"
   ]
  },
  {
   "cell_type": "code",
   "execution_count": null,
   "metadata": {},
   "outputs": [],
   "source": [
    "outpath = '渠道-我宽异号-结果.xlsx'\n",
    "divide(df_r1, outpath, '网格ID', '我宽异号', df2, consumer_dict)\n"
   ]
  },
  {
   "cell_type": "markdown",
   "metadata": {},
   "source": [
    "### 直销\n"
   ]
  },
  {
   "cell_type": "markdown",
   "metadata": {},
   "source": [
    "我号异宽\n"
   ]
  },
  {
   "cell_type": "code",
   "execution_count": null,
   "metadata": {},
   "outputs": [],
   "source": [
    "outpath = '直销-我号异宽-结果.xlsx'\n",
    "divide(df_r2, outpath, '服务中心ID', '我号异宽', df4, consumer_dict)\n"
   ]
  },
  {
   "cell_type": "markdown",
   "metadata": {},
   "source": [
    "我宽异号\n"
   ]
  },
  {
   "cell_type": "code",
   "execution_count": null,
   "metadata": {},
   "outputs": [
    {
     "name": "stdout",
     "output_type": "stream",
     "text": [
      "2\n"
     ]
    }
   ],
   "source": [
    "outpath = '直销-我宽异号-结果.xlsx'\n",
    "divide(df_r2, outpath, '服务中心ID', '我宽异号', df2, consumer_dict)\n"
   ]
  },
  {
   "cell_type": "markdown",
   "metadata": {},
   "source": [
    "### 三大家\n"
   ]
  },
  {
   "cell_type": "markdown",
   "metadata": {},
   "source": [
    "终端购机\n"
   ]
  },
  {
   "cell_type": "code",
   "execution_count": null,
   "metadata": {},
   "outputs": [
    {
     "name": "stdout",
     "output_type": "stream",
     "text": [
      "6\n"
     ]
    }
   ],
   "source": [
    "outpath = '三大家-终端购机-结果.xlsx'\n",
    "divide(df_r3, outpath, '服务中心ID', '终端购机', df1, consumer_dict)\n"
   ]
  }
 ],
 "metadata": {
  "kernelspec": {
   "display_name": "Python 3.9.3 64-bit",
   "language": "python",
   "name": "python3"
  },
  "language_info": {
   "codemirror_mode": {
    "name": "ipython",
    "version": 3
   },
   "file_extension": ".py",
   "mimetype": "text/x-python",
   "name": "python",
   "nbconvert_exporter": "python",
   "pygments_lexer": "ipython3",
   "version": "3.9.3"
  },
  "orig_nbformat": 4,
  "vscode": {
   "interpreter": {
    "hash": "6fff98fc3b3d81bd655c2cc48858186e4d9e2db7b515bf1c3221888f12a62f87"
   }
  }
 },
 "nbformat": 4,
 "nbformat_minor": 2
}
