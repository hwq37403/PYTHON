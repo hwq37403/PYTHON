{
 "cells": [
  {
   "cell_type": "code",
   "execution_count": 1,
   "metadata": {},
   "outputs": [],
   "source": [
    "import pandas as pd\n",
    "import os\n",
    "\n",
    "import tkinter as tk\n",
    "from tkinter import ttk\n",
    "from tkinter import filedialog\n",
    "\n",
    "from tkinter import messagebox\n",
    "\n",
    "import re\n",
    "import time"
   ]
  },
  {
   "cell_type": "code",
   "execution_count": 2,
   "metadata": {},
   "outputs": [
    {
     "name": "stdout",
     "output_type": "stream",
     "text": [
      "正在打开……\n"
     ]
    }
   ],
   "source": [
    "print('正在打开……')\n",
    "df_mr=pd.DataFrame()\n",
    "root = tk.Tk()\n",
    "root.withdraw()\n",
    "# path = filedialog.askopenfilename()\n",
    "# path_out, temp = os.path.split(path)\n",
    "# file_name, extension = os.path.splitext(temp)\n",
    "# print('path:', path_out)\n",
    "# print('file_name:', file_name)\n",
    "# print('extension:', extension)\n",
    "\n",
    "datapath1 = filedialog.askopenfilename()"
   ]
  },
  {
   "cell_type": "markdown",
   "metadata": {},
   "source": [
    "### 读取源数据"
   ]
  },
  {
   "cell_type": "code",
   "execution_count": 3,
   "metadata": {},
   "outputs": [],
   "source": [
    "df1=pd.read_excel(datapath1,sheet_name='终端购机',dtype='str')\n",
    "df2=pd.read_excel(datapath1,sheet_name='无宽客户',dtype='str')\n",
    "df3=pd.read_excel(datapath1,sheet_name='全家享2.0',dtype='str')"
   ]
  },
  {
   "cell_type": "markdown",
   "metadata": {},
   "source": [
    "### 备份"
   ]
  },
  {
   "cell_type": "code",
   "execution_count": 4,
   "metadata": {},
   "outputs": [],
   "source": [
    "df1_bck=df1.copy()\n",
    "df2_bck=df2.copy()\n",
    "df3_bck=df3.copy()"
   ]
  },
  {
   "cell_type": "markdown",
   "metadata": {},
   "source": [
    "### 还原"
   ]
  },
  {
   "cell_type": "code",
   "execution_count": 27,
   "metadata": {},
   "outputs": [],
   "source": [
    "df1=df1_bck\n",
    "df2=df2_bck\n",
    "df3=df3_bck"
   ]
  },
  {
   "cell_type": "markdown",
   "metadata": {},
   "source": [
    "### 读取派单规则"
   ]
  },
  {
   "cell_type": "code",
   "execution_count": 5,
   "metadata": {},
   "outputs": [
    {
     "name": "stdout",
     "output_type": "stream",
     "text": [
      "正在打开……\n"
     ]
    }
   ],
   "source": [
    "print('正在打开……')\n",
    "df_mr=pd.DataFrame()\n",
    "root = tk.Tk()\n",
    "root.withdraw()\n",
    "# path = filedialog.askopenfilename()\n",
    "# path_out, temp = os.path.split(path)\n",
    "# file_name, extension = os.path.splitext(temp)\n",
    "# print('path:', path_out)\n",
    "# print('file_name:', file_name)\n",
    "# print('extension:', extension)\n",
    "\n",
    "datapath_r = filedialog.askopenfilename()"
   ]
  },
  {
   "cell_type": "code",
   "execution_count": 6,
   "metadata": {},
   "outputs": [],
   "source": [
    "df_r1=pd.read_excel(datapath_r,sheet_name='渠道')\n",
    "df_r2=pd.read_excel(datapath_r,sheet_name='直销')\n",
    "df_r3=pd.read_excel(datapath_r,sheet_name='三大家')\n"
   ]
  },
  {
   "cell_type": "markdown",
   "metadata": {},
   "source": [
    "### 数据清理"
   ]
  },
  {
   "cell_type": "markdown",
   "metadata": {},
   "source": [
    "将不是数字等转化为数字。"
   ]
  },
  {
   "cell_type": "code",
   "execution_count": 28,
   "metadata": {},
   "outputs": [],
   "source": [
    "# df1[['服务中心ID','网格ID']] = df1[['服务中心ID','网格ID']].apply(pd.to_numeric, errors='coerce').fillna(0.0)\n",
    "# df2[['服务中心ID','网格ID']] = df2[['服务中心ID','网格ID']].apply(pd.to_numeric, errors='coerce').fillna(0.0)\n",
    "# df3[['服务中心ID','网格ID']] = df3[['服务中心ID','网格ID']].apply(pd.to_numeric, errors='coerce').fillna(0.0)\n",
    "df1 = df1.apply(pd.to_numeric, errors='coerce').fillna(0.0)\n",
    "df2 = df2.apply(pd.to_numeric, errors='coerce').fillna(0.0)\n",
    "df3 = df3.apply(pd.to_numeric, errors='coerce').fillna(0.0)"
   ]
  },
  {
   "cell_type": "markdown",
   "metadata": {},
   "source": [
    "### 递归，根据各种不同条件，取满足条件的号码，并依次遍历"
   ]
  },
  {
   "cell_type": "code",
   "execution_count": 26,
   "metadata": {},
   "outputs": [],
   "source": [
    "#取出各条件号码，依次遍历\n",
    "\n",
    "def handle(df_t_tmp1, pdl1, row, stack, df_res_total, df_res,df_orgin):\n",
    "    # print(len(df_t_tmp1))\n",
    "    # 结束条件\n",
    "    if (len(df_t_tmp1) == 10000):\n",
    "        return df_res_total\n",
    "\n",
    "    if ((len(df_t_tmp1) >= pdl1)):\n",
    "        df_res = df_t_tmp1.head(pdl1).copy()\n",
    "        df_orgin=df_orgin[~df_orgin.号码.isin(df_res.号码)]\n",
    "        df_res['打标'] = row\n",
    "        df_res_total = pd.concat([df_res_total, df_res])\n",
    "        # print(df_res_total)\n",
    "        return df_res_total\n",
    "    else:\n",
    "        last_pdl = pdl1 - len(df_t_tmp1)\n",
    "        df_res = df_t_tmp1.head(len(df_t_tmp1)).copy()\n",
    "        df_orgin=df_orgin[~df_orgin.号码.isin(df_res.号码)]\n",
    "        df_res['打标'] = row\n",
    "        df_res_total = pd.concat([df_res_total, df_res])\n",
    "        # print(df_res_total)\n",
    "        df_t_tmp1 = stack.pop()  # stack.pop()也可\n",
    "        return handle(df_t_tmp1, last_pdl, row, stack, df_res_total, df_res,df_orgin)"
   ]
  },
  {
   "cell_type": "markdown",
   "metadata": {},
   "source": [
    "### 渠道"
   ]
  },
  {
   "cell_type": "markdown",
   "metadata": {},
   "source": [
    "无宽客户"
   ]
  },
  {
   "cell_type": "code",
   "execution_count": 29,
   "metadata": {},
   "outputs": [],
   "source": [
    "df_res_total=pd.DataFrame()\n",
    "df_res_total_l=pd.DataFrame()\n",
    "for index, row in df_r1.iterrows():\n",
    "    #取出各条件号码，依次遍历\n",
    "    df_res=pd.DataFrame()\n",
    "    df_t_res1=pd.DataFrame()\n",
    "    df_t_res2=pd.DataFrame()\n",
    "    df_t_res3=pd.DataFrame()\n",
    "    df_t_res4=pd.DataFrame()\n",
    "    df_t_res5=pd.DataFrame()\n",
    "    df_t_res6=pd.DataFrame()\n",
    "    df_t_res7=pd.DataFrame()\n",
    "    df_t_res8=pd.DataFrame()\n",
    "    df_t_res9=pd.DataFrame()\n",
    "    df_t_res10=pd.DataFrame()\n",
    "    df_tmp=df2[df2['网格ID']==row['微网格ID']]\n",
    "    df_t_tmp1=df_tmp[(df_tmp['机龄']>=24)&(df_tmp['个人高价值']==1)]\n",
    "    df_t_tmp2=df_tmp[(df_tmp['机龄']>=24)&(df_tmp['个人高价值']==0)&(df_tmp['我号异宽']==1)]\n",
    "    df_t_tmp3=df_tmp[(df_tmp['机龄']>=24)&(df_tmp['个人高价值']==0)&(df_tmp['我号异宽']==0)&(df_tmp['5G资费']==0)]\n",
    "    df_t_tmp4=df_tmp[(df_tmp['机龄']>=24)&(df_tmp['个人高价值']==0)&(df_tmp['我号异宽']==0)&(df_tmp['5G资费']==1)&(df_tmp['个人修复']==1)]\n",
    "    df_t_tmp5=df_tmp[(df_tmp['机龄']>=24)&(df_tmp['个人高价值']==0)&(df_tmp['我号异宽']==0)&(df_tmp['5G资费']==1)&(df_tmp['个人修复']==0)&(df_tmp['不限量']==1)]\n",
    "    df_t_tmp6=df_tmp[(df_tmp['机龄']<24)&(df_tmp['个人高价值']==1)]\n",
    "    df_t_tmp7=df_tmp[(df_tmp['机龄']<24)&(df_tmp['个人高价值']==0)&(df_tmp['我号异宽']==1)]\n",
    "    df_t_tmp8=df_tmp[(df_tmp['机龄']<24)&(df_tmp['个人高价值']==0)&(df_tmp['我号异宽']==0)&(df_tmp['5G资费']==0)]\n",
    "    df_t_tmp9=df_tmp[(df_tmp['机龄']<24)&(df_tmp['个人高价值']==0)&(df_tmp['我号异宽']==0)&(df_tmp['5G资费']==1)&(df_tmp['个人修复']==1)]\n",
    "    df_t_tmp10=df_tmp[(df_tmp['机龄']<24)&(df_tmp['个人高价值']==0)&(df_tmp['我号异宽']==0)&(df_tmp['5G资费']==1)&(df_tmp['个人修复']==0)&(df_tmp['不限量']==1)]\n",
    "\n",
    "    df_orgin=df2#修改条件\n",
    "\n",
    "    pdl1 = row['无宽客户']#修改条件\n",
    "    stack = []\n",
    "    df_end = pd.Series(range(0, 10000))\n",
    "    # print(len(df_end))\n",
    "    #从2开始，有n个条件，就压栈n-1个条件和df_end条件\n",
    "    stack.append(df_end)\n",
    "    stack.append(df_t_tmp10)\n",
    "    stack.append(df_t_tmp9)\n",
    "    stack.append(df_t_tmp8)\n",
    "    stack.append(df_t_tmp7)\n",
    "    stack.append(df_t_tmp6)\n",
    "    stack.append(df_t_tmp5)\n",
    "    stack.append(df_t_tmp4)\n",
    "    stack.append(df_t_tmp3)\n",
    "    stack.append(df_t_tmp2)\n",
    "\n",
    "    pdl1 = int(pdl1)\n",
    "    row = row['派单编号']\n",
    "    # 递归\n",
    "    df_res = handle(df_t_tmp1, pdl1, row, stack, df_res_total, df_res,df_orgin)\n",
    "    df_res_total_l = pd.concat([df_res_total_l, df_res])\n",
    "                     \n",
    "df_res_total_l.to_excel('渠道-无宽客户-结果.xlsx')\n",
    "df3=df3[~df3.号码.isin(df_res_total_l.号码)]\n",
    "df2=df2[~df2.号码.isin(df_res_total_l.号码)]\n",
    "df1=df1[~df1.号码.isin(df_res_total_l.号码)]"
   ]
  },
  {
   "cell_type": "markdown",
   "metadata": {},
   "source": [
    "全家享2.0"
   ]
  },
  {
   "cell_type": "code",
   "execution_count": 30,
   "metadata": {},
   "outputs": [],
   "source": [
    "df_res_total=pd.DataFrame()\n",
    "df_res_total_l=pd.DataFrame()\n",
    "for index, row in df_r1.iterrows():\n",
    "    #取出各条件号码，依次遍历\n",
    "    df_res=pd.DataFrame()\n",
    "    df_t_res1=pd.DataFrame()\n",
    "    df_t_res2=pd.DataFrame()\n",
    "    df_t_res3=pd.DataFrame()\n",
    "    df_t_res4=pd.DataFrame()\n",
    "    df_t_res5=pd.DataFrame()\n",
    "\n",
    "    df_tmp=df3[df3['网格ID']==row['微网格ID']]\n",
    "    df_t_tmp1=df_tmp[(df_tmp['是否质差客户']==1)&(df_tmp['是否裸奔高价值（存50送120）']==1)]\n",
    "    df_t_tmp2=df_tmp[(df_tmp['是否质差客户']==1)&(df_tmp['是否裸奔高价值（存50送120）']==0)]\n",
    "    df_t_tmp3=df_tmp[(df_tmp['是否质差客户']==0)&(df_tmp['是否裸奔高价值（存50送120）']==1)]\n",
    "\n",
    "\n",
    "    df_orgin=df3#修改条件\n",
    "\n",
    "    pdl1 = row['全家享2.0']#修改条件\n",
    "    stack = []\n",
    "    df_end = pd.Series(range(0, 10000))\n",
    "    # print(len(df_end))\n",
    "    #从2开始，有n个条件，就压栈n-1个条件和df_end条件\n",
    "    stack.append(df_end)\n",
    "    stack.append(df_t_tmp3)\n",
    "    stack.append(df_t_tmp2)\n",
    "\n",
    "    pdl1 = int(pdl1)\n",
    "    row = row['派单编号']\n",
    "    # 递归\n",
    "    df_res = handle(df_t_tmp1, pdl1, row, stack, df_res_total, df_res,df_orgin)\n",
    "    df_res_total_l = pd.concat([df_res_total_l, df_res])\n",
    "df_res_total_l.to_excel('渠道-全家享2.0-结果.xlsx')\n",
    "df3=df3[~df3.号码.isin(df_res_total_l.号码)]\n",
    "df2=df2[~df2.号码.isin(df_res_total_l.号码)]\n",
    "df1=df1[~df1.号码.isin(df_res_total_l.号码)]\n"
   ]
  },
  {
   "cell_type": "markdown",
   "metadata": {},
   "source": [
    "### 直销"
   ]
  },
  {
   "cell_type": "markdown",
   "metadata": {},
   "source": [
    "无宽客户"
   ]
  },
  {
   "cell_type": "code",
   "execution_count": 31,
   "metadata": {},
   "outputs": [],
   "source": [
    "df_res_total=pd.DataFrame()\n",
    "df_res_total_l=pd.DataFrame()\n",
    "for index, row in df_r2.iterrows():\n",
    "    #取出各条件号码，依次遍历\n",
    "    df_res=pd.DataFrame()\n",
    "    df_t_res1=pd.DataFrame()\n",
    "    df_t_res2=pd.DataFrame()\n",
    "    df_t_res3=pd.DataFrame()\n",
    "    df_t_res4=pd.DataFrame()\n",
    "    df_t_res5=pd.DataFrame()\n",
    "    df_t_res6=pd.DataFrame()\n",
    "    df_t_res7=pd.DataFrame()\n",
    "    df_t_res8=pd.DataFrame()\n",
    "    df_t_res9=pd.DataFrame()\n",
    "    df_t_res10=pd.DataFrame()\n",
    "    df_tmp=df2[df2['服务中心ID']==row['服务中心ID']]\n",
    "    df_t_tmp1=df_tmp[(df_tmp['机龄']>=24)&(df_tmp['个人高价值']==1)]\n",
    "    df_t_tmp2=df_tmp[(df_tmp['机龄']>=24)&(df_tmp['个人高价值']==0)&(df_tmp['我号异宽']==1)]\n",
    "    df_t_tmp3=df_tmp[(df_tmp['机龄']>=24)&(df_tmp['个人高价值']==0)&(df_tmp['我号异宽']==0)&(df_tmp['5G资费']==0)]\n",
    "    df_t_tmp4=df_tmp[(df_tmp['机龄']>=24)&(df_tmp['个人高价值']==0)&(df_tmp['我号异宽']==0)&(df_tmp['5G资费']==1)&(df_tmp['个人修复']==1)]\n",
    "    df_t_tmp5=df_tmp[(df_tmp['机龄']>=24)&(df_tmp['个人高价值']==0)&(df_tmp['我号异宽']==0)&(df_tmp['5G资费']==1)&(df_tmp['个人修复']==0)&(df_tmp['不限量']==1)]\n",
    "    df_t_tmp6=df_tmp[(df_tmp['机龄']<24)&(df_tmp['个人高价值']==1)]\n",
    "    df_t_tmp7=df_tmp[(df_tmp['机龄']<24)&(df_tmp['个人高价值']==0)&(df_tmp['我号异宽']==1)]\n",
    "    df_t_tmp8=df_tmp[(df_tmp['机龄']<24)&(df_tmp['个人高价值']==0)&(df_tmp['我号异宽']==0)&(df_tmp['5G资费']==0)]\n",
    "    df_t_tmp9=df_tmp[(df_tmp['机龄']<24)&(df_tmp['个人高价值']==0)&(df_tmp['我号异宽']==0)&(df_tmp['5G资费']==1)&(df_tmp['个人修复']==1)]\n",
    "    df_t_tmp10=df_tmp[(df_tmp['机龄']<24)&(df_tmp['个人高价值']==0)&(df_tmp['我号异宽']==0)&(df_tmp['5G资费']==1)&(df_tmp['个人修复']==0)&(df_tmp['不限量']==1)]\n",
    "\n",
    "\n",
    "    df_orgin=df2#修改条件\n",
    "\n",
    "    pdl1 = row['无宽客户']#修改条件\n",
    "    stack = []\n",
    "    df_end = pd.Series(range(0, 10000))\n",
    "    # print(len(df_end))\n",
    "    #从2开始，有n个条件，就压栈n-1个条件和df_end条件\n",
    "    stack.append(df_end)\n",
    "    stack.append(df_t_tmp10)\n",
    "    stack.append(df_t_tmp9)\n",
    "    stack.append(df_t_tmp8)\n",
    "    stack.append(df_t_tmp7)\n",
    "    stack.append(df_t_tmp6)\n",
    "    stack.append(df_t_tmp5)\n",
    "    stack.append(df_t_tmp4)\n",
    "    stack.append(df_t_tmp3)\n",
    "    stack.append(df_t_tmp2)\n",
    "\n",
    "    pdl1 = int(pdl1)\n",
    "    row = row['派单编号']\n",
    "    # 递归\n",
    "    df_res = handle(df_t_tmp1, pdl1, row, stack, df_res_total, df_res,df_orgin)\n",
    "    df_res_total_l = pd.concat([df_res_total_l, df_res])\n",
    "                     \n",
    "df_res_total_l.to_excel('直销-无宽客户-结果.xlsx')\n",
    "df3=df3[~df3.号码.isin(df_res_total_l.号码)]\n",
    "df2=df2[~df2.号码.isin(df_res_total_l.号码)]\n",
    "df1=df1[~df1.号码.isin(df_res_total_l.号码)]"
   ]
  },
  {
   "cell_type": "markdown",
   "metadata": {},
   "source": [
    "全家享"
   ]
  },
  {
   "cell_type": "code",
   "execution_count": 32,
   "metadata": {},
   "outputs": [],
   "source": [
    "df_res_total=pd.DataFrame()\n",
    "df_res_total_l=pd.DataFrame()\n",
    "for index, row in df_r2.iterrows():\n",
    "    #取出各条件号码，依次遍历\n",
    "    df_res=pd.DataFrame()\n",
    "    df_t_res1=pd.DataFrame()\n",
    "    df_t_res2=pd.DataFrame()\n",
    "    df_t_res3=pd.DataFrame()\n",
    "    df_t_res4=pd.DataFrame()\n",
    "    df_t_res5=pd.DataFrame()\n",
    "\n",
    "    df_tmp=df3[df3['服务中心ID']==row['服务中心ID']]\n",
    "    df_t_tmp1=df_tmp[(df_tmp['是否质差客户']==1)&(df_tmp['是否裸奔高价值（存50送120）']==1)]\n",
    "    df_t_tmp2=df_tmp[(df_tmp['是否质差客户']==1)&(df_tmp['是否裸奔高价值（存50送120）']==0)]\n",
    "    df_t_tmp3=df_tmp[(df_tmp['是否质差客户']==0)&(df_tmp['是否裸奔高价值（存50送120）']==1)]\n",
    "\n",
    "    df_orgin=df3#修改条件\n",
    "\n",
    "    pdl1 = row['全家享2.0']#修改条件\n",
    "    stack = []\n",
    "    df_end = pd.Series(range(0, 10000))\n",
    "    # print(len(df_end))\n",
    "    #从2开始，有n个条件，就压栈n-1个条件和df_end条件\n",
    "    stack.append(df_end)\n",
    "    stack.append(df_t_tmp3)\n",
    "    stack.append(df_t_tmp2)\n",
    "\n",
    "    pdl1 = int(pdl1)\n",
    "    row = row['派单编号']\n",
    "    # 递归\n",
    "    df_res = handle(df_t_tmp1, pdl1, row, stack, df_res_total, df_res,df_orgin)\n",
    "    df_res_total_l = pd.concat([df_res_total_l, df_res])\n",
    "df_res_total_l.to_excel('直销-全家享2.0-结果.xlsx')\n",
    "df3=df3[~df3.号码.isin(df_res_total_l.号码)]\n",
    "df2=df2[~df2.号码.isin(df_res_total_l.号码)]\n",
    "df1=df1[~df1.号码.isin(df_res_total_l.号码)]"
   ]
  },
  {
   "cell_type": "markdown",
   "metadata": {},
   "source": [
    "三大家\n"
   ]
  },
  {
   "cell_type": "markdown",
   "metadata": {},
   "source": [
    "终端购机"
   ]
  },
  {
   "cell_type": "code",
   "execution_count": 33,
   "metadata": {},
   "outputs": [],
   "source": [
    "df_res_total=pd.DataFrame()\n",
    "df_res_total_l=pd.DataFrame()\n",
    "for index, row in df_r3.iterrows():\n",
    "    #取出各条件号码，依次遍历\n",
    "    df_res=pd.DataFrame()\n",
    "    df_t_res1=pd.DataFrame()\n",
    "    df_t_res2=pd.DataFrame()\n",
    "    df_t_res3=pd.DataFrame()\n",
    "    df_t_res4=pd.DataFrame()\n",
    "    df_t_res5=pd.DataFrame()\n",
    "\n",
    "    df_tmp=df1[df1['服务中心ID']==row['服务中心ID']]\n",
    "    df_t_tmp1=df_tmp[(df_tmp['是否为宽带客户']==0)]\n",
    "    df_t_tmp2=df_tmp[(df_tmp['是否为宽带客户']==1)]\n",
    "\n",
    "\n",
    "    df_orgin=df1#修改条件\n",
    "\n",
    "    pdl1 = row['终端购机']#修改条件\n",
    "    stack = []\n",
    "    df_end = pd.Series(range(0, 10000))\n",
    "    # print(len(df_end))\n",
    "    #从2开始，有n个条件，就压栈n-1个条件和df_end条件\n",
    "    stack.append(df_end)\n",
    "    stack.append(df_t_tmp2)\n",
    "\n",
    "    pdl1 = int(pdl1)\n",
    "    row = row['派单编号']\n",
    "    # 递归\n",
    "    df_res = handle(df_t_tmp1, pdl1, row, stack, df_res_total, df_res,df_orgin)\n",
    "    df_res_total_l = pd.concat([df_res_total_l, df_res])\n",
    "df_res_total_l.to_excel('三大家-终端购机-结果.xlsx')\n",
    "df3=df3[~df3.号码.isin(df_res_total_l.号码)]\n",
    "df2=df2[~df2.号码.isin(df_res_total_l.号码)]\n",
    "df1=df1[~df1.号码.isin(df_res_total_l.号码)]"
   ]
  },
  {
   "cell_type": "markdown",
   "metadata": {},
   "source": [
    "全家享"
   ]
  },
  {
   "cell_type": "code",
   "execution_count": 34,
   "metadata": {},
   "outputs": [],
   "source": [
    "df_res_total=pd.DataFrame()\n",
    "df_res_total_l=pd.DataFrame()\n",
    "for index, row in df_r3.iterrows():\n",
    "    #取出各条件号码，依次遍历\n",
    "    df_res=pd.DataFrame()\n",
    "    df_t_res1=pd.DataFrame()\n",
    "    df_t_res2=pd.DataFrame()\n",
    "    df_t_res3=pd.DataFrame()\n",
    "    df_t_res4=pd.DataFrame()\n",
    "    df_t_res5=pd.DataFrame()\n",
    "\n",
    "    df_tmp=df3[df3['服务中心ID']==row['服务中心ID']]\n",
    "    df_t_tmp1=df_tmp[(df_tmp['是否质差客户']==1)&(df_tmp['是否裸奔高价值（存50送120）']==1)]\n",
    "    df_t_tmp2=df_tmp[(df_tmp['是否质差客户']==1)&(df_tmp['是否裸奔高价值（存50送120）']==0)]\n",
    "    df_t_tmp3=df_tmp[(df_tmp['是否质差客户']==0)&(df_tmp['是否裸奔高价值（存50送120）']==1)]\n",
    "\n",
    "    df_orgin=df3#修改条件\n",
    "\n",
    "    pdl1 = row['全家享2.0']#修改条件\n",
    "    stack = []\n",
    "    df_end = pd.Series(range(0, 10000))\n",
    "    # print(len(df_end))\n",
    "    #从2开始，有n个条件，就压栈n-1个条件和df_end条件\n",
    "    stack.append(df_end)\n",
    "    stack.append(df_t_tmp3)\n",
    "    stack.append(df_t_tmp2)\n",
    "\n",
    "    pdl1 = int(pdl1)\n",
    "    row = row['派单编号']\n",
    "    # 递归\n",
    "    df_res = handle(df_t_tmp1, pdl1, row, stack, df_res_total, df_res,df_orgin)\n",
    "    df_res_total_l = pd.concat([df_res_total_l, df_res])\n",
    "df_res_total_l.to_excel('三大家-全家享-结果.xlsx')\n",
    "df3=df3[~df3.号码.isin(df_res_total_l.号码)]\n",
    "df2=df2[~df2.号码.isin(df_res_total_l.号码)]\n",
    "df1=df1[~df1.号码.isin(df_res_total_l.号码)]"
   ]
  }
 ],
 "metadata": {
  "kernelspec": {
   "display_name": "Python 3.9.3 64-bit",
   "language": "python",
   "name": "python3"
  },
  "language_info": {
   "codemirror_mode": {
    "name": "ipython",
    "version": 3
   },
   "file_extension": ".py",
   "mimetype": "text/x-python",
   "name": "python",
   "nbconvert_exporter": "python",
   "pygments_lexer": "ipython3",
   "version": "3.9.3"
  },
  "orig_nbformat": 4,
  "vscode": {
   "interpreter": {
    "hash": "6fff98fc3b3d81bd655c2cc48858186e4d9e2db7b515bf1c3221888f12a62f87"
   }
  }
 },
 "nbformat": 4,
 "nbformat_minor": 2
}
