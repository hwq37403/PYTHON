{
 "cells": [
  {
   "cell_type": "code",
   "execution_count": 34,
   "metadata": {},
   "outputs": [],
   "source": [
    "import pandas as pd\n",
    "import os\n",
    "\n",
    "import tkinter as tk\n",
    "from tkinter import ttk\n",
    "from tkinter import filedialog\n",
    "\n",
    "from tkinter import messagebox\n",
    "\n",
    "import re\n",
    "import time"
   ]
  },
  {
   "cell_type": "code",
   "execution_count": 35,
   "metadata": {},
   "outputs": [
    {
     "name": "stdout",
     "output_type": "stream",
     "text": [
      "正在打开……\n"
     ]
    }
   ],
   "source": [
    "print('正在打开……')\n",
    "df_mr=pd.DataFrame()\n",
    "root = tk.Tk()\n",
    "root.withdraw()\n",
    "# path = filedialog.askopenfilename()\n",
    "# path_out, temp = os.path.split(path)\n",
    "# file_name, extension = os.path.splitext(temp)\n",
    "# print('path:', path_out)\n",
    "# print('file_name:', file_name)\n",
    "# print('extension:', extension)\n",
    "\n",
    "datapath1 = filedialog.askopenfilename()"
   ]
  },
  {
   "cell_type": "markdown",
   "metadata": {},
   "source": [
    "### 读取源数据"
   ]
  },
  {
   "cell_type": "code",
   "execution_count": 36,
   "metadata": {},
   "outputs": [],
   "source": [
    "df1=pd.read_excel(datapath1,sheet_name='终端购机',dtype='str')\n",
    "df2=pd.read_excel(datapath1,sheet_name='无宽客户',dtype='str')\n",
    "df3=pd.read_excel(datapath1,sheet_name='全家享2.0',dtype='str')"
   ]
  },
  {
   "cell_type": "markdown",
   "metadata": {},
   "source": [
    "将中文是和否，替换为0和1"
   ]
  },
  {
   "cell_type": "code",
   "execution_count": 37,
   "metadata": {},
   "outputs": [],
   "source": [
    "df1['是否为宽带客户'] = df1['是否为宽带客户'].map({'无宽客户':0, '有宽客户':1})"
   ]
  },
  {
   "cell_type": "markdown",
   "metadata": {},
   "source": [
    "### 备份"
   ]
  },
  {
   "cell_type": "code",
   "execution_count": 38,
   "metadata": {},
   "outputs": [],
   "source": [
    "df1_bck=df1.copy()\n",
    "df2_bck=df2.copy()\n",
    "df3_bck=df3.copy()"
   ]
  },
  {
   "cell_type": "markdown",
   "metadata": {},
   "source": [
    "### 还原"
   ]
  },
  {
   "cell_type": "code",
   "execution_count": 94,
   "metadata": {},
   "outputs": [],
   "source": [
    "df1=df1_bck\n",
    "df2=df2_bck\n",
    "df3=df3_bck"
   ]
  },
  {
   "cell_type": "markdown",
   "metadata": {},
   "source": [
    "### 读取派单规则"
   ]
  },
  {
   "cell_type": "code",
   "execution_count": 39,
   "metadata": {},
   "outputs": [
    {
     "name": "stdout",
     "output_type": "stream",
     "text": [
      "正在打开……\n"
     ]
    }
   ],
   "source": [
    "print('正在打开……')\n",
    "df_mr=pd.DataFrame()\n",
    "root = tk.Tk()\n",
    "root.withdraw()\n",
    "# path = filedialog.askopenfilename()\n",
    "# path_out, temp = os.path.split(path)\n",
    "# file_name, extension = os.path.splitext(temp)\n",
    "# print('path:', path_out)\n",
    "# print('file_name:', file_name)\n",
    "# print('extension:', extension)\n",
    "\n",
    "datapath_r = filedialog.askopenfilename()"
   ]
  },
  {
   "cell_type": "code",
   "execution_count": 40,
   "metadata": {},
   "outputs": [],
   "source": [
    "df_r1=pd.read_excel(datapath_r,sheet_name='渠道')\n",
    "df_r2=pd.read_excel(datapath_r,sheet_name='直销')\n",
    "df_r3=pd.read_excel(datapath_r,sheet_name='三大家')"
   ]
  },
  {
   "cell_type": "markdown",
   "metadata": {},
   "source": [
    "### 数据清理"
   ]
  },
  {
   "cell_type": "markdown",
   "metadata": {},
   "source": [
    "将不是数字类型的数字转化为数字类型。"
   ]
  },
  {
   "cell_type": "code",
   "execution_count": 41,
   "metadata": {},
   "outputs": [],
   "source": [
    "# df1[['服务中心ID','网格ID']] = df1[['服务中心ID','网格ID']].apply(pd.to_numeric, errors='coerce').fillna(0.0)\n",
    "# df2[['服务中心ID','网格ID']] = df2[['服务中心ID','网格ID']].apply(pd.to_numeric, errors='coerce').fillna(0.0)\n",
    "# df3[['服务中心ID','网格ID']] = df3[['服务中心ID','网格ID']].apply(pd.to_numeric, errors='coerce').fillna(0.0)\n",
    "# 'raise'参数：无效的解析将引发异常\n",
    "# 'corece'参数：将无效解析设置为NaN\n",
    "# 'ignore'参数：无效的解析将返回输入,也就是遇到无效数据不解析，也不会填充NaN或者0\n",
    "# 用ignore保留中文\n",
    "df1 = df1.apply(pd.to_numeric, errors='ignore').fillna(0.0)\n",
    "df2 = df2.apply(pd.to_numeric, errors='ignore').fillna(0.0)\n",
    "df3 = df3.apply(pd.to_numeric, errors='ignore').fillna(0.0)"
   ]
  },
  {
   "cell_type": "markdown",
   "metadata": {},
   "source": [
    "### 递归，根据各种不同条件，取满足条件的号码，并依次遍历"
   ]
  },
  {
   "cell_type": "markdown",
   "metadata": {},
   "source": [
    "实际上就是将get和set改变为装饰器，也就是点访问"
   ]
  },
  {
   "cell_type": "markdown",
   "metadata": {},
   "source": [
    "df__t_tmp 满足条件的号码池\n",
    "pdl 派单量\n",
    "row 打标，分配编码\n",
    "stack 堆栈，存储满足各种条件的号码池\n",
    "df_res_total 存放本次循环的结果\n",
    "df_res 取满足派单量的数据\n",
    "df_orgin 原始df"
   ]
  },
  {
   "cell_type": "code",
   "execution_count": 42,
   "metadata": {},
   "outputs": [],
   "source": [
    "#取出各条件号码，依次遍历\n",
    "\n",
    "def handle(df_t_tmp, pdl, row, queue, df_res_total, df_res,df_orgin):\n",
    "    # print(len(df_t_tmp))\n",
    "    # 结束条件df_end长度\n",
    "    if (len(df_t_tmp) == 10000):\n",
    "        return df_res_total\n",
    "\n",
    "    if ((len(df_t_tmp) >= pdl)):\n",
    "        df_res = df_t_tmp.head(pdl).copy()\n",
    "        df_orgin=df_orgin[~df_orgin.号码.isin(df_res.号码)]\n",
    "        df_res['打标'] = row\n",
    "        df_res_total = pd.concat([df_res_total, df_res])\n",
    "        # print(df_res_total)\n",
    "        return df_res_total\n",
    "    else:\n",
    "        last_pdl = pdl - len(df_t_tmp)\n",
    "        df_res = df_t_tmp.head(len(df_t_tmp)).copy()\n",
    "        df_orgin=df_orgin[~df_orgin.号码.isin(df_res.号码)]\n",
    "        df_res['打标'] = row\n",
    "        df_res_total = pd.concat([df_res_total, df_res])\n",
    "        # print(df_res_total)\n",
    "        df_t_tmp = queue.pop(0)  # 队列出队\n",
    "        return handle(df_t_tmp, last_pdl, row, queue, df_res_total, df_res,df_orgin)"
   ]
  },
  {
   "cell_type": "markdown",
   "metadata": {},
   "source": [
    "### 渠道"
   ]
  },
  {
   "cell_type": "markdown",
   "metadata": {},
   "source": [
    "条件对应二进制码"
   ]
  },
  {
   "cell_type": "markdown",
   "metadata": {},
   "source": [
    "无宽客户"
   ]
  },
  {
   "cell_type": "code",
   "execution_count": 43,
   "metadata": {},
   "outputs": [],
   "source": [
    "term=[15,14,13,11,12,10,9,8,7,6,5,3,4,2,1,0]"
   ]
  },
  {
   "cell_type": "markdown",
   "metadata": {},
   "source": [
    "全家享"
   ]
  },
  {
   "cell_type": "code",
   "execution_count": 44,
   "metadata": {},
   "outputs": [],
   "source": [
    "qjx_term=[7,6,5,4,3,2,1,0]"
   ]
  },
  {
   "cell_type": "markdown",
   "metadata": {},
   "source": [
    "终端购机"
   ]
  },
  {
   "cell_type": "code",
   "execution_count": 45,
   "metadata": {},
   "outputs": [],
   "source": [
    "zdgj_term=[0,1]"
   ]
  },
  {
   "cell_type": "markdown",
   "metadata": {},
   "source": [
    "条件结构体"
   ]
  },
  {
   "cell_type": "code",
   "execution_count": 46,
   "metadata": {},
   "outputs": [],
   "source": [
    "class wkkh_term(object):\n",
    "\n",
    "    def __init__(self, a, b,c,d):\n",
    "\n",
    "        self.a = int(a)\n",
    "\n",
    "        self.b = int(b)\n",
    "\n",
    "        self.c = int(c)\n",
    "        \n",
    "        self.d = int(d)\n",
    "\n",
    "\n",
    "    def df_wk(self,df_tmp):\n",
    "        df_tmp_res=df_tmp[(df_tmp['80以上资费高价值客户']==self.a)&(df_tmp['我号异宽']==self.b)&(df_tmp['终端换机']==self.c)&(df_tmp['4G资费']==self.d)]\n",
    "        return df_tmp_res\n",
    "    \n",
    "    def df_qjx(self,df_tmp):\n",
    "        df_tmp_res=df_tmp[(df_tmp['是否裸奔高价值']==self.a)&(df_tmp['是否质差客户']==self.b)&(df_tmp['有免费成员空间']==self.c)]\n",
    "        return df_tmp_res\n",
    "    def df_zdgj(self,df_tmp):\n",
    "        df_tmp_res=df_tmp[(df_tmp['是否为宽带客户']==self.a)]\n",
    "        return df_tmp_res"
   ]
  },
  {
   "cell_type": "markdown",
   "metadata": {},
   "source": [
    "清理重复号码函数"
   ]
  },
  {
   "cell_type": "code",
   "execution_count": 47,
   "metadata": {},
   "outputs": [],
   "source": [
    "def df_clean(df,df_no_need):\n",
    "        df=df[~df.号码.isin(df_no_need.号码)]\n",
    "        return df\n"
   ]
  },
  {
   "cell_type": "markdown",
   "metadata": {},
   "source": [
    "### 条件进队"
   ]
  },
  {
   "cell_type": "code",
   "execution_count": 49,
   "metadata": {},
   "outputs": [],
   "source": [
    "def choose_consumer(type,ob,df_tmp):\n",
    "    if '无宽' in type:\n",
    "        return wkkh_term.df_wk(ob,df_tmp)\n",
    "\n",
    "    if '全家享' in type:\n",
    "        return    wkkh_term.df_qjx(ob,df_tmp) \n",
    "\n",
    "    if '终端购机' in type:\n",
    "        return    wkkh_term.df_zdgj(ob,df_tmp) "
   ]
  },
  {
   "cell_type": "code",
   "execution_count": 50,
   "metadata": {},
   "outputs": [],
   "source": [
    "def choose_term(type):\n",
    "    if '无宽' in type:\n",
    "        return term\n",
    "\n",
    "    if '全家享' in type:\n",
    "        return   qjx_term\n",
    "\n",
    "    if '终端购机' in type:\n",
    "        return   zdgj_term"
   ]
  },
  {
   "cell_type": "code",
   "execution_count": 51,
   "metadata": {},
   "outputs": [],
   "source": [
    "def get_kh(df_tmp,consumer_type,type,term):\n",
    "    #consumer_type为客户类型\n",
    "    df_stack = []\n",
    "    for i in term:\n",
    "        i=i<<consumer_type#移动几位\n",
    "        res='{:04b}'.format(i)\n",
    "        a=res[0]\n",
    "        b=res[1]\n",
    "        c=res[2]\n",
    "        d=res[3]\n",
    "        ob=wkkh_term(a,b,c,d)\n",
    "        df_res=choose_consumer(type,ob,df_tmp)\n",
    "            \n",
    "        df_stack.append(df_res)\n",
    "    #结束条件\n",
    "    df_end = pd.Series(range(0, 10000))\n",
    "    df_stack.append(df_end)\n",
    "    return df_stack"
   ]
  },
  {
   "cell_type": "markdown",
   "metadata": {},
   "source": [
    "分配函数"
   ]
  },
  {
   "cell_type": "code",
   "execution_count": 59,
   "metadata": {},
   "outputs": [],
   "source": [
    "def divide(df_rule,out_path,r_id,type,df_origin):\n",
    "        global df1\n",
    "        global df2\n",
    "        global df3\n",
    "        df_res_total=pd.DataFrame()\n",
    "        df_res_total_l=pd.DataFrame()\n",
    "\n",
    "        df_stack = []\n",
    "\n",
    "        consumer_dict=dict({'无宽': 0, '全家享': 1, '终端': 2})\n",
    "        consumer_type=0\n",
    "        for key in consumer_dict:\n",
    "                if type in key:\n",
    "                    consumer_type=consumer_dict[key]\n",
    "                    break\n",
    "        #consumer_type移位所需位数,type判断获得哪类类型客户号码\n",
    "        term_now=choose_term(type)\n",
    "\n",
    "        for index, row in df_rule.iterrows():\n",
    "            #取出各条件号码，依次遍历\n",
    "            df_res=pd.DataFrame()\n",
    "            df_tmp=df_origin[df_origin[r_id]==row[r_id]]\n",
    "            pdl1 = row[type]#修改条件\n",
    "            df_stack = []\n",
    "\n",
    "            \n",
    "            df_stack = get_kh(df_tmp,consumer_type,type,term_now)\n",
    "\n",
    "            # print(len(df_end))\n",
    "            #从2开始，有n个条件，就压栈n-1个条件和df_end条件\n",
    "            pdl1 = int(pdl1)\n",
    "            row = row['派单编号']\n",
    "            #压出队头，利用队列思想\n",
    "            df_t_tmp=df_stack.pop(0)\n",
    "            # 递归\n",
    "            df_res = handle(df_t_tmp, pdl1, row, df_stack, df_res_total, df_res,df_origin)\n",
    "            df_res_total_l = pd.concat([df_res_total_l, df_res])\n",
    "            df_origin=df_clean(df_origin,df_res_total_l)\n",
    "\n",
    "        df_res_total_l.to_excel(out_path)\n",
    "        df3=df3[~df3.号码.isin(df_res_total_l.号码)]\n",
    "        df2=df2[~df2.号码.isin(df_res_total_l.号码)]\n",
    "        df1=df1[~df1.号码.isin(df_res_total_l.号码)]"
   ]
  },
  {
   "cell_type": "markdown",
   "metadata": {},
   "source": [
    "### 开始分配"
   ]
  },
  {
   "cell_type": "markdown",
   "metadata": {},
   "source": [
    "### 渠道"
   ]
  },
  {
   "cell_type": "markdown",
   "metadata": {},
   "source": [
    "无宽客户"
   ]
  },
  {
   "cell_type": "code",
   "execution_count": 60,
   "metadata": {},
   "outputs": [
    {
     "name": "stdout",
     "output_type": "stream",
     "text": [
      "0\n"
     ]
    }
   ],
   "source": [
    "outpath='渠道-无宽客户-结果.xlsx'\n",
    "divide(df_r1,outpath,'网格ID','无宽客户',df2)\n"
   ]
  },
  {
   "cell_type": "markdown",
   "metadata": {},
   "source": [
    "全家享2.0"
   ]
  },
  {
   "cell_type": "code",
   "execution_count": 61,
   "metadata": {},
   "outputs": [
    {
     "name": "stdout",
     "output_type": "stream",
     "text": [
      "0\n"
     ]
    }
   ],
   "source": [
    "outpath='渠道-全家享2.0-结果.xlsx'\n",
    "divide(df_r1,outpath,'服务中心ID','全家享2.0',df3)\n"
   ]
  },
  {
   "cell_type": "markdown",
   "metadata": {},
   "source": [
    "### 直销"
   ]
  },
  {
   "cell_type": "markdown",
   "metadata": {},
   "source": [
    "无宽客户"
   ]
  },
  {
   "cell_type": "code",
   "execution_count": 71,
   "metadata": {},
   "outputs": [],
   "source": [
    "outpath='直销-无宽客户-结果.xlsx'\n",
    "divide(df_r2,outpath,'服务中心ID','无宽客户',df2)\n"
   ]
  },
  {
   "cell_type": "markdown",
   "metadata": {},
   "source": [
    "全家享"
   ]
  },
  {
   "cell_type": "code",
   "execution_count": 72,
   "metadata": {},
   "outputs": [],
   "source": [
    "outpath='直销-全家享2.0-结果.xlsx'\n",
    "divide(df_r2,outpath,'服务中心ID','全家享2.0',df3)\n"
   ]
  },
  {
   "cell_type": "markdown",
   "metadata": {},
   "source": [
    "### 三大家\n"
   ]
  },
  {
   "cell_type": "markdown",
   "metadata": {},
   "source": [
    "终端购机"
   ]
  },
  {
   "cell_type": "code",
   "execution_count": 74,
   "metadata": {},
   "outputs": [],
   "source": [
    "outpath='三大家-终端购机-结果.xlsx'\n",
    "divide(df_r3,outpath,'服务中心ID','终端购机',df1)\n"
   ]
  },
  {
   "cell_type": "markdown",
   "metadata": {},
   "source": [
    "全家享"
   ]
  },
  {
   "cell_type": "code",
   "execution_count": null,
   "metadata": {},
   "outputs": [],
   "source": [
    "outpath='三大家-全家享-结果.xlsx'\n",
    "divide(df_r3,outpath,'服务中心ID','全家享2.0',df3)\n"
   ]
  }
 ],
 "metadata": {
  "kernelspec": {
   "display_name": "Python 3.9.3 64-bit",
   "language": "python",
   "name": "python3"
  },
  "language_info": {
   "codemirror_mode": {
    "name": "ipython",
    "version": 3
   },
   "file_extension": ".py",
   "mimetype": "text/x-python",
   "name": "python",
   "nbconvert_exporter": "python",
   "pygments_lexer": "ipython3",
   "version": "3.9.3"
  },
  "orig_nbformat": 4,
  "vscode": {
   "interpreter": {
    "hash": "6fff98fc3b3d81bd655c2cc48858186e4d9e2db7b515bf1c3221888f12a62f87"
   }
  }
 },
 "nbformat": 4,
 "nbformat_minor": 2
}
