{
 "cells": [
  {
   "cell_type": "code",
   "execution_count": 23,
   "metadata": {},
   "outputs": [],
   "source": [
    "import pandas as pd\n",
    "import os\n",
    "\n",
    "import tkinter as tk\n",
    "from tkinter import ttk\n",
    "from tkinter import filedialog\n",
    "\n",
    "from tkinter import messagebox\n",
    "\n",
    "import re\n",
    "import time"
   ]
  },
  {
   "cell_type": "code",
   "execution_count": 24,
   "metadata": {},
   "outputs": [
    {
     "name": "stdout",
     "output_type": "stream",
     "text": [
      "正在打开……\n"
     ]
    }
   ],
   "source": [
    "print('正在打开……')\n",
    "df_mr=pd.DataFrame()\n",
    "root = tk.Tk()\n",
    "root.withdraw()\n",
    "# path = filedialog.askopenfilename()\n",
    "# path_out, temp = os.path.split(path)\n",
    "# file_name, extension = os.path.splitext(temp)\n",
    "# print('path:', path_out)\n",
    "# print('file_name:', file_name)\n",
    "# print('extension:', extension)\n",
    "\n",
    "datapath1 = filedialog.askopenfilename()"
   ]
  },
  {
   "cell_type": "markdown",
   "metadata": {},
   "source": [
    "### 读取源数据"
   ]
  },
  {
   "cell_type": "code",
   "execution_count": 25,
   "metadata": {},
   "outputs": [],
   "source": [
    "df1=pd.read_excel(datapath1,sheet_name='终端购机',dtype='str')\n",
    "df2=pd.read_excel(datapath1,sheet_name='无宽客户',dtype='str')\n",
    "df3=pd.read_excel(datapath1,sheet_name='全家享2.0',dtype='str')"
   ]
  },
  {
   "cell_type": "markdown",
   "metadata": {},
   "source": [
    "### 备份"
   ]
  },
  {
   "cell_type": "code",
   "execution_count": 93,
   "metadata": {},
   "outputs": [],
   "source": [
    "df1_bck=df1.copy()\n",
    "df2_bck=df2.copy()\n",
    "df3_bck=df3.copy()"
   ]
  },
  {
   "cell_type": "markdown",
   "metadata": {},
   "source": [
    "### 还原"
   ]
  },
  {
   "cell_type": "code",
   "execution_count": 94,
   "metadata": {},
   "outputs": [],
   "source": [
    "df1=df1_bck\n",
    "df2=df2_bck\n",
    "df3=df3_bck"
   ]
  },
  {
   "cell_type": "markdown",
   "metadata": {},
   "source": [
    "### 读取派单规则"
   ]
  },
  {
   "cell_type": "code",
   "execution_count": 26,
   "metadata": {},
   "outputs": [
    {
     "name": "stdout",
     "output_type": "stream",
     "text": [
      "正在打开……\n"
     ]
    }
   ],
   "source": [
    "print('正在打开……')\n",
    "df_mr=pd.DataFrame()\n",
    "root = tk.Tk()\n",
    "root.withdraw()\n",
    "# path = filedialog.askopenfilename()\n",
    "# path_out, temp = os.path.split(path)\n",
    "# file_name, extension = os.path.splitext(temp)\n",
    "# print('path:', path_out)\n",
    "# print('file_name:', file_name)\n",
    "# print('extension:', extension)\n",
    "\n",
    "datapath_r = filedialog.askopenfilename()"
   ]
  },
  {
   "cell_type": "code",
   "execution_count": 27,
   "metadata": {},
   "outputs": [],
   "source": [
    "df_r1=pd.read_excel(datapath_r,sheet_name='渠道')\n",
    "df_r2=pd.read_excel(datapath_r,sheet_name='直销')\n",
    "df_r3=pd.read_excel(datapath_r,sheet_name='三大家')"
   ]
  },
  {
   "cell_type": "markdown",
   "metadata": {},
   "source": [
    "### 数据清理"
   ]
  },
  {
   "cell_type": "markdown",
   "metadata": {},
   "source": [
    "将不是数字等转化为数字。"
   ]
  },
  {
   "cell_type": "code",
   "execution_count": 95,
   "metadata": {},
   "outputs": [],
   "source": [
    "# df1[['服务中心ID','网格ID']] = df1[['服务中心ID','网格ID']].apply(pd.to_numeric, errors='coerce').fillna(0.0)\n",
    "# df2[['服务中心ID','网格ID']] = df2[['服务中心ID','网格ID']].apply(pd.to_numeric, errors='coerce').fillna(0.0)\n",
    "# df3[['服务中心ID','网格ID']] = df3[['服务中心ID','网格ID']].apply(pd.to_numeric, errors='coerce').fillna(0.0)\n",
    "# 'raise'参数：无效的解析将引发异常\n",
    "# 'corece'参数：将无效解析设置为NaN\n",
    "# 'ignore'参数：无效的解析将返回输入,也就是遇到无效数据不解析，也不会填充NaN或者0\n",
    "# 用ignore保留中文\n",
    "df1 = df1.apply(pd.to_numeric, errors='ignore').fillna(0.0)\n",
    "df2 = df2.apply(pd.to_numeric, errors='ignore').fillna(0.0)\n",
    "df3 = df3.apply(pd.to_numeric, errors='ignore').fillna(0.0)"
   ]
  },
  {
   "cell_type": "markdown",
   "metadata": {},
   "source": [
    "### 递归，根据各种不同条件，取满足条件的号码，并依次遍历"
   ]
  },
  {
   "cell_type": "markdown",
   "metadata": {},
   "source": [
    "实际上就是将get和set改变为装饰器，也就是点访问"
   ]
  },
  {
   "cell_type": "markdown",
   "metadata": {},
   "source": [
    "df__t_tmp 满足条件的号码池\n",
    "pdl 派单量\n",
    "row 打标，分配编码\n",
    "stack 堆栈，存储满足各种条件的号码池\n",
    "df_res_total 存放本次循环的结果\n",
    "df_res 取满足派单量的数据\n",
    "df_orgin 原始df"
   ]
  },
  {
   "cell_type": "code",
   "execution_count": 96,
   "metadata": {},
   "outputs": [],
   "source": [
    "#取出各条件号码，依次遍历\n",
    "\n",
    "def handle(df_t_tmp, pdl, row, queue, df_res_total, df_res,df_orgin):\n",
    "    # print(len(df_t_tmp))\n",
    "    # 结束条件\n",
    "    if (len(df_t_tmp) == 10000):\n",
    "        return df_res_total\n",
    "\n",
    "    if ((len(df_t_tmp) >= pdl)):\n",
    "        df_res = df_t_tmp.head(pdl).copy()\n",
    "        df_orgin=df_orgin[~df_orgin.号码.isin(df_res.号码)]\n",
    "        df_res['打标'] = row\n",
    "        df_res_total = pd.concat([df_res_total, df_res])\n",
    "        # print(df_res_total)\n",
    "        return df_res_total\n",
    "    else:\n",
    "        last_pdl = pdl - len(df_t_tmp)\n",
    "        df_res = df_t_tmp.head(len(df_t_tmp)).copy()\n",
    "        df_orgin=df_orgin[~df_orgin.号码.isin(df_res.号码)]\n",
    "        df_res['打标'] = row\n",
    "        df_res_total = pd.concat([df_res_total, df_res])\n",
    "        # print(df_res_total)\n",
    "        df_t_tmp = queue.pop(0)  # 队列出队\n",
    "        return handle(df_t_tmp, last_pdl, row, queue, df_res_total, df_res,df_orgin)"
   ]
  },
  {
   "cell_type": "markdown",
   "metadata": {},
   "source": [
    "### 渠道"
   ]
  },
  {
   "cell_type": "markdown",
   "metadata": {},
   "source": [
    "### 无宽客户"
   ]
  },
  {
   "cell_type": "markdown",
   "metadata": {},
   "source": [
    "条件对应二进制码"
   ]
  },
  {
   "cell_type": "code",
   "execution_count": 97,
   "metadata": {},
   "outputs": [],
   "source": [
    "term=[15,14,13,11,12,10,9,8,7,6,5,3,4,2,1,0]"
   ]
  },
  {
   "cell_type": "markdown",
   "metadata": {},
   "source": [
    "条件结构体"
   ]
  },
  {
   "cell_type": "code",
   "execution_count": 98,
   "metadata": {},
   "outputs": [],
   "source": [
    "class wkkh_term(object):\n",
    "\n",
    "    def __init__(self, a, b,c,d):\n",
    "\n",
    "        self.a = int(a)\n",
    "\n",
    "        self.b = int(b)\n",
    "\n",
    "        self.c = int(c)\n",
    "        \n",
    "        self.d = int(d)\n",
    "\n",
    "    def df_wk(self,df_tmp):\n",
    "        df_tmp_res=df_tmp[(df_tmp['80以上资费高价值客户']==self.a)&(df_tmp['我号异宽']==self.b)&(df_tmp['终端换机']==self.c)&(df_tmp['4G资费']==self.d)]\n",
    "        return df_tmp_res"
   ]
  },
  {
   "cell_type": "markdown",
   "metadata": {},
   "source": [
    "### 条件进队"
   ]
  },
  {
   "cell_type": "code",
   "execution_count": 99,
   "metadata": {},
   "outputs": [],
   "source": [
    "def get_wkkh(n,df_tmp):\n",
    "    df_stack = []\n",
    "    for i in term:\n",
    "        res='{:04b}'.format(i)\n",
    "        a=res[0]\n",
    "        b=res[1]\n",
    "        c=res[2]\n",
    "        d=res[3]\n",
    "        ob=wkkh_term(a,b,c,d)\n",
    "        df_res=wkkh_term.df_wk(ob,df_tmp)\n",
    "        df_stack.append(df_res)\n",
    "    #结束条件\n",
    "    df_end = pd.Series(range(0, 10000))\n",
    "    df_stack.append(df_end)\n",
    "    return df_stack"
   ]
  },
  {
   "cell_type": "markdown",
   "metadata": {},
   "source": [
    "无宽客户"
   ]
  },
  {
   "cell_type": "code",
   "execution_count": 101,
   "metadata": {},
   "outputs": [],
   "source": [
    "df_res_total=pd.DataFrame()\n",
    "df_res_total_l=pd.DataFrame()\n",
    "for index, row in df_r1.iterrows():\n",
    "    #取出各条件号码，依次遍历\n",
    "    df_res=pd.DataFrame()\n",
    "    df_tmp=df2[df2['网格ID']==row['微网格ID']]\n",
    "  \n",
    "    df_tmp_res=pd.DataFrame()   \n",
    "\n",
    "    df_orgin=df2#修改条件\n",
    "\n",
    "    pdl1 = row['无宽客户']#修改条件\n",
    "    df_stack = []\n",
    "    df_stack = get_wkkh(16,df_tmp)\n",
    "    # print(len(df_end))\n",
    "    #从2开始，有n个条件，就压栈n-1个条件和df_end条件\n",
    "    pdl1 = int(pdl1)\n",
    "    row = row['派单编号']\n",
    "    #压出队头，利用队列思想\n",
    "    df_t_tmp=df_stack.pop(0)\n",
    "    # 递归\n",
    "    df_res = handle(df_t_tmp, pdl1, row, df_stack, df_res_total, df_res,df_orgin)\n",
    "    df_res_total_l = pd.concat([df_res_total_l, df_res])\n",
    "                     \n",
    "df_res_total_l.to_excel('渠道-无宽客户-结果.xlsx')\n",
    "df3=df3[~df3.号码.isin(df_res_total_l.号码)]\n",
    "df2=df2[~df2.号码.isin(df_res_total_l.号码)]\n",
    "df1=df1[~df1.号码.isin(df_res_total_l.号码)]"
   ]
  },
  {
   "cell_type": "markdown",
   "metadata": {},
   "source": [
    "全家享2.0"
   ]
  },
  {
   "cell_type": "code",
   "execution_count": 38,
   "metadata": {},
   "outputs": [],
   "source": [
    "df_res_total=pd.DataFrame()\n",
    "df_res_total_l=pd.DataFrame()\n",
    "for index, row in df_r1.iterrows():\n",
    "    #取出各条件号码，依次遍历\n",
    "    df_res=pd.DataFrame()\n",
    "\n",
    "    df_tmp=df3[df3['网格ID']==row['微网格ID']]\n",
    "    df_t_tmp1=df_tmp[(df_tmp['是否裸奔高价值']==1)&(df_tmp['是否质差客户']==1)&(df_tmp['有免费成员空间']==1)]\n",
    "    df_t_tmp2=df_tmp[(df_tmp['是否裸奔高价值']==1)&(df_tmp['是否质差客户']==1)&(df_tmp['有免费成员空间']==0)]\n",
    "    df_t_tmp3=df_tmp[(df_tmp['是否裸奔高价值']==1)&(df_tmp['是否质差客户']==0)&(df_tmp['有免费成员空间']==0)]\n",
    "    df_t_tmp3=df_tmp[(df_tmp['是否裸奔高价值']==0)&(df_tmp['是否质差客户']==0)&(df_tmp['有免费成员空间']==0)]\n",
    "\n",
    "\n",
    "    df_orgin=df3#修改条件\n",
    "\n",
    "    pdl1 = row['全家享2.0']#修改条件\n",
    "    stack = []\n",
    "    df_end = pd.Series(range(0, 10000))\n",
    "    # print(len(df_end))\n",
    "    #从2开始，有n个条件，就压栈n-1个条件和df_end条件\n",
    "    stack.append(df_end)\n",
    "    stack.append(df_t_tmp3)\n",
    "    stack.append(df_t_tmp2)\n",
    "\n",
    "    pdl1 = int(pdl1)\n",
    "    row = row['派单编号']\n",
    "    # 递归\n",
    "    df_res = handle(df_t_tmp1, pdl1, row, stack, df_res_total, df_res,df_orgin)\n",
    "    df_res_total_l = pd.concat([df_res_total_l, df_res])\n",
    "df_res_total_l.to_excel('渠道-全家享2.0-结果.xlsx')\n",
    "df3=df3[~df3.号码.isin(df_res_total_l.号码)]\n",
    "df2=df2[~df2.号码.isin(df_res_total_l.号码)]\n",
    "df1=df1[~df1.号码.isin(df_res_total_l.号码)]\n"
   ]
  },
  {
   "cell_type": "markdown",
   "metadata": {},
   "source": [
    "### 直销"
   ]
  },
  {
   "cell_type": "markdown",
   "metadata": {},
   "source": [
    "无宽客户"
   ]
  },
  {
   "cell_type": "code",
   "execution_count": 41,
   "metadata": {},
   "outputs": [],
   "source": [
    "df_res_total=pd.DataFrame()\n",
    "df_res_total_l=pd.DataFrame()\n",
    "for index, row in df_r2.iterrows():\n",
    "    #取出各条件号码，依次遍历\n",
    "    df_res=pd.DataFrame()\n",
    "    df_tmp=df2[df2['服务中心ID']==row['服务中心ID']]\n",
    "    df_tmp_res=pd.DataFrame()\n",
    "\n",
    "\n",
    "\n",
    "    df_orgin=df2#修改条件\n",
    "\n",
    "    pdl1 = row['无宽客户']#修改条件\n",
    "    df_stack = []\n",
    "    df_stack = get_wkkh(16,df_tmp)\n",
    "    df_end = pd.Series(range(0, 10000))\n",
    "    # print(len(df_end))\n",
    "    #从2开始，有n个条件，就压栈n-1个条件和df_end条件\n",
    "\n",
    "    #队列\n",
    "    df_t_tmp=df_stack.pop(0)\n",
    "\n",
    "    pdl1 = int(pdl1)\n",
    "    row = row['派单编号']\n",
    "    # 递归\n",
    "    df_res = handle(df_t_tmp, pdl1, row, df_stack, df_res_total, df_res,df_orgin)\n",
    "    df_res_total_l = pd.concat([df_res_total_l, df_res])\n",
    "                     \n",
    "df_res_total_l.to_excel('直销-无宽客户-结果.xlsx')\n",
    "df3=df3[~df3.号码.isin(df_res_total_l.号码)]\n",
    "df2=df2[~df2.号码.isin(df_res_total_l.号码)]\n",
    "df1=df1[~df1.号码.isin(df_res_total_l.号码)]"
   ]
  },
  {
   "cell_type": "markdown",
   "metadata": {},
   "source": [
    "全家享"
   ]
  },
  {
   "cell_type": "code",
   "execution_count": 43,
   "metadata": {},
   "outputs": [],
   "source": [
    "df_res_total=pd.DataFrame()\n",
    "df_res_total_l=pd.DataFrame()\n",
    "for index, row in df_r2.iterrows():\n",
    "    #取出各条件号码，依次遍历\n",
    "    df_res=pd.DataFrame()\n",
    "\n",
    "\n",
    "    df_tmp=df3[df3['服务中心ID']==row['服务中心ID']]\n",
    "    df_t_tmp1=df_tmp[(df_tmp['是否裸奔高价值']==1)&(df_tmp['是否质差客户']==1)&(df_tmp['有免费成员空间']==1)]\n",
    "    df_t_tmp2=df_tmp[(df_tmp['是否裸奔高价值']==1)&(df_tmp['是否质差客户']==1)&(df_tmp['有免费成员空间']==0)]\n",
    "    df_t_tmp3=df_tmp[(df_tmp['是否裸奔高价值']==1)&(df_tmp['是否质差客户']==0)&(df_tmp['有免费成员空间']==0)]\n",
    "    df_t_tmp4=df_tmp[(df_tmp['是否裸奔高价值']==0)&(df_tmp['是否质差客户']==0)&(df_tmp['有免费成员空间']==0)]\n",
    "\n",
    "\n",
    "    df_orgin=df3#修改条件\n",
    "\n",
    "    pdl1 = row['全家享2.0']#修改条件\n",
    "    stack = []\n",
    "    df_end = pd.Series(range(0, 10000))\n",
    "    # print(len(df_end))\n",
    "    #从2开始，有n个条件，就压栈n-1个条件和df_end条件\n",
    "    stack.append(df_end)\n",
    "    stack.append(df_t_tmp4)\n",
    "    stack.append(df_t_tmp3)\n",
    "    stack.append(df_t_tmp2)\n",
    "\n",
    "\n",
    "    pdl1 = int(pdl1)\n",
    "    row = row['派单编号']\n",
    "    # 递归\n",
    "    df_res = handle(df_t_tmp1, pdl1, row, stack, df_res_total, df_res,df_orgin)\n",
    "    df_res_total_l = pd.concat([df_res_total_l, df_res])\n",
    "df_res_total_l.to_excel('直销-全家享2.0-结果.xlsx')\n",
    "df3=df3[~df3.号码.isin(df_res_total_l.号码)]\n",
    "df2=df2[~df2.号码.isin(df_res_total_l.号码)]\n",
    "df1=df1[~df1.号码.isin(df_res_total_l.号码)]"
   ]
  },
  {
   "cell_type": "markdown",
   "metadata": {},
   "source": [
    "三大家\n"
   ]
  },
  {
   "cell_type": "markdown",
   "metadata": {},
   "source": [
    "终端购机"
   ]
  },
  {
   "cell_type": "code",
   "execution_count": 54,
   "metadata": {},
   "outputs": [
    {
     "data": {
      "text/html": [
       "<div>\n",
       "<style scoped>\n",
       "    .dataframe tbody tr th:only-of-type {\n",
       "        vertical-align: middle;\n",
       "    }\n",
       "\n",
       "    .dataframe tbody tr th {\n",
       "        vertical-align: top;\n",
       "    }\n",
       "\n",
       "    .dataframe thead th {\n",
       "        text-align: right;\n",
       "    }\n",
       "</style>\n",
       "<table border=\"1\" class=\"dataframe\">\n",
       "  <thead>\n",
       "    <tr style=\"text-align: right;\">\n",
       "      <th></th>\n",
       "      <th>区县</th>\n",
       "      <th>服务中心</th>\n",
       "      <th>服务中心ID</th>\n",
       "      <th>渠道名称</th>\n",
       "      <th>战略</th>\n",
       "      <th>派单编号</th>\n",
       "      <th>终端购机</th>\n",
       "      <th>全家享2.0</th>\n",
       "    </tr>\n",
       "  </thead>\n",
       "  <tbody>\n",
       "    <tr>\n",
       "      <th>0</th>\n",
       "      <td>长宁</td>\n",
       "      <td>长宁城区服务中心</td>\n",
       "      <td>1277398</td>\n",
       "      <td>宜宾长宁分公司竹都大道营业厅燕君通讯（引商入柜）</td>\n",
       "      <td>燕君</td>\n",
       "      <td>1064424</td>\n",
       "      <td>100</td>\n",
       "      <td>100</td>\n",
       "    </tr>\n",
       "    <tr>\n",
       "      <th>1</th>\n",
       "      <td>筠连</td>\n",
       "      <td>筠连城区服务中心</td>\n",
       "      <td>1277422</td>\n",
       "      <td>宜宾筠连分公司城区分局燕君加盟连锁店</td>\n",
       "      <td>燕君</td>\n",
       "      <td>1063880</td>\n",
       "      <td>100</td>\n",
       "      <td>100</td>\n",
       "    </tr>\n",
       "    <tr>\n",
       "      <th>2</th>\n",
       "      <td>兴文</td>\n",
       "      <td>兴文城区服务中心</td>\n",
       "      <td>1277414</td>\n",
       "      <td>宜宾兴文分公司城区分局燕君加盟连锁店</td>\n",
       "      <td>燕君</td>\n",
       "      <td>1044729</td>\n",
       "      <td>100</td>\n",
       "      <td>100</td>\n",
       "    </tr>\n",
       "    <tr>\n",
       "      <th>3</th>\n",
       "      <td>兴文</td>\n",
       "      <td>兴文城区服务中心</td>\n",
       "      <td>1277414</td>\n",
       "      <td>宜宾兴文分公司城区分局燕君翡翠店</td>\n",
       "      <td>燕君</td>\n",
       "      <td>1436061</td>\n",
       "      <td>100</td>\n",
       "      <td>100</td>\n",
       "    </tr>\n",
       "    <tr>\n",
       "      <th>4</th>\n",
       "      <td>高县</td>\n",
       "      <td>文江乡镇服务中心</td>\n",
       "      <td>1670358</td>\n",
       "      <td>宜宾高县分公司城区分局燕君文江加盟连锁店</td>\n",
       "      <td>燕君</td>\n",
       "      <td>1095313</td>\n",
       "      <td>100</td>\n",
       "      <td>100</td>\n",
       "    </tr>\n",
       "    <tr>\n",
       "      <th>...</th>\n",
       "      <td>...</td>\n",
       "      <td>...</td>\n",
       "      <td>...</td>\n",
       "      <td>...</td>\n",
       "      <td>...</td>\n",
       "      <td>...</td>\n",
       "      <td>...</td>\n",
       "      <td>...</td>\n",
       "    </tr>\n",
       "    <tr>\n",
       "      <th>76</th>\n",
       "      <td>翠屏</td>\n",
       "      <td>翠屏城区服务中心</td>\n",
       "      <td>1277400</td>\n",
       "      <td>宜宾翠屏分公司城区南街营业厅佳海通讯（引商入柜）</td>\n",
       "      <td>佳海</td>\n",
       "      <td>1398744</td>\n",
       "      <td>100</td>\n",
       "      <td>100</td>\n",
       "    </tr>\n",
       "    <tr>\n",
       "      <th>77</th>\n",
       "      <td>翠屏</td>\n",
       "      <td>翠屏城区服务中心</td>\n",
       "      <td>1277400</td>\n",
       "      <td>宜宾翠屏分公司城区西郊营业厅佳海通讯（自建他营）</td>\n",
       "      <td>佳海</td>\n",
       "      <td>16462</td>\n",
       "      <td>100</td>\n",
       "      <td>100</td>\n",
       "    </tr>\n",
       "    <tr>\n",
       "      <th>78</th>\n",
       "      <td>叙州</td>\n",
       "      <td>柏溪城区服务中心</td>\n",
       "      <td>1277415</td>\n",
       "      <td>宜宾叙州区分公司振兴营业厅佳海通讯（引商入柜）</td>\n",
       "      <td>佳海</td>\n",
       "      <td>69053</td>\n",
       "      <td>100</td>\n",
       "      <td>100</td>\n",
       "    </tr>\n",
       "    <tr>\n",
       "      <th>79</th>\n",
       "      <td>叙州</td>\n",
       "      <td>柏溪城北服务中心</td>\n",
       "      <td>1460861</td>\n",
       "      <td>宜宾叙州区分公司城北服务中心凯悦金沙佳海加盟连锁店</td>\n",
       "      <td>佳海</td>\n",
       "      <td>1580971</td>\n",
       "      <td>100</td>\n",
       "      <td>100</td>\n",
       "    </tr>\n",
       "    <tr>\n",
       "      <th>80</th>\n",
       "      <td>翠屏</td>\n",
       "      <td>安阜服务中心</td>\n",
       "      <td>1277402</td>\n",
       "      <td>宜宾翠屏分公司安阜服务中心佳海上江北加盟连锁店</td>\n",
       "      <td>佳海</td>\n",
       "      <td>16463</td>\n",
       "      <td>100</td>\n",
       "      <td>100</td>\n",
       "    </tr>\n",
       "  </tbody>\n",
       "</table>\n",
       "<p>81 rows × 8 columns</p>\n",
       "</div>"
      ],
      "text/plain": [
       "    区县      服务中心   服务中心ID                       渠道名称  战略     派单编号  终端购机  \\\n",
       "0   长宁  长宁城区服务中心  1277398   宜宾长宁分公司竹都大道营业厅燕君通讯（引商入柜）  燕君  1064424   100   \n",
       "1   筠连  筠连城区服务中心  1277422         宜宾筠连分公司城区分局燕君加盟连锁店  燕君  1063880   100   \n",
       "2   兴文  兴文城区服务中心  1277414         宜宾兴文分公司城区分局燕君加盟连锁店  燕君  1044729   100   \n",
       "3   兴文  兴文城区服务中心  1277414           宜宾兴文分公司城区分局燕君翡翠店  燕君  1436061   100   \n",
       "4   高县  文江乡镇服务中心  1670358       宜宾高县分公司城区分局燕君文江加盟连锁店  燕君  1095313   100   \n",
       "..  ..       ...      ...                        ...  ..      ...   ...   \n",
       "76  翠屏  翠屏城区服务中心  1277400   宜宾翠屏分公司城区南街营业厅佳海通讯（引商入柜）  佳海  1398744   100   \n",
       "77  翠屏  翠屏城区服务中心  1277400   宜宾翠屏分公司城区西郊营业厅佳海通讯（自建他营）  佳海    16462   100   \n",
       "78  叙州  柏溪城区服务中心  1277415    宜宾叙州区分公司振兴营业厅佳海通讯（引商入柜）  佳海    69053   100   \n",
       "79  叙州  柏溪城北服务中心  1460861  宜宾叙州区分公司城北服务中心凯悦金沙佳海加盟连锁店  佳海  1580971   100   \n",
       "80  翠屏    安阜服务中心  1277402    宜宾翠屏分公司安阜服务中心佳海上江北加盟连锁店  佳海    16463   100   \n",
       "\n",
       "    全家享2.0  \n",
       "0      100  \n",
       "1      100  \n",
       "2      100  \n",
       "3      100  \n",
       "4      100  \n",
       "..     ...  \n",
       "76     100  \n",
       "77     100  \n",
       "78     100  \n",
       "79     100  \n",
       "80     100  \n",
       "\n",
       "[81 rows x 8 columns]"
      ]
     },
     "execution_count": 54,
     "metadata": {},
     "output_type": "execute_result"
    }
   ],
   "source": [
    "df_r3"
   ]
  },
  {
   "cell_type": "code",
   "execution_count": 64,
   "metadata": {},
   "outputs": [],
   "source": [
    "df_res_total=pd.DataFrame()\n",
    "df_res_total_l=pd.DataFrame()\n",
    "for index, row in df_r3.iterrows():\n",
    "    #取出各条件号码，依次遍历\n",
    "    df_res=pd.DataFrame()\n",
    "\n",
    "    df_tmp=df1[df1['服务中心ID']==row['服务中心ID']]\n",
    "    df_t_tmp1=df_tmp[(df_tmp['是否为宽带客户']=='无宽客户')]\n",
    "    df_t_tmp2=df_tmp[(df_tmp['是否为宽带客户']=='有宽客户')]\n",
    "\n",
    "\n",
    "    df_orgin=df1#修改条件\n",
    "\n",
    "    pdl1 = row['终端购机']#修改条件\n",
    "    stack = []\n",
    "    df_end = pd.Series(range(0, 10000))\n",
    "    # print(len(df_end))\n",
    "    #从2开始，有n个条件，就压栈n-1个条件和df_end条件\n",
    "    stack.append(df_end)\n",
    "    stack.append(df_t_tmp2)\n",
    "\n",
    "    pdl1 = int(pdl1)\n",
    "    row = row['派单编号']\n",
    "    # 递归\n",
    "    df_res = handle(df_t_tmp1, pdl1, row, stack, df_res_total, df_res,df_orgin)\n",
    "    df_res_total_l = pd.concat([df_res_total_l, df_res])\n",
    "df_res_total_l.to_excel('三大家-终端购机-结果.xlsx')\n",
    "df3=df3[~df3.号码.isin(df_res_total_l.号码)]\n",
    "df2=df2[~df2.号码.isin(df_res_total_l.号码)]\n",
    "df1=df1[~df1.号码.isin(df_res_total_l.号码)]"
   ]
  },
  {
   "cell_type": "markdown",
   "metadata": {},
   "source": [
    "全家享"
   ]
  },
  {
   "cell_type": "code",
   "execution_count": 34,
   "metadata": {},
   "outputs": [],
   "source": [
    "df_res_total=pd.DataFrame()\n",
    "df_res_total_l=pd.DataFrame()\n",
    "for index, row in df_r3.iterrows():\n",
    "    #取出各条件号码，依次遍历\n",
    "    df_res=pd.DataFrame()\n",
    "\n",
    "    df_tmp=df3[df3['服务中心ID']==row['服务中心ID']]\n",
    "    df_t_tmp1=df_tmp[(df_tmp['是否裸奔高价值']==1)&(df_tmp['是否质差客户']==1)&(df_tmp['有免费成员空间']==1)]\n",
    "    df_t_tmp2=df_tmp[(df_tmp['是否裸奔高价值']==1)&(df_tmp['是否质差客户']==1)&(df_tmp['有免费成员空间']==0)]\n",
    "    df_t_tmp3=df_tmp[(df_tmp['是否裸奔高价值']==1)&(df_tmp['是否质差客户']==0)&(df_tmp['有免费成员空间']==0)]\n",
    "    df_t_tmp4=df_tmp[(df_tmp['是否裸奔高价值']==0)&(df_tmp['是否质差客户']==0)&(df_tmp['有免费成员空间']==0)]\n",
    "\n",
    "    df_orgin=df3#修改条件\n",
    "\n",
    "    pdl1 = row['全家享2.0']#修改条件\n",
    "    stack = []\n",
    "    df_end = pd.Series(range(0, 10000))\n",
    "    # print(len(df_end))\n",
    "    #从2开始，有n个条件，就压栈n-1个条件和df_end条件\n",
    "    stack.append(df_end)\n",
    "    stack.append(df_t_tmp4)    \n",
    "    stack.append(df_t_tmp3)\n",
    "    stack.append(df_t_tmp2)\n",
    "\n",
    "    pdl1 = int(pdl1)\n",
    "    row = row['派单编号']\n",
    "    # 递归\n",
    "    df_res = handle(df_t_tmp1, pdl1, row, stack, df_res_total, df_res,df_orgin)\n",
    "    df_res_total_l = pd.concat([df_res_total_l, df_res])\n",
    "df_res_total_l.to_excel('三大家-全家享-结果.xlsx')\n",
    "df3=df3[~df3.号码.isin(df_res_total_l.号码)]\n",
    "df2=df2[~df2.号码.isin(df_res_total_l.号码)]\n",
    "df1=df1[~df1.号码.isin(df_res_total_l.号码)]"
   ]
  }
 ],
 "metadata": {
  "kernelspec": {
   "display_name": "Python 3.9.3 64-bit",
   "language": "python",
   "name": "python3"
  },
  "language_info": {
   "codemirror_mode": {
    "name": "ipython",
    "version": 3
   },
   "file_extension": ".py",
   "mimetype": "text/x-python",
   "name": "python",
   "nbconvert_exporter": "python",
   "pygments_lexer": "ipython3",
   "version": "3.9.3"
  },
  "orig_nbformat": 4,
  "vscode": {
   "interpreter": {
    "hash": "6fff98fc3b3d81bd655c2cc48858186e4d9e2db7b515bf1c3221888f12a62f87"
   }
  }
 },
 "nbformat": 4,
 "nbformat_minor": 2
}
