{
 "cells": [
  {
   "cell_type": "markdown",
   "metadata": {},
   "source": [
    "### ***加入备注，标记汇总数据***"
   ]
  },
  {
   "cell_type": "code",
   "execution_count": 2,
   "metadata": {},
   "outputs": [
    {
     "name": "stdout",
     "output_type": "stream",
     "text": [
      "正在打开……\n",
      "D:/酬金拆分/10月结酬率.xlsx\n",
      "-------------\n",
      "-------------\n",
      "-------------\n",
      "                                               业务办理总量    已结算量       结算金额\n",
      "区县                                                                      \n",
      "三江新区分公司                                         65816   57461  495522.67\n",
      "兴文县分公司                                          38285   29012  323916.96\n",
      "南溪区分公司                                          52586   42692  348192.34\n",
      "叙州区分公司                                         101061   83012  928394.75\n",
      "屏山县分公司                                          43529   36265  330766.98\n",
      "江安县分公司                                          63078   52067  426231.99\n",
      "珙县分公司                                           47282   38751  319408.96\n",
      "筠连县分公司                                          47823   37445  362782.02\n",
      "翠屏区分公司                                         263555  202563  935556.88\n",
      "长宁县分公司                                          49221   40894  390782.25\n",
      "高县分公司                                           56556   45527  442457.07\n",
      "-------------\n",
      "0      筠连县分公司                                      \n",
      "1      筠连县分公司                                      \n",
      "2      翠屏区分公司                                      \n",
      "3      翠屏区分公司                                      \n",
      "4      屏山县分公司                                      \n",
      "                          ...                      \n",
      "6     珙县分公司                                        \n",
      "7      筠连县分公司                                      \n",
      "8      翠屏区分公司                                      \n",
      "9      长宁县分公司                                      \n",
      "10    高县分公司                                        \n",
      "Name: 区县, Length: 48341, dtype: object\n"
     ]
    }
   ],
   "source": [
    "import numpy as np\n",
    "import pandas as pd\n",
    "import tkinter as tk\n",
    "from tkinter import filedialog\n",
    "\n",
    "import os\n",
    "\n",
    "# 数据加载\n",
    "print('正在打开……')\n",
    "root = tk.Tk()\n",
    "root.withdraw()\n",
    "# path = filedialog.askopenfilename()\n",
    "# path_out, temp = os.path.split(path)\n",
    "# file_name, extension = os.path.splitext(temp)\n",
    "# print('path:', path_out)\n",
    "# print('file_name:', file_name)\n",
    "# print('extension:', extension)\n",
    "\n",
    "path = filedialog.askopenfilename()\n",
    "print(path)\n",
    "\n",
    "data = pd.read_excel(path)\n",
    "df=pd.DataFrame(data)\n",
    "# df1=df.describe()\n",
    "p_df1 = pd.pivot_table(df,values=['已结算量','业务办理总量','结算金额'],index=['区县','服务中心','渠道名称','一级科目'],aggfunc=np.sum)\n",
    "p_df1['备注']='科目汇总'\n",
    "# print(p_df1)\n",
    "print('-------------')\n",
    "p_df2 = pd.pivot_table(df,values=['已结算量','业务办理总量','结算金额'],index=['区县','服务中心','渠道名称'],aggfunc=np.sum)\n",
    "p_df2['备注']='渠道汇总'\n",
    "# print(p_df2)\n",
    "print('-------------')\n",
    "p_df3 = pd.pivot_table(df,values=['已结算量','业务办理总量','结算金额'],index=['区县','服务中心'],aggfunc=np.sum)\n",
    "p_df3['备注']='服务中心汇总'\n",
    "# print(p_df3)\n",
    "print('-------------')\n",
    "p_df4 = pd.pivot_table(df,values=['已结算量','业务办理总量','结算金额'],index=['区县'],aggfunc=np.sum)\n",
    "print(p_df4)\n",
    "p_df4['备注']='区县汇总'\n",
    "# print(p_df4.columns)\n",
    "print('-------------')\n",
    "p_df1=p_df1.reset_index()\n",
    "p_df2=p_df2.reset_index()\n",
    "p_df3=p_df3.reset_index()\n",
    "p_df4=p_df4.reset_index()\n",
    "# path = filedialog.askdirectory()\n",
    "# p_df4.to_excel(path+'/结果.xlsx',index=0)\n",
    "p_df=pd.concat([df,p_df1,p_df2,p_df3,p_df4], sort=False)\n",
    "# path = filedialog.askdirectory()\n",
    "# p_df.to_excel(path+'/合并.xlsx',index=0)\n",
    "\n",
    "\n",
    "print(p_df['区县'])"
   ]
  },
  {
   "cell_type": "code",
   "execution_count": 3,
   "metadata": {},
   "outputs": [
    {
     "data": {
      "text/plain": [
       "0       筠连县分公司                                      \n",
       "2       翠屏区分公司                                      \n",
       "4       屏山县分公司                                      \n",
       "14      叙州区分公司                                      \n",
       "15       三江新区分公司                                    \n",
       "18     高县分公司                                        \n",
       "19      南溪区分公司                                      \n",
       "27      兴文县分公司                                      \n",
       "29      江安县分公司                                      \n",
       "147     长宁县分公司                                      \n",
       "302    珙县分公司                                        \n",
       "Name: 区县, dtype: object"
      ]
     },
     "execution_count": 3,
     "metadata": {},
     "output_type": "execute_result"
    }
   ],
   "source": [
    "list_qx = p_df['区县'].drop_duplicates()\n",
    "list_qx"
   ]
  },
  {
   "cell_type": "code",
   "execution_count": 4,
   "metadata": {},
   "outputs": [
    {
     "data": {
      "text/plain": [
       "5677                     ?王山乡镇服务中心\n",
       "16846    [SA]SA宜宾在线科技有限责任公司-宜宾-翠屏区\n",
       "15834         [SA]SA成都豪德信息技术有限责任公司\n",
       "101               [SA]上海一玺信息科技有限公司\n",
       "5519               [SA]四川新启盟科技有限公司\n",
       "                   ...            \n",
       "4600                    麒麟苗族乡镇服务中心\n",
       "3578                      黄沙乡镇服务中心\n",
       "1044                      龙华乡镇服务中心\n",
       "7005                      龙头乡镇服务中心\n",
       "34369                     龙池乡镇服务中心\n",
       "Name: 服务中心, Length: 153, dtype: object"
      ]
     },
     "execution_count": 4,
     "metadata": {},
     "output_type": "execute_result"
    }
   ],
   "source": [
    "list_fwzx=p_df[p_df['服务中心'].notnull()].drop_duplicates()\n",
    "\n",
    "list_fwzx.columns=list_fwzx.columns.str.strip()\n",
    "list_fwzx=list_fwzx.sort_values(by='服务中心')\n",
    "list_fwzx=list_fwzx['服务中心'].drop_duplicates()\n",
    "list_fwzx"
   ]
  },
  {
   "cell_type": "code",
   "execution_count": 5,
   "metadata": {},
   "outputs": [
    {
     "data": {
      "text/plain": [
       "0             宜宾筠连分公司城区服务中心宏达通讯宽服站\n",
       "2             宜宾翠屏分公司安阜服务中心铁通合作营业厅\n",
       "3           宜宾翠屏分公司安阜服务中心时代通讯加盟连锁店\n",
       "4           宜宾屏山分公司城区服务中心腾越宽服站（加盟）\n",
       "5            宜宾屏山分公司城区服务中心同乐通讯手机专卖\n",
       "                   ...            \n",
       "38358      宜宾屏山分公司书楼镇乡镇服务中心邮政合作营业厅\n",
       "38368            宜宾南溪区汪家镇服务中心邮政合作厅\n",
       "38371       宜宾叙州区分公司蕨溪镇乡镇服务中心邮政合作厅\n",
       "38372    宜宾高县分公司四烈镇乡镇服务中心邮政合作厅（贾村）\n",
       "39169      宜宾叙州区南岸东区服务中心佳海通讯（自建他营）\n",
       "Name: 渠道名称, Length: 1197, dtype: object"
      ]
     },
     "execution_count": 5,
     "metadata": {},
     "output_type": "execute_result"
    }
   ],
   "source": [
    "list_channel = p_df[p_df['渠道名称'].notnull()].drop_duplicates()\n",
    "list_channel = list_channel['渠道名称'].drop_duplicates()\n",
    "list_channel"
   ]
  },
  {
   "cell_type": "code",
   "execution_count": 6,
   "metadata": {},
   "outputs": [
    {
     "data": {
      "text/plain": [
       "'D:/酬金拆分/10月结酬率.xlsx'"
      ]
     },
     "execution_count": 6,
     "metadata": {},
     "output_type": "execute_result"
    }
   ],
   "source": [
    "path"
   ]
  },
  {
   "cell_type": "code",
   "execution_count": 7,
   "metadata": {},
   "outputs": [
    {
     "data": {
      "text/plain": [
       "'D:/酬金拆分/test.xlsx'"
      ]
     },
     "execution_count": 7,
     "metadata": {},
     "output_type": "execute_result"
    }
   ],
   "source": [
    "l=path.rfind('/')\n",
    "test=path[0:l+1]+'test.xlsx'\n",
    "test\n"
   ]
  },
  {
   "cell_type": "code",
   "execution_count": 9,
   "metadata": {},
   "outputs": [],
   "source": [
    "for value in list_qx:\n",
    "    df1 = p_df[p_df['区县'] == value]\n",
    "    menu2 = df1.loc[:, ['服务中心','渠道名称']].drop_duplicates()\n",
    "    for index, row in menu2.iterrows():\n",
    "        if str(row[\"服务中心\"]).find('?')>=0:\n",
    "            row[\"服务中心\"]=str(row[\"服务中心\"]).replace('?','僰')\n",
    "        if str(row[\"渠道名称\"]).find('?')>=0:\n",
    "            row[\"渠道名称\"]=str(row[\"渠道名称\"]).replace('?','僰')\n",
    "        qx_path=path[0:l]+\"/拆分/\"+value\n",
    "        # print(qx_path)\n",
    "        fwzx_path=str(qx_path.rstrip())+'/'+str(row[\"服务中心\"])\n",
    "        # print(fwzx_path)\n",
    "        outpath = fwzx_path+\"/社会渠道费用-\" +str(row[\"渠道名称\"]) + \".xlsx\"\n",
    "        #创建到服务中心目录\n",
    "        if os.path.exists(outpath)==False:\n",
    "            if os.path.exists(qx_path)==False:\n",
    "                os.mkdir(qx_path)\n",
    "            if os.path.exists(fwzx_path)==False:\n",
    "                os.mkdir(fwzx_path)"
   ]
  },
  {
   "cell_type": "code",
   "execution_count": 10,
   "metadata": {},
   "outputs": [
    {
     "data": {
      "text/plain": [
       "'D:/酬金拆分/拆分/珙县分公司                                        '"
      ]
     },
     "execution_count": 10,
     "metadata": {},
     "output_type": "execute_result"
    }
   ],
   "source": [
    "qx_path"
   ]
  },
  {
   "cell_type": "code",
   "execution_count": 11,
   "metadata": {},
   "outputs": [],
   "source": [
    "dt_length=qx_path.rfind('/')"
   ]
  },
  {
   "cell_type": "code",
   "execution_count": 12,
   "metadata": {},
   "outputs": [
    {
     "data": {
      "text/plain": [
       "'D:/酬金拆分/拆分/'"
      ]
     },
     "execution_count": 12,
     "metadata": {},
     "output_type": "execute_result"
    }
   ],
   "source": [
    "dt=qx_path[0:dt_length+1]\n",
    "dt"
   ]
  },
  {
   "cell_type": "markdown",
   "metadata": {},
   "source": [
    "### ***df_qx表示区县的拆分数据***\n"
   ]
  },
  {
   "cell_type": "markdown",
   "metadata": {},
   "source": [
    "##### **处理僰王山格式问题的函数**"
   ]
  },
  {
   "cell_type": "code",
   "execution_count": 13,
   "metadata": {},
   "outputs": [],
   "source": [
    "def strHandle(value):\n",
    "        sss=str(value.replace('?','僰'))\n",
    "        return sss"
   ]
  },
  {
   "cell_type": "markdown",
   "metadata": {},
   "source": [
    "区县拆分"
   ]
  },
  {
   "cell_type": "code",
   "execution_count": 14,
   "metadata": {},
   "outputs": [],
   "source": [
    "for value in list_qx:\n",
    "    df_res = p_df[p_df['区县'] == value]\n",
    "    #区县结果路径\n",
    "    outpath=dt+value.strip()+'/'+value.strip()+'.xlsx'\n",
    "    df_res=df_res.sort_values(by=['区县','服务中心','渠道名称','一级科目'])\n",
    "    df_res.to_excel(outpath,index=False)\n"
   ]
  },
  {
   "cell_type": "markdown",
   "metadata": {},
   "source": [
    "服务中心拆分"
   ]
  },
  {
   "cell_type": "code",
   "execution_count": 15,
   "metadata": {},
   "outputs": [],
   "source": [
    "for value in list_fwzx:\n",
    "    df_res=p_df[p_df['服务中心'] == value]\n",
    "    qx_name=df_res.loc[:,'区县'].drop_duplicates()\n",
    "    #服务中心路径\n",
    "    if value.find('?')>=0:\n",
    "        value=strHandle(value)\n",
    "    #清空区县名左右空格\n",
    "    ss=str(qx_name.values[0])\n",
    "    ss=ss.strip()\n",
    "    #服务中心路径\n",
    "    outpath=dt+ss+'/'+value+'/'+value+'.xlsx'\n",
    "    df_res=df_res.sort_values(by=['区县','服务中心','渠道名称','一级科目'])\n",
    "    df_res.to_excel(outpath,index=False)"
   ]
  },
  {
   "cell_type": "markdown",
   "metadata": {},
   "source": [
    "渠道拆分"
   ]
  },
  {
   "cell_type": "code",
   "execution_count": 16,
   "metadata": {},
   "outputs": [
    {
     "name": "stdout",
     "output_type": "stream",
     "text": [
      "拆分完成\n"
     ]
    }
   ],
   "source": [
    "for value in list_channel:\n",
    "    df_res=p_df[p_df['渠道名称'] == value]\n",
    "    qx_name=df_res.loc[:,'区县'].drop_duplicates()\n",
    "    fwzx_name=df_res.loc[:,'服务中心'].drop_duplicates()\n",
    "    #渠道路径\n",
    "    if value.find('?')>=0:\n",
    "        value=strHandle(value)\n",
    "    #清空区县名左右空格\n",
    "    ss=str(qx_name.values[0])\n",
    "    ss=ss.strip()\n",
    "    #服务中心名称\n",
    "    sss=str(fwzx_name.values[0])\n",
    "    if sss.find('?')>=0:\n",
    "        sss=strHandle(sss)\n",
    "\n",
    "    #服务中心路径\n",
    "    outpath=dt+ss+'/'+sss\n",
    "    outpath=outpath+\"/社会渠道费用-\" +value + \".xlsx\"\n",
    "    df_res=df_res.sort_values(by=['区县','服务中心','渠道名称','一级科目'])\n",
    "    df_res.to_excel(outpath,index=False)\n",
    "\n",
    "print('拆分完成')"
   ]
  }
 ],
 "metadata": {
  "kernelspec": {
   "display_name": "Python 3.9.3 64-bit",
   "language": "python",
   "name": "python3"
  },
  "language_info": {
   "codemirror_mode": {
    "name": "ipython",
    "version": 3
   },
   "file_extension": ".py",
   "mimetype": "text/x-python",
   "name": "python",
   "nbconvert_exporter": "python",
   "pygments_lexer": "ipython3",
   "version": "3.9.3"
  },
  "orig_nbformat": 4,
  "vscode": {
   "interpreter": {
    "hash": "6fff98fc3b3d81bd655c2cc48858186e4d9e2db7b515bf1c3221888f12a62f87"
   }
  }
 },
 "nbformat": 4,
 "nbformat_minor": 2
}
